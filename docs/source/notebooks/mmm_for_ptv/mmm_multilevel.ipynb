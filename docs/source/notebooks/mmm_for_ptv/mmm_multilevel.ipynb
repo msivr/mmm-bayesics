{
 "cells": [
  {
   "cell_type": "code",
   "execution_count": 0,
   "metadata": {
    "application/vnd.databricks.v1+cell": {
     "cellMetadata": {
      "byteLimit": 2048000,
      "rowLimit": 10000
     },
     "inputWidgets": {},
     "nuid": "396bca08-38d1-44fe-b893-60d74bbac6a1",
     "showTitle": false,
     "tableResultSettingsMap": {},
     "title": ""
    }
   },
   "outputs": [],
   "source": [
    "import pymc as pm\n",
    "import pytensor.tensor as pt\n",
    "import pytensor.scan as scan\n",
    "import numpy as np\n",
    "import pandas as pd\n"
   ]
  },
  {
   "cell_type": "markdown",
   "metadata": {
    "application/vnd.databricks.v1+cell": {
     "cellMetadata": {
      "byteLimit": 2048000,
      "rowLimit": 10000
     },
     "inputWidgets": {},
     "nuid": "006492ee-ddd1-4cdc-bfaf-84218804b913",
     "showTitle": false,
     "tableResultSettingsMap": {},
     "title": ""
    }
   },
   "source": [
    "# Simulate Data"
   ]
  },
  {
   "cell_type": "code",
   "execution_count": 0,
   "metadata": {
    "application/vnd.databricks.v1+cell": {
     "cellMetadata": {
      "byteLimit": 2048000,
      "rowLimit": 10000
     },
     "inputWidgets": {},
     "nuid": "8eb4ada4-ac84-42f2-8cb9-5079456a6ecf",
     "showTitle": false,
     "tableResultSettingsMap": {},
     "title": ""
    }
   },
   "outputs": [
    {
     "output_type": "stream",
     "name": "stdout",
     "output_type": "stream",
     "text": [
      "true subchannel_betas: {'Publisher A': 0.5288854657397758, 'Publisher B': 0.46230630614893337, 'Network X': 0.48147365115861207, 'Network Y': 0.016975427253907216, 'Network Z': 0.07568303787752134}\ntrue channel_mu_alphas: {'Display': 0.3, 'Linear': 0.8}\ntrue channel_sigma_alphas: {'Display': 0.09621980976882652, 'Linear': 0.0985529122582684}\ntrue subchannel_alphas: {'Publisher A': 0.40531528533329036, 'Publisher B': 0.29604448461433447, 'Network X': 0.8681500697372625, 'Network Y': 0.8028318376130461, 'Network Z': 0.8029756139495746}\n"
     ]
    },
    {
     "output_type": "display_data",
     "data": {
      "text/html": [
       "<style scoped>\n",
       "  .table-result-container {\n",
       "    max-height: 300px;\n",
       "    overflow: auto;\n",
       "  }\n",
       "  table, th, td {\n",
       "    border: 1px solid black;\n",
       "    border-collapse: collapse;\n",
       "  }\n",
       "  th, td {\n",
       "    padding: 5px;\n",
       "  }\n",
       "  th {\n",
       "    text-align: left;\n",
       "  }\n",
       "</style><div class='table-result-container'><table class='table-result'><thead style='background-color: white'><tr><th>date</th><th>channel</th><th>subchannel</th><th>spend</th><th>y</th></tr></thead><tbody><tr><td>2024-01-01T00:00:00Z</td><td>Display</td><td>Publisher A</td><td>71.8103816960771</td><td>140.02739387148964</td></tr><tr><td>2024-01-01T00:00:00Z</td><td>Display</td><td>Publisher B</td><td>44.83394190646763</td><td>140.02739387148964</td></tr><tr><td>2024-01-01T00:00:00Z</td><td>Linear</td><td>Network X</td><td>41.46850753112861</td><td>140.02739387148964</td></tr><tr><td>2024-01-01T00:00:00Z</td><td>Linear</td><td>Network Y</td><td>41.46906882995402</td><td>140.02739387148964</td></tr><tr><td>2024-01-01T00:00:00Z</td><td>Linear</td><td>Network Z</td><td>139.49143236691953</td><td>140.02739387148964</td></tr><tr><td>2024-01-02T00:00:00Z</td><td>Display</td><td>Publisher A</td><td>86.00118692892667</td><td>196.20859046845362</td></tr><tr><td>2024-01-02T00:00:00Z</td><td>Display</td><td>Publisher B</td><td>33.93234005222697</td><td>196.20859046845362</td></tr><tr><td>2024-01-02T00:00:00Z</td><td>Linear</td><td>Network X</td><td>74.0944342029364</td><td>196.20859046845362</td></tr><tr><td>2024-01-02T00:00:00Z</td><td>Linear</td><td>Network Y</td><td>59.96880792193941</td><td>196.20859046845362</td></tr><tr><td>2024-01-02T00:00:00Z</td><td>Linear</td><td>Network Z</td><td>6.477448304717562</td><td>196.20859046845362</td></tr><tr><td>2024-01-03T00:00:00Z</td><td>Display</td><td>Publisher A</td><td>20.13726848063119</td><td>241.659404436812</td></tr><tr><td>2024-01-03T00:00:00Z</td><td>Display</td><td>Publisher B</td><td>63.184969120444904</td><td>241.659404436812</td></tr><tr><td>2024-01-03T00:00:00Z</td><td>Linear</td><td>Network X</td><td>130.95530602450586</td><td>241.659404436812</td></tr><tr><td>2024-01-03T00:00:00Z</td><td>Linear</td><td>Network Y</td><td>41.755565548774385</td><td>241.659404436812</td></tr><tr><td>2024-01-03T00:00:00Z</td><td>Linear</td><td>Network Z</td><td>31.74082317162911</td><td>241.659404436812</td></tr><tr><td>2024-01-04T00:00:00Z</td><td>Display</td><td>Publisher A</td><td>54.42022624416497</td><td>242.8734041322855</td></tr><tr><td>2024-01-04T00:00:00Z</td><td>Display</td><td>Publisher B</td><td>30.158534421542928</td><td>242.8734041322855</td></tr><tr><td>2024-01-04T00:00:00Z</td><td>Linear</td><td>Network X</td><td>39.53224143417565</td><td>242.8734041322855</td></tr><tr><td>2024-01-04T00:00:00Z</td><td>Linear</td><td>Network Y</td><td>49.47907436820794</td><td>242.8734041322855</td></tr><tr><td>2024-01-04T00:00:00Z</td><td>Linear</td><td>Network Z</td><td>19.204119145316508</td><td>242.8734041322855</td></tr><tr><td>2024-01-05T00:00:00Z</td><td>Display</td><td>Publisher A</td><td>89.10180282639418</td><td>251.46632490331018</td></tr><tr><td>2024-01-05T00:00:00Z</td><td>Display</td><td>Publisher B</td><td>16.055443388371202</td><td>251.46632490331018</td></tr><tr><td>2024-01-05T00:00:00Z</td><td>Linear</td><td>Network X</td><td>14.183803315040201</td><td>251.46632490331018</td></tr><tr><td>2024-01-05T00:00:00Z</td><td>Linear</td><td>Network Y</td><td>58.018512536644046</td><td>251.46632490331018</td></tr><tr><td>2024-01-05T00:00:00Z</td><td>Linear</td><td>Network Z</td><td>84.40061423937152</td><td>251.46632490331018</td></tr><tr><td>2024-01-06T00:00:00Z</td><td>Display</td><td>Publisher A</td><td>56.935067230712114</td><td>264.01753879116</td></tr><tr><td>2024-01-06T00:00:00Z</td><td>Display</td><td>Publisher B</td><td>45.653375312538024</td><td>264.01753879116</td></tr><tr><td>2024-01-06T00:00:00Z</td><td>Linear</td><td>Network X</td><td>39.22144304950423</td><td>264.01753879116</td></tr><tr><td>2024-01-06T00:00:00Z</td><td>Linear</td><td>Network Y</td><td>34.19729492059951</td><td>264.01753879116</td></tr><tr><td>2024-01-06T00:00:00Z</td><td>Linear</td><td>Network Z</td><td>103.13397901558348</td><td>264.01753879116</td></tr><tr><td>2024-01-07T00:00:00Z</td><td>Display</td><td>Publisher A</td><td>63.631318181697665</td><td>266.8788978327198</td></tr><tr><td>2024-01-07T00:00:00Z</td><td>Display</td><td>Publisher B</td><td>36.519564409759624</td><td>266.8788978327198</td></tr><tr><td>2024-01-07T00:00:00Z</td><td>Linear</td><td>Network X</td><td>28.098195879346715</td><td>266.8788978327198</td></tr><tr><td>2024-01-07T00:00:00Z</td><td>Linear</td><td>Network Y</td><td>77.62856870123622</td><td>266.8788978327198</td></tr><tr><td>2024-01-07T00:00:00Z</td><td>Linear</td><td>Network Z</td><td>101.50325020206652</td><td>266.8788978327198</td></tr><tr><td>2024-01-08T00:00:00Z</td><td>Display</td><td>Publisher A</td><td>95.43629345408665</td><td>280.56074146245015</td></tr><tr><td>2024-01-08T00:00:00Z</td><td>Display</td><td>Publisher B</td><td>24.03141144634041</td><td>280.56074146245015</td></tr><tr><td>2024-01-08T00:00:00Z</td><td>Linear</td><td>Network X</td><td>38.95493403862873</td><td>280.56074146245015</td></tr><tr><td>2024-01-08T00:00:00Z</td><td>Linear</td><td>Network Y</td><td>33.643049025602956</td><td>280.56074146245015</td></tr><tr><td>2024-01-08T00:00:00Z</td><td>Linear</td><td>Network Z</td><td>43.14864347357966</td><td>280.56074146245015</td></tr><tr><td>2024-01-09T00:00:00Z</td><td>Display</td><td>Publisher A</td><td>88.53265570089769</td><td>343.6017699167735</td></tr><tr><td>2024-01-09T00:00:00Z</td><td>Display</td><td>Publisher B</td><td>123.06787371621631</td><td>343.6017699167735</td></tr><tr><td>2024-01-09T00:00:00Z</td><td>Linear</td><td>Network X</td><td>65.35461420925496</td><td>343.6017699167735</td></tr><tr><td>2024-01-09T00:00:00Z</td><td>Linear</td><td>Network Y</td><td>28.945338692766516</td><td>343.6017699167735</td></tr><tr><td>2024-01-09T00:00:00Z</td><td>Linear</td><td>Network Z</td><td>48.625258946667124</td><td>343.6017699167735</td></tr><tr><td>2024-01-10T00:00:00Z</td><td>Display</td><td>Publisher A</td><td>138.37618605220754</td><td>354.4701640756453</td></tr><tr><td>2024-01-10T00:00:00Z</td><td>Display</td><td>Publisher B</td><td>53.44765804661559</td><td>354.4701640756453</td></tr><tr><td>2024-01-10T00:00:00Z</td><td>Linear</td><td>Network X</td><td>39.290541077267314</td><td>354.4701640756453</td></tr><tr><td>2024-01-10T00:00:00Z</td><td>Linear</td><td>Network Y</td><td>41.96557835403836</td><td>354.4701640756453</td></tr><tr><td>2024-01-10T00:00:00Z</td><td>Linear</td><td>Network Z</td><td>65.14540092144037</td><td>354.4701640756453</td></tr><tr><td>2024-01-11T00:00:00Z</td><td>Display</td><td>Publisher A</td><td>24.76895203515788</td><td>318.8171879364081</td></tr><tr><td>2024-01-11T00:00:00Z</td><td>Display</td><td>Publisher B</td><td>32.97591354370088</td><td>318.8171879364081</td></tr><tr><td>2024-01-11T00:00:00Z</td><td>Linear</td><td>Network X</td><td>94.49317180722751</td><td>318.8171879364081</td></tr><tr><td>2024-01-11T00:00:00Z</td><td>Linear</td><td>Network Y</td><td>63.84382845969193</td><td>318.8171879364081</td></tr><tr><td>2024-01-11T00:00:00Z</td><td>Linear</td><td>Network Z</td><td>53.8548252143664</td><td>318.8171879364081</td></tr><tr><td>2024-01-12T00:00:00Z</td><td>Display</td><td>Publisher A</td><td>97.68040694037101</td><td>328.5209023001466</td></tr><tr><td>2024-01-12T00:00:00Z</td><td>Display</td><td>Publisher B</td><td>27.44057351344576</td><td>328.5209023001466</td></tr><tr><td>2024-01-12T00:00:00Z</td><td>Linear</td><td>Network X</td><td>38.35304751692941</td><td>328.5209023001466</td></tr><tr><td>2024-01-12T00:00:00Z</td><td>Linear</td><td>Network Y</td><td>62.36790914344182</td><td>328.5209023001466</td></tr><tr><td>2024-01-12T00:00:00Z</td><td>Linear</td><td>Network Z</td><td>60.80743771792089</td><td>328.5209023001466</td></tr><tr><td>2024-01-13T00:00:00Z</td><td>Display</td><td>Publisher A</td><td>12.775367228952392</td><td>294.0389855476548</td></tr><tr><td>2024-01-13T00:00:00Z</td><td>Display</td><td>Publisher B</td><td>35.41384240815344</td><td>294.0389855476548</td></tr><tr><td>2024-01-13T00:00:00Z</td><td>Linear</td><td>Network X</td><td>44.00995111084819</td><td>294.0389855476548</td></tr><tr><td>2024-01-13T00:00:00Z</td><td>Linear</td><td>Network Y</td><td>67.33816626095303</td><td>294.0389855476548</td></tr><tr><td>2024-01-13T00:00:00Z</td><td>Linear</td><td>Network Z</td><td>60.65290924552799</td><td>294.0389855476548</td></tr><tr><td>2024-01-14T00:00:00Z</td><td>Display</td><td>Publisher A</td><td>47.17178892003926</td><td>299.03255377577676</td></tr><tr><td>2024-01-14T00:00:00Z</td><td>Display</td><td>Publisher B</td><td>6.423152457180019</td><td>299.03255377577676</td></tr><tr><td>2024-01-14T00:00:00Z</td><td>Linear</td><td>Network X</td><td>48.98013583354381</td><td>299.03255377577676</td></tr><tr><td>2024-01-14T00:00:00Z</td><td>Linear</td><td>Network Y</td><td>52.3691708335567</td><td>299.03255377577676</td></tr><tr><td>2024-01-14T00:00:00Z</td><td>Linear</td><td>Network Z</td><td>218.93993366348613</td><td>299.03255377577676</td></tr><tr><td>2024-01-15T00:00:00Z</td><td>Display</td><td>Publisher A</td><td>42.91379317891899</td><td>354.72305616467787</td></tr><tr><td>2024-01-15T00:00:00Z</td><td>Display</td><td>Publisher B</td><td>62.611785673919925</td><td>354.72305616467787</td></tr><tr><td>2024-01-15T00:00:00Z</td><td>Linear</td><td>Network X</td><td>108.60638276642895</td><td>354.72305616467787</td></tr><tr><td>2024-01-15T00:00:00Z</td><td>Linear</td><td>Network Y</td><td>85.14218089417082</td><td>354.72305616467787</td></tr><tr><td>2024-01-15T00:00:00Z</td><td>Linear</td><td>Network Z</td><td>126.38413741834438</td><td>354.72305616467787</td></tr><tr><td>2024-01-16T00:00:00Z</td><td>Display</td><td>Publisher A</td><td>12.987366582230592</td><td>310.93040306268705</td></tr><tr><td>2024-01-16T00:00:00Z</td><td>Display</td><td>Publisher B</td><td>20.611856824809767</td><td>310.93040306268705</td></tr><tr><td>2024-01-16T00:00:00Z</td><td>Linear</td><td>Network X</td><td>31.118011333266807</td><td>310.93040306268705</td></tr><tr><td>2024-01-16T00:00:00Z</td><td>Linear</td><td>Network Y</td><td>10.77951584556764</td><td>310.93040306268705</td></tr><tr><td>2024-01-16T00:00:00Z</td><td>Linear</td><td>Network Z</td><td>52.70271880824443</td><td>310.93040306268705</td></tr><tr><td>2024-01-17T00:00:00Z</td><td>Display</td><td>Publisher A</td><td>22.175331317115507</td><td>347.65964384590336</td></tr><tr><td>2024-01-17T00:00:00Z</td><td>Display</td><td>Publisher B</td><td>137.2562624004627</td><td>347.65964384590336</td></tr><tr><td>2024-01-17T00:00:00Z</td><td>Linear</td><td>Network X</td><td>25.386026413358675</td><td>347.65964384590336</td></tr><tr><td>2024-01-17T00:00:00Z</td><td>Linear</td><td>Network Y</td><td>38.535096536089185</td><td>347.65964384590336</td></tr><tr><td>2024-01-17T00:00:00Z</td><td>Linear</td><td>Network Z</td><td>88.58886479112758</td><td>347.65964384590336</td></tr><tr><td>2024-01-18T00:00:00Z</td><td>Display</td><td>Publisher A</td><td>15.874141709024805</td><td>305.1313183575435</td></tr><tr><td>2024-01-18T00:00:00Z</td><td>Display</td><td>Publisher B</td><td>10.007494947299733</td><td>305.1313183575435</td></tr><tr><td>2024-01-18T00:00:00Z</td><td>Linear</td><td>Network X</td><td>57.49715231332837</td><td>305.1313183575435</td></tr><tr><td>2024-01-18T00:00:00Z</td><td>Linear</td><td>Network Y</td><td>60.75571457249259</td><td>305.1313183575435</td></tr><tr><td>2024-01-18T00:00:00Z</td><td>Linear</td><td>Network Z</td><td>86.80363919471492</td><td>305.1313183575435</td></tr><tr><td>2024-01-19T00:00:00Z</td><td>Display</td><td>Publisher A</td><td>73.06131660083244</td><td>333.4952524327863</td></tr><tr><td>2024-01-19T00:00:00Z</td><td>Display</td><td>Publisher B</td><td>62.40671011710867</td><td>333.4952524327863</td></tr><tr><td>2024-01-19T00:00:00Z</td><td>Linear</td><td>Network X</td><td>28.01644250862679</td><td>333.4952524327863</td></tr><tr><td>2024-01-19T00:00:00Z</td><td>Linear</td><td>Network Y</td><td>59.545347349108326</td><td>333.4952524327863</td></tr><tr><td>2024-01-19T00:00:00Z</td><td>Linear</td><td>Network Z</td><td>62.231227804821074</td><td>333.4952524327863</td></tr><tr><td>2024-01-20T00:00:00Z</td><td>Display</td><td>Publisher A</td><td>27.12252878425553</td><td>382.5773083795075</td></tr><tr><td>2024-01-20T00:00:00Z</td><td>Display</td><td>Publisher B</td><td>162.6622655933528</td><td>382.5773083795075</td></tr><tr><td>2024-01-20T00:00:00Z</td><td>Linear</td><td>Network X</td><td>70.68820712304328</td><td>382.5773083795075</td></tr><tr><td>2024-01-20T00:00:00Z</td><td>Linear</td><td>Network Y</td><td>20.953852364111896</td><td>382.5773083795075</td></tr><tr><td>2024-01-20T00:00:00Z</td><td>Linear</td><td>Network Z</td><td>87.09833715606786</td><td>382.5773083795075</td></tr><tr><td>2024-01-21T00:00:00Z</td><td>Display</td><td>Publisher A</td><td>97.36185421211698</td><td>378.4978091426351</td></tr><tr><td>2024-01-21T00:00:00Z</td><td>Display</td><td>Publisher B</td><td>67.75135046284247</td><td>378.4978091426351</td></tr><tr><td>2024-01-21T00:00:00Z</td><td>Linear</td><td>Network X</td><td>41.085595144167904</td><td>378.4978091426351</td></tr><tr><td>2024-01-21T00:00:00Z</td><td>Linear</td><td>Network Y</td><td>26.120560381386294</td><td>378.4978091426351</td></tr><tr><td>2024-01-21T00:00:00Z</td><td>Linear</td><td>Network Z</td><td>47.072915890562946</td><td>378.4978091426351</td></tr><tr><td>2024-01-22T00:00:00Z</td><td>Display</td><td>Publisher A</td><td>64.41077837166905</td><td>393.92042522174506</td></tr><tr><td>2024-01-22T00:00:00Z</td><td>Display</td><td>Publisher B</td><td>50.50525349074947</td><td>393.92042522174506</td></tr><tr><td>2024-01-22T00:00:00Z</td><td>Linear</td><td>Network X</td><td>130.06581650962846</td><td>393.92042522174506</td></tr><tr><td>2024-01-22T00:00:00Z</td><td>Linear</td><td>Network Y</td><td>78.35738507541167</td><td>393.92042522174506</td></tr><tr><td>2024-01-22T00:00:00Z</td><td>Linear</td><td>Network Z</td><td>23.607601631337957</td><td>393.92042522174506</td></tr><tr><td>2024-01-23T00:00:00Z</td><td>Display</td><td>Publisher A</td><td>18.935629644876713</td><td>365.6518293023193</td></tr><tr><td>2024-01-23T00:00:00Z</td><td>Display</td><td>Publisher B</td><td>71.11053345051874</td><td>365.6518293023193</td></tr><tr><td>2024-01-23T00:00:00Z</td><td>Linear</td><td>Network X</td><td>41.83507577908052</td><td>365.6518293023193</td></tr><tr><td>2024-01-23T00:00:00Z</td><td>Linear</td><td>Network Y</td><td>83.06436438568079</td><td>365.6518293023193</td></tr><tr><td>2024-01-23T00:00:00Z</td><td>Linear</td><td>Network Z</td><td>70.65916885759476</td><td>365.6518293023193</td></tr><tr><td>2024-01-24T00:00:00Z</td><td>Display</td><td>Publisher A</td><td>47.23205638278781</td><td>323.8676042048405</td></tr><tr><td>2024-01-24T00:00:00Z</td><td>Display</td><td>Publisher B</td><td>23.851820431801702</td><td>323.8676042048405</td></tr><tr><td>2024-01-24T00:00:00Z</td><td>Linear</td><td>Network X</td><td>11.285991740595659</td><td>323.8676042048405</td></tr><tr><td>2024-01-24T00:00:00Z</td><td>Linear</td><td>Network Y</td><td>58.75862225093369</td><td>323.8676042048405</td></tr><tr><td>2024-01-24T00:00:00Z</td><td>Linear</td><td>Network Z</td><td>15.607546008570965</td><td>323.8676042048405</td></tr><tr><td>2024-01-25T00:00:00Z</td><td>Display</td><td>Publisher A</td><td>22.986123882170915</td><td>325.62609688464414</td></tr><tr><td>2024-01-25T00:00:00Z</td><td>Display</td><td>Publisher B</td><td>56.19318839959944</td><td>325.62609688464414</td></tr><tr><td>2024-01-25T00:00:00Z</td><td>Linear</td><td>Network X</td><td>52.28846626557876</td><td>325.62609688464414</td></tr><tr><td>2024-01-25T00:00:00Z</td><td>Linear</td><td>Network Y</td><td>17.51165869420446</td><td>325.62609688464414</td></tr><tr><td>2024-01-25T00:00:00Z</td><td>Linear</td><td>Network Z</td><td>104.7697969057066</td><td>325.62609688464414</td></tr><tr><td>2024-01-26T00:00:00Z</td><td>Display</td><td>Publisher A</td><td>102.92575291345226</td><td>387.2235070963725</td></tr><tr><td>2024-01-26T00:00:00Z</td><td>Display</td><td>Publisher B</td><td>72.71742625127594</td><td>387.2235070963725</td></tr><tr><td>2024-01-26T00:00:00Z</td><td>Linear</td><td>Network X</td><td>72.65533362293942</td><td>387.2235070963725</td></tr><tr><td>2024-01-26T00:00:00Z</td><td>Linear</td><td>Network Y</td><td>72.71804367392194</td><td>387.2235070963725</td></tr><tr><td>2024-01-26T00:00:00Z</td><td>Linear</td><td>Network Z</td><td>96.7967984057119</td><td>387.2235070963725</td></tr><tr><td>2024-01-27T00:00:00Z</td><td>Display</td><td>Publisher A</td><td>79.70926082484746</td><td>363.3163638436309</td></tr><tr><td>2024-01-27T00:00:00Z</td><td>Display</td><td>Publisher B</td><td>25.643934322426087</td><td>363.3163638436309</td></tr><tr><td>2024-01-27T00:00:00Z</td><td>Linear</td><td>Network X</td><td>41.377454421129606</td><td>363.3163638436309</td></tr><tr><td>2024-01-27T00:00:00Z</td><td>Linear</td><td>Network Y</td><td>203.89596594673463</td><td>363.3163638436309</td></tr><tr><td>2024-01-27T00:00:00Z</td><td>Linear</td><td>Network Z</td><td>6.944529572138106</td><td>363.3163638436309</td></tr><tr><td>2024-01-28T00:00:00Z</td><td>Display</td><td>Publisher A</td><td>33.85889128408372</td><td>358.7350307242944</td></tr><tr><td>2024-01-28T00:00:00Z</td><td>Display</td><td>Publisher B</td><td>105.14437668084888</td><td>358.7350307242944</td></tr><tr><td>2024-01-28T00:00:00Z</td><td>Linear</td><td>Network X</td><td>27.098004787075098</td><td>358.7350307242944</td></tr><tr><td>2024-01-28T00:00:00Z</td><td>Linear</td><td>Network Y</td><td>81.2093786504767</td><td>358.7350307242944</td></tr><tr><td>2024-01-28T00:00:00Z</td><td>Linear</td><td>Network Z</td><td>51.785839151905655</td><td>358.7350307242944</td></tr><tr><td>2024-01-29T00:00:00Z</td><td>Display</td><td>Publisher A</td><td>28.771347510889267</td><td>312.25716399039214</td></tr><tr><td>2024-01-29T00:00:00Z</td><td>Display</td><td>Publisher B</td><td>5.430336513634758</td><td>312.25716399039214</td></tr><tr><td>2024-01-29T00:00:00Z</td><td>Linear</td><td>Network X</td><td>57.57457559806404</td><td>312.25716399039214</td></tr><tr><td>2024-01-29T00:00:00Z</td><td>Linear</td><td>Network Y</td><td>25.15827964448533</td><td>312.25716399039214</td></tr><tr><td>2024-01-29T00:00:00Z</td><td>Linear</td><td>Network Z</td><td>45.68662125824423</td><td>312.25716399039214</td></tr><tr><td>2024-01-30T00:00:00Z</td><td>Display</td><td>Publisher A</td><td>72.21902909777327</td><td>347.79642835257425</td></tr><tr><td>2024-01-30T00:00:00Z</td><td>Display</td><td>Publisher B</td><td>91.58436895041234</td><td>347.79642835257425</td></tr><tr><td>2024-01-30T00:00:00Z</td><td>Linear</td><td>Network X</td><td>33.768970673220714</td><td>347.79642835257425</td></tr><tr><td>2024-01-30T00:00:00Z</td><td>Linear</td><td>Network Y</td><td>28.72504845972503</td><td>347.79642835257425</td></tr><tr><td>2024-01-30T00:00:00Z</td><td>Linear</td><td>Network Z</td><td>15.339182337848902</td><td>347.79642835257425</td></tr><tr><td>2024-01-31T00:00:00Z</td><td>Display</td><td>Publisher A</td><td>94.6388721718925</td><td>444.16238558439403</td></tr><tr><td>2024-01-31T00:00:00Z</td><td>Display</td><td>Publisher B</td><td>185.45177926525827</td><td>444.16238558439403</td></tr><tr><td>2024-01-31T00:00:00Z</td><td>Linear</td><td>Network X</td><td>101.59429149599003</td><td>444.16238558439403</td></tr><tr><td>2024-01-31T00:00:00Z</td><td>Linear</td><td>Network Y</td><td>116.86803157928101</td><td>444.16238558439403</td></tr><tr><td>2024-01-31T00:00:00Z</td><td>Linear</td><td>Network Z</td><td>27.295022865669473</td><td>444.16238558439403</td></tr><tr><td>2024-02-01T00:00:00Z</td><td>Display</td><td>Publisher A</td><td>69.2340499516702</td><td>390.1619693188034</td></tr><tr><td>2024-02-01T00:00:00Z</td><td>Display</td><td>Publisher B</td><td>86.40208496882332</td><td>390.1619693188034</td></tr><tr><td>2024-02-01T00:00:00Z</td><td>Linear</td><td>Network X</td><td>19.89415792293964</td><td>390.1619693188034</td></tr><tr><td>2024-02-01T00:00:00Z</td><td>Linear</td><td>Network Y</td><td>143.61456438797885</td><td>390.1619693188034</td></tr><tr><td>2024-02-01T00:00:00Z</td><td>Linear</td><td>Network Z</td><td>12.5464030080295</td><td>390.1619693188034</td></tr><tr><td>2024-02-02T00:00:00Z</td><td>Display</td><td>Publisher A</td><td>129.16971047687352</td><td>363.0755608903171</td></tr><tr><td>2024-02-02T00:00:00Z</td><td>Display</td><td>Publisher B</td><td>12.458463830907625</td><td>363.0755608903171</td></tr><tr><td>2024-02-02T00:00:00Z</td><td>Linear</td><td>Network X</td><td>20.80612979834325</td><td>363.0755608903171</td></tr><tr><td>2024-02-02T00:00:00Z</td><td>Linear</td><td>Network Y</td><td>70.11751479409013</td><td>363.0755608903171</td></tr><tr><td>2024-02-02T00:00:00Z</td><td>Linear</td><td>Network Z</td><td>52.75243914815838</td><td>363.0755608903171</td></tr><tr><td>2024-02-03T00:00:00Z</td><td>Display</td><td>Publisher A</td><td>36.51229899531033</td><td>359.5163938802317</td></tr><tr><td>2024-02-03T00:00:00Z</td><td>Display</td><td>Publisher B</td><td>140.0143141616952</td><td>359.5163938802317</td></tr><tr><td>2024-02-03T00:00:00Z</td><td>Linear</td><td>Network X</td><td>15.749180643061736</td><td>359.5163938802317</td></tr><tr><td>2024-02-03T00:00:00Z</td><td>Linear</td><td>Network Y</td><td>44.34876601678979</td><td>359.5163938802317</td></tr><tr><td>2024-02-03T00:00:00Z</td><td>Linear</td><td>Network Z</td><td>76.42185271496714</td><td>359.5163938802317</td></tr><tr><td>2024-02-04T00:00:00Z</td><td>Display</td><td>Publisher A</td><td>61.69142730615095</td><td>318.5095268614002</td></tr><tr><td>2024-02-04T00:00:00Z</td><td>Display</td><td>Publisher B</td><td>29.552687136058783</td><td>318.5095268614002</td></tr><tr><td>2024-02-04T00:00:00Z</td><td>Linear</td><td>Network X</td><td>30.471317518963104</td><td>318.5095268614002</td></tr><tr><td>2024-02-04T00:00:00Z</td><td>Linear</td><td>Network Y</td><td>90.65099766776318</td><td>318.5095268614002</td></tr><tr><td>2024-02-04T00:00:00Z</td><td>Linear</td><td>Network Z</td><td>93.56073956597311</td><td>318.5095268614002</td></tr><tr><td>2024-02-05T00:00:00Z</td><td>Display</td><td>Publisher A</td><td>62.8709649848657</td><td>299.7494728393767</td></tr><tr><td>2024-02-05T00:00:00Z</td><td>Display</td><td>Publisher B</td><td>24.27515811496569</td><td>299.7494728393767</td></tr><tr><td>2024-02-05T00:00:00Z</td><td>Linear</td><td>Network X</td><td>31.291016757350665</td><td>299.7494728393767</td></tr><tr><td>2024-02-05T00:00:00Z</td><td>Linear</td><td>Network Y</td><td>49.19484565390583</td><td>299.7494728393767</td></tr><tr><td>2024-02-05T00:00:00Z</td><td>Linear</td><td>Network Z</td><td>54.68311721754667</td><td>299.7494728393767</td></tr><tr><td>2024-02-06T00:00:00Z</td><td>Display</td><td>Publisher A</td><td>74.32308355434266</td><td>339.3799590056766</td></tr><tr><td>2024-02-06T00:00:00Z</td><td>Display</td><td>Publisher B</td><td>42.57081667929538</td><td>339.3799590056766</td></tr><tr><td>2024-02-06T00:00:00Z</td><td>Linear</td><td>Network X</td><td>89.26536697506664</td><td>339.3799590056766</td></tr><tr><td>2024-02-06T00:00:00Z</td><td>Linear</td><td>Network Y</td><td>88.5884348602354</td><td>339.3799590056766</td></tr><tr><td>2024-02-06T00:00:00Z</td><td>Linear</td><td>Network Z</td><td>119.51861049235573</td><td>339.3799590056766</td></tr><tr><td>2024-02-07T00:00:00Z</td><td>Display</td><td>Publisher A</td><td>50.81789487710873</td><td>347.49580919665755</td></tr><tr><td>2024-02-07T00:00:00Z</td><td>Display</td><td>Publisher B</td><td>63.63506526079917</td><td>347.49580919665755</td></tr><tr><td>2024-02-07T00:00:00Z</td><td>Linear</td><td>Network X</td><td>45.12705619842295</td><td>347.49580919665755</td></tr><tr><td>2024-02-07T00:00:00Z</td><td>Linear</td><td>Network Y</td><td>24.53384047550997</td><td>347.49580919665755</td></tr><tr><td>2024-02-07T00:00:00Z</td><td>Linear</td><td>Network Z</td><td>182.70288659505388</td><td>347.49580919665755</td></tr><tr><td>2024-02-08T00:00:00Z</td><td>Display</td><td>Publisher A</td><td>109.6025018402712</td><td>390.4910072577198</td></tr><tr><td>2024-02-08T00:00:00Z</td><td>Display</td><td>Publisher B</td><td>87.3552878535565</td><td>390.4910072577198</td></tr><tr><td>2024-02-08T00:00:00Z</td><td>Linear</td><td>Network X</td><td>49.527182780765706</td><td>390.4910072577198</td></tr><tr><td>2024-02-08T00:00:00Z</td><td>Linear</td><td>Network Y</td><td>22.678443126328816</td><td>390.4910072577198</td></tr><tr><td>2024-02-08T00:00:00Z</td><td>Linear</td><td>Network Z</td><td>98.07281728659608</td><td>390.4910072577198</td></tr><tr><td>2024-02-09T00:00:00Z</td><td>Display</td><td>Publisher A</td><td>44.51801372108514</td><td>350.26331595191516</td></tr><tr><td>2024-02-09T00:00:00Z</td><td>Display</td><td>Publisher B</td><td>67.75848953166944</td><td>350.26331595191516</td></tr><tr><td>2024-02-09T00:00:00Z</td><td>Linear</td><td>Network X</td><td>31.190713561694196</td><td>350.26331595191516</td></tr><tr><td>2024-02-09T00:00:00Z</td><td>Linear</td><td>Network Y</td><td>60.1002525493496</td><td>350.26331595191516</td></tr><tr><td>2024-02-09T00:00:00Z</td><td>Linear</td><td>Network Z</td><td>32.82396187860735</td><td>350.26331595191516</td></tr><tr><td>2024-02-10T00:00:00Z</td><td>Display</td><td>Publisher A</td><td>33.88558559300108</td><td>309.60794728190785</td></tr><tr><td>2024-02-10T00:00:00Z</td><td>Display</td><td>Publisher B</td><td>59.5364813475053</td><td>309.60794728190785</td></tr><tr><td>2024-02-10T00:00:00Z</td><td>Linear</td><td>Network X</td><td>12.27196425281726</td><td>309.60794728190785</td></tr><tr><td>2024-02-10T00:00:00Z</td><td>Linear</td><td>Network Y</td><td>12.899072358243618</td><td>309.60794728190785</td></tr><tr><td>2024-02-10T00:00:00Z</td><td>Linear</td><td>Network Z</td><td>27.017233137087644</td><td>309.60794728190785</td></tr><tr><td>2024-02-11T00:00:00Z</td><td>Display</td><td>Publisher A</td><td>42.18045463653176</td><td>320.548183180782</td></tr><tr><td>2024-02-11T00:00:00Z</td><td>Display</td><td>Publisher B</td><td>91.11578738658861</td><td>320.548183180782</td></tr><tr><td>2024-02-11T00:00:00Z</td><td>Linear</td><td>Network X</td><td>44.0578894900501</td><td>320.548183180782</td></tr><tr><td>2024-02-11T00:00:00Z</td><td>Linear</td><td>Network Y</td><td>49.286411227185255</td><td>320.548183180782</td></tr><tr><td>2024-02-11T00:00:00Z</td><td>Linear</td><td>Network Z</td><td>39.632836301442566</td><td>320.548183180782</td></tr><tr><td>2024-02-12T00:00:00Z</td><td>Display</td><td>Publisher A</td><td>63.569235892159554</td><td>306.40139503517287</td></tr><tr><td>2024-02-12T00:00:00Z</td><td>Display</td><td>Publisher B</td><td>24.31738676180174</td><td>306.40139503517287</td></tr><tr><td>2024-02-12T00:00:00Z</td><td>Linear</td><td>Network X</td><td>45.90491802003248</td><td>306.40139503517287</td></tr><tr><td>2024-02-12T00:00:00Z</td><td>Linear</td><td>Network Y</td><td>67.22774377717734</td><td>306.40139503517287</td></tr><tr><td>2024-02-12T00:00:00Z</td><td>Linear</td><td>Network Z</td><td>59.190924246978106</td><td>306.40139503517287</td></tr><tr><td>2024-02-13T00:00:00Z</td><td>Display</td><td>Publisher A</td><td>50.48928898927748</td><td>322.40778650225445</td></tr><tr><td>2024-02-13T00:00:00Z</td><td>Display</td><td>Publisher B</td><td>50.95529512638949</td><td>322.40778650225445</td></tr><tr><td>2024-02-13T00:00:00Z</td><td>Linear</td><td>Network X</td><td>71.87370980435318</td><td>322.40778650225445</td></tr><tr><td>2024-02-13T00:00:00Z</td><td>Linear</td><td>Network Y</td><td>188.34597590636844</td><td>322.40778650225445</td></tr><tr><td>2024-02-13T00:00:00Z</td><td>Linear</td><td>Network Z</td><td>25.780105000565065</td><td>322.40778650225445</td></tr><tr><td>2024-02-14T00:00:00Z</td><td>Display</td><td>Publisher A</td><td>191.8005698035517</td><td>365.45072984519265</td></tr><tr><td>2024-02-14T00:00:00Z</td><td>Display</td><td>Publisher B</td><td>24.77368833987858</td><td>365.45072984519265</td></tr><tr><td>2024-02-14T00:00:00Z</td><td>Linear</td><td>Network X</td><td>4.605404858369432</td><td>365.45072984519265</td></tr><tr><td>2024-02-14T00:00:00Z</td><td>Linear</td><td>Network Y</td><td>32.27670028359476</td><td>365.45072984519265</td></tr><tr><td>2024-02-14T00:00:00Z</td><td>Linear</td><td>Network Z</td><td>64.43847782506052</td><td>365.45072984519265</td></tr><tr><td>2024-02-15T00:00:00Z</td><td>Display</td><td>Publisher A</td><td>163.54790447940613</td><td>398.2034463494492</td></tr><tr><td>2024-02-15T00:00:00Z</td><td>Display</td><td>Publisher B</td><td>22.651925050564458</td><td>398.2034463494492</td></tr><tr><td>2024-02-15T00:00:00Z</td><td>Linear</td><td>Network X</td><td>71.57424286808354</td><td>398.2034463494492</td></tr><tr><td>2024-02-15T00:00:00Z</td><td>Linear</td><td>Network Y</td><td>14.317198339498175</td><td>398.2034463494492</td></tr><tr><td>2024-02-15T00:00:00Z</td><td>Linear</td><td>Network Z</td><td>159.76169064900628</td><td>398.2034463494492</td></tr><tr><td>2024-02-16T00:00:00Z</td><td>Display</td><td>Publisher A</td><td>111.00239433031656</td><td>420.9140842992608</td></tr><tr><td>2024-02-16T00:00:00Z</td><td>Display</td><td>Publisher B</td><td>33.94127579570432</td><td>420.9140842992608</td></tr><tr><td>2024-02-16T00:00:00Z</td><td>Linear</td><td>Network X</td><td>122.9007837323495</td><td>420.9140842992608</td></tr><tr><td>2024-02-16T00:00:00Z</td><td>Linear</td><td>Network Y</td><td>45.6937913193362</td><td>420.9140842992608</td></tr><tr><td>2024-02-16T00:00:00Z</td><td>Linear</td><td>Network Z</td><td>114.89461838009022</td><td>420.9140842992608</td></tr><tr><td>2024-02-17T00:00:00Z</td><td>Display</td><td>Publisher A</td><td>50.203362704770505</td><td>378.05164536295547</td></tr><tr><td>2024-02-17T00:00:00Z</td><td>Display</td><td>Publisher B</td><td>51.84171158033383</td><td>378.05164536295547</td></tr><tr><td>2024-02-17T00:00:00Z</td><td>Linear</td><td>Network X</td><td>34.516166379072835</td><td>378.05164536295547</td></tr><tr><td>2024-02-17T00:00:00Z</td><td>Linear</td><td>Network Y</td><td>78.21025624429689</td><td>378.05164536295547</td></tr><tr><td>2024-02-17T00:00:00Z</td><td>Linear</td><td>Network Z</td><td>54.80523841698929</td><td>378.05164536295547</td></tr><tr><td>2024-02-18T00:00:00Z</td><td>Display</td><td>Publisher A</td><td>72.68777834463697</td><td>388.03103927189716</td></tr><tr><td>2024-02-18T00:00:00Z</td><td>Display</td><td>Publisher B</td><td>11.011612154789175</td><td>388.03103927189716</td></tr><tr><td>2024-02-18T00:00:00Z</td><td>Linear</td><td>Network X</td><td>117.60392221783547</td><td>388.03103927189716</td></tr><tr><td>2024-02-18T00:00:00Z</td><td>Linear</td><td>Network Y</td><td>137.34873477934875</td><td>388.03103927189716</td></tr><tr><td>2024-02-18T00:00:00Z</td><td>Linear</td><td>Network Z</td><td>54.615197664935046</td><td>388.03103927189716</td></tr><tr><td>2024-02-19T00:00:00Z</td><td>Display</td><td>Publisher A</td><td>179.81119925714674</td><td>515.9482583514288</td></tr><tr><td>2024-02-19T00:00:00Z</td><td>Display</td><td>Publisher B</td><td>153.45124969233436</td><td>515.9482583514288</td></tr><tr><td>2024-02-19T00:00:00Z</td><td>Linear</td><td>Network X</td><td>79.39175524598988</td><td>515.9482583514288</td></tr><tr><td>2024-02-19T00:00:00Z</td><td>Linear</td><td>Network Y</td><td>123.94483896108777</td><td>515.9482583514288</td></tr><tr><td>2024-02-19T00:00:00Z</td><td>Linear</td><td>Network Z</td><td>103.21572744769495</td><td>515.9482583514288</td></tr><tr><td>2024-02-20T00:00:00Z</td><td>Display</td><td>Publisher A</td><td>8.133891027110792</td><td>418.7636070634371</td></tr><tr><td>2024-02-20T00:00:00Z</td><td>Display</td><td>Publisher B</td><td>40.27488956837839</td><td>418.7636070634371</td></tr><tr><td>2024-02-20T00:00:00Z</td><td>Linear</td><td>Network X</td><td>83.25692320679211</td><td>418.7636070634371</td></tr><tr><td>2024-02-20T00:00:00Z</td><td>Linear</td><td>Network Y</td><td>143.31771895135634</td><td>418.7636070634371</td></tr><tr><td>2024-02-20T00:00:00Z</td><td>Linear</td><td>Network Z</td><td>13.333317549430577</td><td>418.7636070634371</td></tr><tr><td>2024-02-21T00:00:00Z</td><td>Display</td><td>Publisher A</td><td>8.78967215944734</td><td>354.541697774911</td></tr><tr><td>2024-02-21T00:00:00Z</td><td>Display</td><td>Publisher B</td><td>47.87935482770691</td><td>354.541697774911</td></tr><tr><td>2024-02-21T00:00:00Z</td><td>Linear</td><td>Network X</td><td>5.06588536187712</td><td>354.541697774911</td></tr><tr><td>2024-02-21T00:00:00Z</td><td>Linear</td><td>Network Y</td><td>46.62721032690055</td><td>354.541697774911</td></tr><tr><td>2024-02-21T00:00:00Z</td><td>Linear</td><td>Network Z</td><td>65.58463550912808</td><td>354.541697774911</td></tr><tr><td>2024-02-22T00:00:00Z</td><td>Display</td><td>Publisher A</td><td>21.71777386568974</td><td>362.9390410749014</td></tr><tr><td>2024-02-22T00:00:00Z</td><td>Display</td><td>Publisher B</td><td>47.61152375907501</td><td>362.9390410749014</td></tr><tr><td>2024-02-22T00:00:00Z</td><td>Linear</td><td>Network X</td><td>96.8654302864916</td><td>362.9390410749014</td></tr><tr><td>2024-02-22T00:00:00Z</td><td>Linear</td><td>Network Y</td><td>32.14662231003256</td><td>362.9390410749014</td></tr><tr><td>2024-02-22T00:00:00Z</td><td>Linear</td><td>Network Z</td><td>25.149653931021767</td><td>362.9390410749014</td></tr><tr><td>2024-02-23T00:00:00Z</td><td>Display</td><td>Publisher A</td><td>45.96823171622142</td><td>410.0753248242759</td></tr><tr><td>2024-02-23T00:00:00Z</td><td>Display</td><td>Publisher B</td><td>19.66760111218377</td><td>410.0753248242759</td></tr><tr><td>2024-02-23T00:00:00Z</td><td>Linear</td><td>Network X</td><td>171.22229998596487</td><td>410.0753248242759</td></tr><tr><td>2024-02-23T00:00:00Z</td><td>Linear</td><td>Network Y</td><td>51.37822441693847</td><td>410.0753248242759</td></tr><tr><td>2024-02-23T00:00:00Z</td><td>Linear</td><td>Network Z</td><td>27.501045218502057</td><td>410.0753248242759</td></tr><tr><td>2024-02-24T00:00:00Z</td><td>Display</td><td>Publisher A</td><td>58.753712746849814</td><td>410.15713802333727</td></tr><tr><td>2024-02-24T00:00:00Z</td><td>Display</td><td>Publisher B</td><td>45.77450942415038</td><td>410.15713802333727</td></tr><tr><td>2024-02-24T00:00:00Z</td><td>Linear</td><td>Network X</td><td>41.92087380583672</td><td>410.15713802333727</td></tr><tr><td>2024-02-24T00:00:00Z</td><td>Linear</td><td>Network Y</td><td>32.13959684092845</td><td>410.15713802333727</td></tr><tr><td>2024-02-24T00:00:00Z</td><td>Linear</td><td>Network Z</td><td>30.8500022974572</td><td>410.15713802333727</td></tr><tr><td>2024-02-25T00:00:00Z</td><td>Display</td><td>Publisher A</td><td>11.281055662264652</td><td>429.242250430829</td></tr><tr><td>2024-02-25T00:00:00Z</td><td>Display</td><td>Publisher B</td><td>123.82022048318436</td><td>429.242250430829</td></tr><tr><td>2024-02-25T00:00:00Z</td><td>Linear</td><td>Network X</td><td>75.81908731054696</td><td>429.242250430829</td></tr><tr><td>2024-02-25T00:00:00Z</td><td>Linear</td><td>Network Y</td><td>63.0493847003694</td><td>429.242250430829</td></tr><tr><td>2024-02-25T00:00:00Z</td><td>Linear</td><td>Network Z</td><td>45.20760063003143</td><td>429.242250430829</td></tr><tr><td>2024-02-26T00:00:00Z</td><td>Display</td><td>Publisher A</td><td>21.371756269826157</td><td>360.6237119656077</td></tr><tr><td>2024-02-26T00:00:00Z</td><td>Display</td><td>Publisher B</td><td>26.05493195945253</td><td>360.6237119656077</td></tr><tr><td>2024-02-26T00:00:00Z</td><td>Linear</td><td>Network X</td><td>12.66832871785047</td><td>360.6237119656077</td></tr><tr><td>2024-02-26T00:00:00Z</td><td>Linear</td><td>Network Y</td><td>28.906264181839006</td><td>360.6237119656077</td></tr><tr><td>2024-02-26T00:00:00Z</td><td>Linear</td><td>Network Z</td><td>18.720430611572976</td><td>360.6237119656077</td></tr><tr><td>2024-02-27T00:00:00Z</td><td>Display</td><td>Publisher A</td><td>147.94039612276524</td><td>439.197726199208</td></tr><tr><td>2024-02-27T00:00:00Z</td><td>Display</td><td>Publisher B</td><td>92.50845007757314</td><td>439.197726199208</td></tr><tr><td>2024-02-27T00:00:00Z</td><td>Linear</td><td>Network X</td><td>53.05671880705417</td><td>439.197726199208</td></tr><tr><td>2024-02-27T00:00:00Z</td><td>Linear</td><td>Network Y</td><td>23.510825205472983</td><td>439.197726199208</td></tr><tr><td>2024-02-27T00:00:00Z</td><td>Linear</td><td>Network Z</td><td>19.62596650532556</td><td>439.197726199208</td></tr><tr><td>2024-02-28T00:00:00Z</td><td>Display</td><td>Publisher A</td><td>42.98456790847381</td><td>393.0777747417917</td></tr><tr><td>2024-02-28T00:00:00Z</td><td>Display</td><td>Publisher B</td><td>95.13252982951111</td><td>393.0777747417917</td></tr><tr><td>2024-02-28T00:00:00Z</td><td>Linear</td><td>Network X</td><td>13.039205849894495</td><td>393.0777747417917</td></tr><tr><td>2024-02-28T00:00:00Z</td><td>Linear</td><td>Network Y</td><td>75.12661157928137</td><td>393.0777747417917</td></tr><tr><td>2024-02-28T00:00:00Z</td><td>Linear</td><td>Network Z</td><td>28.797017949505538</td><td>393.0777747417917</td></tr><tr><td>2024-02-29T00:00:00Z</td><td>Display</td><td>Publisher A</td><td>33.40714191198632</td><td>341.70218834579816</td></tr><tr><td>2024-02-29T00:00:00Z</td><td>Display</td><td>Publisher B</td><td>51.902876372792974</td><td>341.70218834579816</td></tr><tr><td>2024-02-29T00:00:00Z</td><td>Linear</td><td>Network X</td><td>24.228413502581514</td><td>341.70218834579816</td></tr><tr><td>2024-02-29T00:00:00Z</td><td>Linear</td><td>Network Y</td><td>41.30480158937639</td><td>341.70218834579816</td></tr><tr><td>2024-02-29T00:00:00Z</td><td>Linear</td><td>Network Z</td><td>22.443553177268914</td><td>341.70218834579816</td></tr><tr><td>2024-03-01T00:00:00Z</td><td>Display</td><td>Publisher A</td><td>30.823257205601227</td><td>344.58260680628865</td></tr><tr><td>2024-03-01T00:00:00Z</td><td>Display</td><td>Publisher B</td><td>85.3333140717416</td><td>344.58260680628865</td></tr><tr><td>2024-03-01T00:00:00Z</td><td>Linear</td><td>Network X</td><td>53.94663625371584</td><td>344.58260680628865</td></tr><tr><td>2024-03-01T00:00:00Z</td><td>Linear</td><td>Network Y</td><td>85.11203477709942</td><td>344.58260680628865</td></tr><tr><td>2024-03-01T00:00:00Z</td><td>Linear</td><td>Network Z</td><td>28.476994740966823</td><td>344.58260680628865</td></tr><tr><td>2024-03-02T00:00:00Z</td><td>Display</td><td>Publisher A</td><td>75.5149113146012</td><td>331.0328569737862</td></tr><tr><td>2024-03-02T00:00:00Z</td><td>Display</td><td>Publisher B</td><td>9.74401642460635</td><td>331.0328569737862</td></tr><tr><td>2024-03-02T00:00:00Z</td><td>Linear</td><td>Network X</td><td>51.88553928585529</td><td>331.0328569737862</td></tr><tr><td>2024-03-02T00:00:00Z</td><td>Linear</td><td>Network Y</td><td>79.0347151754243</td><td>331.0328569737862</td></tr><tr><td>2024-03-02T00:00:00Z</td><td>Linear</td><td>Network Z</td><td>9.30834166477088</td><td>331.0328569737862</td></tr><tr><td>2024-03-03T00:00:00Z</td><td>Display</td><td>Publisher A</td><td>28.76503099206271</td><td>350.6102399936839</td></tr><tr><td>2024-03-03T00:00:00Z</td><td>Display</td><td>Publisher B</td><td>51.85830063665442</td><td>350.6102399936839</td></tr><tr><td>2024-03-03T00:00:00Z</td><td>Linear</td><td>Network X</td><td>99.97681848287912</td><td>350.6102399936839</td></tr><tr><td>2024-03-03T00:00:00Z</td><td>Linear</td><td>Network Y</td><td>30.819875808418683</td><td>350.6102399936839</td></tr><tr><td>2024-03-03T00:00:00Z</td><td>Linear</td><td>Network Z</td><td>73.45414319439152</td><td>350.6102399936839</td></tr><tr><td>2024-03-04T00:00:00Z</td><td>Display</td><td>Publisher A</td><td>129.19124689421653</td><td>402.9342559948677</td></tr><tr><td>2024-03-04T00:00:00Z</td><td>Display</td><td>Publisher B</td><td>75.84542517477485</td><td>402.9342559948677</td></tr><tr><td>2024-03-04T00:00:00Z</td><td>Linear</td><td>Network X</td><td>42.5411556578253</td><td>402.9342559948677</td></tr><tr><td>2024-03-04T00:00:00Z</td><td>Linear</td><td>Network Y</td><td>65.79591191266081</td><td>402.9342559948677</td></tr><tr><td>2024-03-04T00:00:00Z</td><td>Linear</td><td>Network Z</td><td>30.066103208895377</td><td>402.9342559948677</td></tr><tr><td>2024-03-05T00:00:00Z</td><td>Display</td><td>Publisher A</td><td>53.42914473135959</td><td>376.6202291364092</td></tr><tr><td>2024-03-05T00:00:00Z</td><td>Display</td><td>Publisher B</td><td>44.20975342004036</td><td>376.6202291364092</td></tr><tr><td>2024-03-05T00:00:00Z</td><td>Linear</td><td>Network X</td><td>64.24816743120536</td><td>376.6202291364092</td></tr><tr><td>2024-03-05T00:00:00Z</td><td>Linear</td><td>Network Y</td><td>35.68436389598573</td><td>376.6202291364092</td></tr><tr><td>2024-03-05T00:00:00Z</td><td>Linear</td><td>Network Z</td><td>66.8858128592317</td><td>376.6202291364092</td></tr><tr><td>2024-03-06T00:00:00Z</td><td>Display</td><td>Publisher A</td><td>35.40340625452612</td><td>365.723090874978</td></tr><tr><td>2024-03-06T00:00:00Z</td><td>Display</td><td>Publisher B</td><td>91.89604718185466</td><td>365.723090874978</td></tr><tr><td>2024-03-06T00:00:00Z</td><td>Linear</td><td>Network X</td><td>38.40625136346205</td><td>365.723090874978</td></tr><tr><td>2024-03-06T00:00:00Z</td><td>Linear</td><td>Network Y</td><td>5.316686722215406</td><td>365.723090874978</td></tr><tr><td>2024-03-06T00:00:00Z</td><td>Linear</td><td>Network Z</td><td>20.237654147266767</td><td>365.723090874978</td></tr><tr><td>2024-03-07T00:00:00Z</td><td>Display</td><td>Publisher A</td><td>50.71673850315813</td><td>411.5791316222148</td></tr><tr><td>2024-03-07T00:00:00Z</td><td>Display</td><td>Publisher B</td><td>147.08759786280987</td><td>411.5791316222148</td></tr><tr><td>2024-03-07T00:00:00Z</td><td>Linear</td><td>Network X</td><td>89.49293555314509</td><td>411.5791316222148</td></tr><tr><td>2024-03-07T00:00:00Z</td><td>Linear</td><td>Network Y</td><td>3.950090458155917</td><td>411.5791316222148</td></tr><tr><td>2024-03-07T00:00:00Z</td><td>Linear</td><td>Network Z</td><td>11.81467146321372</td><td>411.5791316222148</td></tr><tr><td>2024-03-08T00:00:00Z</td><td>Display</td><td>Publisher A</td><td>108.6668851989739</td><td>486.8260133737685</td></tr><tr><td>2024-03-08T00:00:00Z</td><td>Display</td><td>Publisher B</td><td>78.72973482474188</td><td>486.8260133737685</td></tr><tr><td>2024-03-08T00:00:00Z</td><td>Linear</td><td>Network X</td><td>199.58048401774266</td><td>486.8260133737685</td></tr><tr><td>2024-03-08T00:00:00Z</td><td>Linear</td><td>Network Y</td><td>34.235728418545456</td><td>486.8260133737685</td></tr><tr><td>2024-03-08T00:00:00Z</td><td>Linear</td><td>Network Z</td><td>23.77975925475352</td><td>486.8260133737685</td></tr><tr><td>2024-03-09T00:00:00Z</td><td>Display</td><td>Publisher A</td><td>52.823281181821905</td><td>454.54577169675</td></tr><tr><td>2024-03-09T00:00:00Z</td><td>Display</td><td>Publisher B</td><td>33.68817733274953</td><td>454.54577169675</td></tr><tr><td>2024-03-09T00:00:00Z</td><td>Linear</td><td>Network X</td><td>101.9099154886661</td><td>454.54577169675</td></tr><tr><td>2024-03-09T00:00:00Z</td><td>Linear</td><td>Network Y</td><td>32.73413826393688</td><td>454.54577169675</td></tr><tr><td>2024-03-09T00:00:00Z</td><td>Linear</td><td>Network Z</td><td>40.25919660799039</td><td>454.54577169675</td></tr><tr><td>2024-03-10T00:00:00Z</td><td>Display</td><td>Publisher A</td><td>20.865441104532657</td><td>428.6780872703383</td></tr><tr><td>2024-03-10T00:00:00Z</td><td>Display</td><td>Publisher B</td><td>85.42169782332859</td><td>428.6780872703383</td></tr><tr><td>2024-03-10T00:00:00Z</td><td>Linear</td><td>Network X</td><td>22.11364826197604</td><td>428.6780872703383</td></tr><tr><td>2024-03-10T00:00:00Z</td><td>Linear</td><td>Network Y</td><td>67.7823702776463</td><td>428.6780872703383</td></tr><tr><td>2024-03-10T00:00:00Z</td><td>Linear</td><td>Network Z</td><td>163.60124668706976</td><td>428.6780872703383</td></tr><tr><td>2024-03-11T00:00:00Z</td><td>Display</td><td>Publisher A</td><td>7.905454368859251</td><td>432.3334083321251</td></tr><tr><td>2024-03-11T00:00:00Z</td><td>Display</td><td>Publisher B</td><td>133.20485044044355</td><td>432.3334083321251</td></tr><tr><td>2024-03-11T00:00:00Z</td><td>Linear</td><td>Network X</td><td>61.645849512434594</td><td>432.3334083321251</td></tr><tr><td>2024-03-11T00:00:00Z</td><td>Linear</td><td>Network Y</td><td>17.85021763564118</td><td>432.3334083321251</td></tr><tr><td>2024-03-11T00:00:00Z</td><td>Linear</td><td>Network Z</td><td>54.35764112591038</td><td>432.3334083321251</td></tr><tr><td>2024-03-12T00:00:00Z</td><td>Display</td><td>Publisher A</td><td>83.70521375909655</td><td>422.9074635978865</td></tr><tr><td>2024-03-12T00:00:00Z</td><td>Display</td><td>Publisher B</td><td>25.20844921777965</td><td>422.9074635978865</td></tr><tr><td>2024-03-12T00:00:00Z</td><td>Linear</td><td>Network X</td><td>70.57291179676926</td><td>422.9074635978865</td></tr><tr><td>2024-03-12T00:00:00Z</td><td>Linear</td><td>Network Y</td><td>140.56672035135313</td><td>422.9074635978865</td></tr><tr><td>2024-03-12T00:00:00Z</td><td>Linear</td><td>Network Z</td><td>32.6991304979246</td><td>422.9074635978865</td></tr><tr><td>2024-03-13T00:00:00Z</td><td>Display</td><td>Publisher A</td><td>20.631846351443084</td><td>390.63938428658844</td></tr><tr><td>2024-03-13T00:00:00Z</td><td>Display</td><td>Publisher B</td><td>45.28480409570927</td><td>390.63938428658844</td></tr><tr><td>2024-03-13T00:00:00Z</td><td>Linear</td><td>Network X</td><td>52.189418160819436</td><td>390.63938428658844</td></tr><tr><td>2024-03-13T00:00:00Z</td><td>Linear</td><td>Network Y</td><td>105.47789724320383</td><td>390.63938428658844</td></tr><tr><td>2024-03-13T00:00:00Z</td><td>Linear</td><td>Network Z</td><td>44.126650130070516</td><td>390.63938428658844</td></tr><tr><td>2024-03-14T00:00:00Z</td><td>Display</td><td>Publisher A</td><td>35.22229123465838</td><td>345.43744257576316</td></tr><tr><td>2024-03-14T00:00:00Z</td><td>Display</td><td>Publisher B</td><td>20.152622606988626</td><td>345.43744257576316</td></tr><tr><td>2024-03-14T00:00:00Z</td><td>Linear</td><td>Network X</td><td>9.392736723102866</td><td>345.43744257576316</td></tr><tr><td>2024-03-14T00:00:00Z</td><td>Linear</td><td>Network Y</td><td>14.832612684118152</td><td>345.43744257576316</td></tr><tr><td>2024-03-14T00:00:00Z</td><td>Linear</td><td>Network Z</td><td>14.744621450914586</td><td>345.43744257576316</td></tr><tr><td>2024-03-15T00:00:00Z</td><td>Display</td><td>Publisher A</td><td>40.60489109272027</td><td>340.6612901030879</td></tr><tr><td>2024-03-15T00:00:00Z</td><td>Display</td><td>Publisher B</td><td>11.454876429201795</td><td>340.6612901030879</td></tr><tr><td>2024-03-15T00:00:00Z</td><td>Linear</td><td>Network X</td><td>47.92651043156996</td><td>340.6612901030879</td></tr><tr><td>2024-03-15T00:00:00Z</td><td>Linear</td><td>Network Y</td><td>161.23632356191783</td><td>340.6612901030879</td></tr><tr><td>2024-03-15T00:00:00Z</td><td>Linear</td><td>Network Z</td><td>107.55372114142514</td><td>340.6612901030879</td></tr><tr><td>2024-03-16T00:00:00Z</td><td>Display</td><td>Publisher A</td><td>40.29226496354632</td><td>436.1057082800425</td></tr><tr><td>2024-03-16T00:00:00Z</td><td>Display</td><td>Publisher B</td><td>230.55437922143676</td><td>436.1057082800425</td></tr><tr><td>2024-03-16T00:00:00Z</td><td>Linear</td><td>Network X</td><td>52.32876704917782</td><td>436.1057082800425</td></tr><tr><td>2024-03-16T00:00:00Z</td><td>Linear</td><td>Network Y</td><td>58.070854907241234</td><td>436.1057082800425</td></tr><tr><td>2024-03-16T00:00:00Z</td><td>Linear</td><td>Network Z</td><td>44.614755302297404</td><td>436.1057082800425</td></tr><tr><td>2024-03-17T00:00:00Z</td><td>Display</td><td>Publisher A</td><td>48.7421688252268</td><td>375.2290585198572</td></tr><tr><td>2024-03-17T00:00:00Z</td><td>Display</td><td>Publisher B</td><td>31.76823557484253</td><td>375.2290585198572</td></tr><tr><td>2024-03-17T00:00:00Z</td><td>Linear</td><td>Network X</td><td>40.76064149603177</td><td>375.2290585198572</td></tr><tr><td>2024-03-17T00:00:00Z</td><td>Linear</td><td>Network Y</td><td>133.7973435555491</td><td>375.2290585198572</td></tr><tr><td>2024-03-17T00:00:00Z</td><td>Linear</td><td>Network Z</td><td>115.45319308803265</td><td>375.2290585198572</td></tr><tr><td>2024-03-18T00:00:00Z</td><td>Display</td><td>Publisher A</td><td>5.015983320948208</td><td>316.14577247438723</td></tr><tr><td>2024-03-18T00:00:00Z</td><td>Display</td><td>Publisher B</td><td>12.898320245858258</td><td>316.14577247438723</td></tr><tr><td>2024-03-18T00:00:00Z</td><td>Linear</td><td>Network X</td><td>25.52026802378384</td><td>316.14577247438723</td></tr><tr><td>2024-03-18T00:00:00Z</td><td>Linear</td><td>Network Y</td><td>95.69864753264741</td><td>316.14577247438723</td></tr><tr><td>2024-03-18T00:00:00Z</td><td>Linear</td><td>Network Z</td><td>117.18509216155422</td><td>316.14577247438723</td></tr><tr><td>2024-03-19T00:00:00Z</td><td>Display</td><td>Publisher A</td><td>83.48182852981195</td><td>330.75594984038395</td></tr><tr><td>2024-03-19T00:00:00Z</td><td>Display</td><td>Publisher B</td><td>17.78086757249493</td><td>330.75594984038395</td></tr><tr><td>2024-03-19T00:00:00Z</td><td>Linear</td><td>Network X</td><td>32.312433011911494</td><td>330.75594984038395</td></tr><tr><td>2024-03-19T00:00:00Z</td><td>Linear</td><td>Network Y</td><td>71.44913876894233</td><td>330.75594984038395</td></tr><tr><td>2024-03-19T00:00:00Z</td><td>Linear</td><td>Network Z</td><td>41.25785405809707</td><td>330.75594984038395</td></tr><tr><td>2024-03-20T00:00:00Z</td><td>Display</td><td>Publisher A</td><td>36.84283743191056</td><td>353.372005579976</td></tr><tr><td>2024-03-20T00:00:00Z</td><td>Display</td><td>Publisher B</td><td>37.28232697728135</td><td>353.372005579976</td></tr><tr><td>2024-03-20T00:00:00Z</td><td>Linear</td><td>Network X</td><td>109.68218438690796</td><td>353.372005579976</td></tr><tr><td>2024-03-20T00:00:00Z</td><td>Linear</td><td>Network Y</td><td>76.66796812641981</td><td>353.372005579976</td></tr><tr><td>2024-03-20T00:00:00Z</td><td>Linear</td><td>Network Z</td><td>38.94398030413653</td><td>353.372005579976</td></tr><tr><td>2024-03-21T00:00:00Z</td><td>Display</td><td>Publisher A</td><td>63.72456014500477</td><td>339.4896740633292</td></tr><tr><td>2024-03-21T00:00:00Z</td><td>Display</td><td>Publisher B</td><td>15.511952430636942</td><td>339.4896740633292</td></tr><tr><td>2024-03-21T00:00:00Z</td><td>Linear</td><td>Network X</td><td>32.364490828530336</td><td>339.4896740633292</td></tr><tr><td>2024-03-21T00:00:00Z</td><td>Linear</td><td>Network Y</td><td>102.62566342192328</td><td>339.4896740633292</td></tr><tr><td>2024-03-21T00:00:00Z</td><td>Linear</td><td>Network Z</td><td>10.696655481000667</td><td>339.4896740633292</td></tr><tr><td>2024-03-22T00:00:00Z</td><td>Display</td><td>Publisher A</td><td>77.33469079278929</td><td>388.70362385497725</td></tr><tr><td>2024-03-22T00:00:00Z</td><td>Display</td><td>Publisher B</td><td>4.944918188254476</td><td>388.70362385497725</td></tr><tr><td>2024-03-22T00:00:00Z</td><td>Linear</td><td>Network X</td><td>148.68516455110435</td><td>388.70362385497725</td></tr><tr><td>2024-03-22T00:00:00Z</td><td>Linear</td><td>Network Y</td><td>31.725481736122877</td><td>388.70362385497725</td></tr><tr><td>2024-03-22T00:00:00Z</td><td>Linear</td><td>Network Z</td><td>67.10629792848304</td><td>388.70362385497725</td></tr><tr><td>2024-03-23T00:00:00Z</td><td>Display</td><td>Publisher A</td><td>54.555780130822086</td><td>399.7957383876612</td></tr><tr><td>2024-03-23T00:00:00Z</td><td>Display</td><td>Publisher B</td><td>56.04999068901777</td><td>399.7957383876612</td></tr><tr><td>2024-03-23T00:00:00Z</td><td>Linear</td><td>Network X</td><td>62.89362896173456</td><td>399.7957383876612</td></tr><tr><td>2024-03-23T00:00:00Z</td><td>Linear</td><td>Network Y</td><td>8.707454355013656</td><td>399.7957383876612</td></tr><tr><td>2024-03-23T00:00:00Z</td><td>Linear</td><td>Network Z</td><td>56.913833287594635</td><td>399.7957383876612</td></tr><tr><td>2024-03-24T00:00:00Z</td><td>Display</td><td>Publisher A</td><td>43.20749465696476</td><td>363.7741271523801</td></tr><tr><td>2024-03-24T00:00:00Z</td><td>Display</td><td>Publisher B</td><td>31.87326002179848</td><td>363.7741271523801</td></tr><tr><td>2024-03-24T00:00:00Z</td><td>Linear</td><td>Network X</td><td>25.508198019114154</td><td>363.7741271523801</td></tr><tr><td>2024-03-24T00:00:00Z</td><td>Linear</td><td>Network Y</td><td>57.975072809515396</td><td>363.7741271523801</td></tr><tr><td>2024-03-24T00:00:00Z</td><td>Linear</td><td>Network Z</td><td>20.873897476425768</td><td>363.7741271523801</td></tr><tr><td>2024-03-25T00:00:00Z</td><td>Display</td><td>Publisher A</td><td>101.3887983494804</td><td>404.69211709262487</td></tr><tr><td>2024-03-25T00:00:00Z</td><td>Display</td><td>Publisher B</td><td>70.62795190965295</td><td>404.69211709262487</td></tr><tr><td>2024-03-25T00:00:00Z</td><td>Linear</td><td>Network X</td><td>60.58594578034825</td><td>404.69211709262487</td></tr><tr><td>2024-03-25T00:00:00Z</td><td>Linear</td><td>Network Y</td><td>98.53301423660704</td><td>404.69211709262487</td></tr><tr><td>2024-03-25T00:00:00Z</td><td>Linear</td><td>Network Z</td><td>7.222277767361951</td><td>404.69211709262487</td></tr><tr><td>2024-03-26T00:00:00Z</td><td>Display</td><td>Publisher A</td><td>15.012217233510539</td><td>356.9071950380503</td></tr><tr><td>2024-03-26T00:00:00Z</td><td>Display</td><td>Publisher B</td><td>72.84794531157549</td><td>356.9071950380503</td></tr><tr><td>2024-03-26T00:00:00Z</td><td>Linear</td><td>Network X</td><td>26.83011346653884</td><td>356.9071950380503</td></tr><tr><td>2024-03-26T00:00:00Z</td><td>Linear</td><td>Network Y</td><td>29.858741551264206</td><td>356.9071950380503</td></tr><tr><td>2024-03-26T00:00:00Z</td><td>Linear</td><td>Network Z</td><td>12.911674772919136</td><td>356.9071950380503</td></tr><tr><td>2024-03-27T00:00:00Z</td><td>Display</td><td>Publisher A</td><td>20.928018629749655</td><td>368.4893398399054</td></tr><tr><td>2024-03-27T00:00:00Z</td><td>Display</td><td>Publisher B</td><td>102.91570952452322</td><td>368.4893398399054</td></tr><tr><td>2024-03-27T00:00:00Z</td><td>Linear</td><td>Network X</td><td>71.64307263926078</td><td>368.4893398399054</td></tr><tr><td>2024-03-27T00:00:00Z</td><td>Linear</td><td>Network Y</td><td>57.50575114116373</td><td>368.4893398399054</td></tr><tr><td>2024-03-27T00:00:00Z</td><td>Linear</td><td>Network Z</td><td>30.8550667293953</td><td>368.4893398399054</td></tr><tr><td>2024-03-28T00:00:00Z</td><td>Display</td><td>Publisher A</td><td>54.87584696098683</td><td>383.40114654408137</td></tr><tr><td>2024-03-28T00:00:00Z</td><td>Display</td><td>Publisher B</td><td>109.0259373118997</td><td>383.40114654408137</td></tr><tr><td>2024-03-28T00:00:00Z</td><td>Linear</td><td>Network X</td><td>27.41142061582159</td><td>383.40114654408137</td></tr><tr><td>2024-03-28T00:00:00Z</td><td>Linear</td><td>Network Y</td><td>48.65710667010307</td><td>383.40114654408137</td></tr><tr><td>2024-03-28T00:00:00Z</td><td>Linear</td><td>Network Z</td><td>154.71921866644348</td><td>383.40114654408137</td></tr><tr><td>2024-03-29T00:00:00Z</td><td>Display</td><td>Publisher A</td><td>82.72536657451454</td><td>379.8254816896696</td></tr><tr><td>2024-03-29T00:00:00Z</td><td>Display</td><td>Publisher B</td><td>31.226291805480106</td><td>379.8254816896696</td></tr><tr><td>2024-03-29T00:00:00Z</td><td>Linear</td><td>Network X</td><td>78.15599432297186</td><td>379.8254816896696</td></tr><tr><td>2024-03-29T00:00:00Z</td><td>Linear</td><td>Network Y</td><td>10.509410823857435</td><td>379.8254816896696</td></tr><tr><td>2024-03-29T00:00:00Z</td><td>Linear</td><td>Network Z</td><td>47.17225411512469</td><td>379.8254816896696</td></tr><tr><td>2024-03-30T00:00:00Z</td><td>Display</td><td>Publisher A</td><td>78.09665337410459</td><td>403.2761868921213</td></tr><tr><td>2024-03-30T00:00:00Z</td><td>Display</td><td>Publisher B</td><td>66.21780361447986</td><td>403.2761868921213</td></tr><tr><td>2024-03-30T00:00:00Z</td><td>Linear</td><td>Network X</td><td>77.57195119330636</td><td>403.2761868921213</td></tr><tr><td>2024-03-30T00:00:00Z</td><td>Linear</td><td>Network Y</td><td>89.7510531412406</td><td>403.2761868921213</td></tr><tr><td>2024-03-30T00:00:00Z</td><td>Linear</td><td>Network Z</td><td>69.97575777488272</td><td>403.2761868921213</td></tr></tbody></table></div>"
      ]
     },
     "metadata": {
      "application/vnd.databricks.v1+output": {
       "addedWidgets": {},
       "aggData": [],
       "aggError": "",
       "aggOverflow": false,
       "aggSchema": [],
       "aggSeriesLimitReached": false,
       "aggType": "",
       "arguments": {},
       "columnCustomDisplayInfos": {},
       "data": [
        [
         "2024-01-01T00:00:00Z",
         "Display",
         "Publisher A",
         71.8103816960771,
         140.02739387148964
        ],
        [
         "2024-01-01T00:00:00Z",
         "Display",
         "Publisher B",
         44.83394190646763,
         140.02739387148964
        ],
        [
         "2024-01-01T00:00:00Z",
         "Linear",
         "Network X",
         41.46850753112861,
         140.02739387148964
        ],
        [
         "2024-01-01T00:00:00Z",
         "Linear",
         "Network Y",
         41.46906882995402,
         140.02739387148964
        ],
        [
         "2024-01-01T00:00:00Z",
         "Linear",
         "Network Z",
         139.49143236691953,
         140.02739387148964
        ],
        [
         "2024-01-02T00:00:00Z",
         "Display",
         "Publisher A",
         86.00118692892667,
         196.20859046845362
        ],
        [
         "2024-01-02T00:00:00Z",
         "Display",
         "Publisher B",
         33.93234005222697,
         196.20859046845362
        ],
        [
         "2024-01-02T00:00:00Z",
         "Linear",
         "Network X",
         74.0944342029364,
         196.20859046845362
        ],
        [
         "2024-01-02T00:00:00Z",
         "Linear",
         "Network Y",
         59.96880792193941,
         196.20859046845362
        ],
        [
         "2024-01-02T00:00:00Z",
         "Linear",
         "Network Z",
         6.477448304717562,
         196.20859046845362
        ],
        [
         "2024-01-03T00:00:00Z",
         "Display",
         "Publisher A",
         20.13726848063119,
         241.659404436812
        ],
        [
         "2024-01-03T00:00:00Z",
         "Display",
         "Publisher B",
         63.184969120444904,
         241.659404436812
        ],
        [
         "2024-01-03T00:00:00Z",
         "Linear",
         "Network X",
         130.95530602450586,
         241.659404436812
        ],
        [
         "2024-01-03T00:00:00Z",
         "Linear",
         "Network Y",
         41.755565548774385,
         241.659404436812
        ],
        [
         "2024-01-03T00:00:00Z",
         "Linear",
         "Network Z",
         31.74082317162911,
         241.659404436812
        ],
        [
         "2024-01-04T00:00:00Z",
         "Display",
         "Publisher A",
         54.42022624416497,
         242.8734041322855
        ],
        [
         "2024-01-04T00:00:00Z",
         "Display",
         "Publisher B",
         30.158534421542928,
         242.8734041322855
        ],
        [
         "2024-01-04T00:00:00Z",
         "Linear",
         "Network X",
         39.53224143417565,
         242.8734041322855
        ],
        [
         "2024-01-04T00:00:00Z",
         "Linear",
         "Network Y",
         49.47907436820794,
         242.8734041322855
        ],
        [
         "2024-01-04T00:00:00Z",
         "Linear",
         "Network Z",
         19.204119145316508,
         242.8734041322855
        ],
        [
         "2024-01-05T00:00:00Z",
         "Display",
         "Publisher A",
         89.10180282639418,
         251.46632490331018
        ],
        [
         "2024-01-05T00:00:00Z",
         "Display",
         "Publisher B",
         16.055443388371202,
         251.46632490331018
        ],
        [
         "2024-01-05T00:00:00Z",
         "Linear",
         "Network X",
         14.183803315040201,
         251.46632490331018
        ],
        [
         "2024-01-05T00:00:00Z",
         "Linear",
         "Network Y",
         58.018512536644046,
         251.46632490331018
        ],
        [
         "2024-01-05T00:00:00Z",
         "Linear",
         "Network Z",
         84.40061423937152,
         251.46632490331018
        ],
        [
         "2024-01-06T00:00:00Z",
         "Display",
         "Publisher A",
         56.935067230712114,
         264.01753879116
        ],
        [
         "2024-01-06T00:00:00Z",
         "Display",
         "Publisher B",
         45.653375312538024,
         264.01753879116
        ],
        [
         "2024-01-06T00:00:00Z",
         "Linear",
         "Network X",
         39.22144304950423,
         264.01753879116
        ],
        [
         "2024-01-06T00:00:00Z",
         "Linear",
         "Network Y",
         34.19729492059951,
         264.01753879116
        ],
        [
         "2024-01-06T00:00:00Z",
         "Linear",
         "Network Z",
         103.13397901558348,
         264.01753879116
        ],
        [
         "2024-01-07T00:00:00Z",
         "Display",
         "Publisher A",
         63.631318181697665,
         266.8788978327198
        ],
        [
         "2024-01-07T00:00:00Z",
         "Display",
         "Publisher B",
         36.519564409759624,
         266.8788978327198
        ],
        [
         "2024-01-07T00:00:00Z",
         "Linear",
         "Network X",
         28.098195879346715,
         266.8788978327198
        ],
        [
         "2024-01-07T00:00:00Z",
         "Linear",
         "Network Y",
         77.62856870123622,
         266.8788978327198
        ],
        [
         "2024-01-07T00:00:00Z",
         "Linear",
         "Network Z",
         101.50325020206652,
         266.8788978327198
        ],
        [
         "2024-01-08T00:00:00Z",
         "Display",
         "Publisher A",
         95.43629345408665,
         280.56074146245015
        ],
        [
         "2024-01-08T00:00:00Z",
         "Display",
         "Publisher B",
         24.03141144634041,
         280.56074146245015
        ],
        [
         "2024-01-08T00:00:00Z",
         "Linear",
         "Network X",
         38.95493403862873,
         280.56074146245015
        ],
        [
         "2024-01-08T00:00:00Z",
         "Linear",
         "Network Y",
         33.643049025602956,
         280.56074146245015
        ],
        [
         "2024-01-08T00:00:00Z",
         "Linear",
         "Network Z",
         43.14864347357966,
         280.56074146245015
        ],
        [
         "2024-01-09T00:00:00Z",
         "Display",
         "Publisher A",
         88.53265570089769,
         343.6017699167735
        ],
        [
         "2024-01-09T00:00:00Z",
         "Display",
         "Publisher B",
         123.06787371621631,
         343.6017699167735
        ],
        [
         "2024-01-09T00:00:00Z",
         "Linear",
         "Network X",
         65.35461420925496,
         343.6017699167735
        ],
        [
         "2024-01-09T00:00:00Z",
         "Linear",
         "Network Y",
         28.945338692766516,
         343.6017699167735
        ],
        [
         "2024-01-09T00:00:00Z",
         "Linear",
         "Network Z",
         48.625258946667124,
         343.6017699167735
        ],
        [
         "2024-01-10T00:00:00Z",
         "Display",
         "Publisher A",
         138.37618605220754,
         354.4701640756453
        ],
        [
         "2024-01-10T00:00:00Z",
         "Display",
         "Publisher B",
         53.44765804661559,
         354.4701640756453
        ],
        [
         "2024-01-10T00:00:00Z",
         "Linear",
         "Network X",
         39.290541077267314,
         354.4701640756453
        ],
        [
         "2024-01-10T00:00:00Z",
         "Linear",
         "Network Y",
         41.96557835403836,
         354.4701640756453
        ],
        [
         "2024-01-10T00:00:00Z",
         "Linear",
         "Network Z",
         65.14540092144037,
         354.4701640756453
        ],
        [
         "2024-01-11T00:00:00Z",
         "Display",
         "Publisher A",
         24.76895203515788,
         318.8171879364081
        ],
        [
         "2024-01-11T00:00:00Z",
         "Display",
         "Publisher B",
         32.97591354370088,
         318.8171879364081
        ],
        [
         "2024-01-11T00:00:00Z",
         "Linear",
         "Network X",
         94.49317180722751,
         318.8171879364081
        ],
        [
         "2024-01-11T00:00:00Z",
         "Linear",
         "Network Y",
         63.84382845969193,
         318.8171879364081
        ],
        [
         "2024-01-11T00:00:00Z",
         "Linear",
         "Network Z",
         53.8548252143664,
         318.8171879364081
        ],
        [
         "2024-01-12T00:00:00Z",
         "Display",
         "Publisher A",
         97.68040694037101,
         328.5209023001466
        ],
        [
         "2024-01-12T00:00:00Z",
         "Display",
         "Publisher B",
         27.44057351344576,
         328.5209023001466
        ],
        [
         "2024-01-12T00:00:00Z",
         "Linear",
         "Network X",
         38.35304751692941,
         328.5209023001466
        ],
        [
         "2024-01-12T00:00:00Z",
         "Linear",
         "Network Y",
         62.36790914344182,
         328.5209023001466
        ],
        [
         "2024-01-12T00:00:00Z",
         "Linear",
         "Network Z",
         60.80743771792089,
         328.5209023001466
        ],
        [
         "2024-01-13T00:00:00Z",
         "Display",
         "Publisher A",
         12.775367228952392,
         294.0389855476548
        ],
        [
         "2024-01-13T00:00:00Z",
         "Display",
         "Publisher B",
         35.41384240815344,
         294.0389855476548
        ],
        [
         "2024-01-13T00:00:00Z",
         "Linear",
         "Network X",
         44.00995111084819,
         294.0389855476548
        ],
        [
         "2024-01-13T00:00:00Z",
         "Linear",
         "Network Y",
         67.33816626095303,
         294.0389855476548
        ],
        [
         "2024-01-13T00:00:00Z",
         "Linear",
         "Network Z",
         60.65290924552799,
         294.0389855476548
        ],
        [
         "2024-01-14T00:00:00Z",
         "Display",
         "Publisher A",
         47.17178892003926,
         299.03255377577676
        ],
        [
         "2024-01-14T00:00:00Z",
         "Display",
         "Publisher B",
         6.423152457180019,
         299.03255377577676
        ],
        [
         "2024-01-14T00:00:00Z",
         "Linear",
         "Network X",
         48.98013583354381,
         299.03255377577676
        ],
        [
         "2024-01-14T00:00:00Z",
         "Linear",
         "Network Y",
         52.3691708335567,
         299.03255377577676
        ],
        [
         "2024-01-14T00:00:00Z",
         "Linear",
         "Network Z",
         218.93993366348613,
         299.03255377577676
        ],
        [
         "2024-01-15T00:00:00Z",
         "Display",
         "Publisher A",
         42.91379317891899,
         354.72305616467787
        ],
        [
         "2024-01-15T00:00:00Z",
         "Display",
         "Publisher B",
         62.611785673919925,
         354.72305616467787
        ],
        [
         "2024-01-15T00:00:00Z",
         "Linear",
         "Network X",
         108.60638276642895,
         354.72305616467787
        ],
        [
         "2024-01-15T00:00:00Z",
         "Linear",
         "Network Y",
         85.14218089417082,
         354.72305616467787
        ],
        [
         "2024-01-15T00:00:00Z",
         "Linear",
         "Network Z",
         126.38413741834438,
         354.72305616467787
        ],
        [
         "2024-01-16T00:00:00Z",
         "Display",
         "Publisher A",
         12.987366582230592,
         310.93040306268705
        ],
        [
         "2024-01-16T00:00:00Z",
         "Display",
         "Publisher B",
         20.611856824809767,
         310.93040306268705
        ],
        [
         "2024-01-16T00:00:00Z",
         "Linear",
         "Network X",
         31.118011333266807,
         310.93040306268705
        ],
        [
         "2024-01-16T00:00:00Z",
         "Linear",
         "Network Y",
         10.77951584556764,
         310.93040306268705
        ],
        [
         "2024-01-16T00:00:00Z",
         "Linear",
         "Network Z",
         52.70271880824443,
         310.93040306268705
        ],
        [
         "2024-01-17T00:00:00Z",
         "Display",
         "Publisher A",
         22.175331317115507,
         347.65964384590336
        ],
        [
         "2024-01-17T00:00:00Z",
         "Display",
         "Publisher B",
         137.2562624004627,
         347.65964384590336
        ],
        [
         "2024-01-17T00:00:00Z",
         "Linear",
         "Network X",
         25.386026413358675,
         347.65964384590336
        ],
        [
         "2024-01-17T00:00:00Z",
         "Linear",
         "Network Y",
         38.535096536089185,
         347.65964384590336
        ],
        [
         "2024-01-17T00:00:00Z",
         "Linear",
         "Network Z",
         88.58886479112758,
         347.65964384590336
        ],
        [
         "2024-01-18T00:00:00Z",
         "Display",
         "Publisher A",
         15.874141709024805,
         305.1313183575435
        ],
        [
         "2024-01-18T00:00:00Z",
         "Display",
         "Publisher B",
         10.007494947299733,
         305.1313183575435
        ],
        [
         "2024-01-18T00:00:00Z",
         "Linear",
         "Network X",
         57.49715231332837,
         305.1313183575435
        ],
        [
         "2024-01-18T00:00:00Z",
         "Linear",
         "Network Y",
         60.75571457249259,
         305.1313183575435
        ],
        [
         "2024-01-18T00:00:00Z",
         "Linear",
         "Network Z",
         86.80363919471492,
         305.1313183575435
        ],
        [
         "2024-01-19T00:00:00Z",
         "Display",
         "Publisher A",
         73.06131660083244,
         333.4952524327863
        ],
        [
         "2024-01-19T00:00:00Z",
         "Display",
         "Publisher B",
         62.40671011710867,
         333.4952524327863
        ],
        [
         "2024-01-19T00:00:00Z",
         "Linear",
         "Network X",
         28.01644250862679,
         333.4952524327863
        ],
        [
         "2024-01-19T00:00:00Z",
         "Linear",
         "Network Y",
         59.545347349108326,
         333.4952524327863
        ],
        [
         "2024-01-19T00:00:00Z",
         "Linear",
         "Network Z",
         62.231227804821074,
         333.4952524327863
        ],
        [
         "2024-01-20T00:00:00Z",
         "Display",
         "Publisher A",
         27.12252878425553,
         382.5773083795075
        ],
        [
         "2024-01-20T00:00:00Z",
         "Display",
         "Publisher B",
         162.6622655933528,
         382.5773083795075
        ],
        [
         "2024-01-20T00:00:00Z",
         "Linear",
         "Network X",
         70.68820712304328,
         382.5773083795075
        ],
        [
         "2024-01-20T00:00:00Z",
         "Linear",
         "Network Y",
         20.953852364111896,
         382.5773083795075
        ],
        [
         "2024-01-20T00:00:00Z",
         "Linear",
         "Network Z",
         87.09833715606786,
         382.5773083795075
        ],
        [
         "2024-01-21T00:00:00Z",
         "Display",
         "Publisher A",
         97.36185421211698,
         378.4978091426351
        ],
        [
         "2024-01-21T00:00:00Z",
         "Display",
         "Publisher B",
         67.75135046284247,
         378.4978091426351
        ],
        [
         "2024-01-21T00:00:00Z",
         "Linear",
         "Network X",
         41.085595144167904,
         378.4978091426351
        ],
        [
         "2024-01-21T00:00:00Z",
         "Linear",
         "Network Y",
         26.120560381386294,
         378.4978091426351
        ],
        [
         "2024-01-21T00:00:00Z",
         "Linear",
         "Network Z",
         47.072915890562946,
         378.4978091426351
        ],
        [
         "2024-01-22T00:00:00Z",
         "Display",
         "Publisher A",
         64.41077837166905,
         393.92042522174506
        ],
        [
         "2024-01-22T00:00:00Z",
         "Display",
         "Publisher B",
         50.50525349074947,
         393.92042522174506
        ],
        [
         "2024-01-22T00:00:00Z",
         "Linear",
         "Network X",
         130.06581650962846,
         393.92042522174506
        ],
        [
         "2024-01-22T00:00:00Z",
         "Linear",
         "Network Y",
         78.35738507541167,
         393.92042522174506
        ],
        [
         "2024-01-22T00:00:00Z",
         "Linear",
         "Network Z",
         23.607601631337957,
         393.92042522174506
        ],
        [
         "2024-01-23T00:00:00Z",
         "Display",
         "Publisher A",
         18.935629644876713,
         365.6518293023193
        ],
        [
         "2024-01-23T00:00:00Z",
         "Display",
         "Publisher B",
         71.11053345051874,
         365.6518293023193
        ],
        [
         "2024-01-23T00:00:00Z",
         "Linear",
         "Network X",
         41.83507577908052,
         365.6518293023193
        ],
        [
         "2024-01-23T00:00:00Z",
         "Linear",
         "Network Y",
         83.06436438568079,
         365.6518293023193
        ],
        [
         "2024-01-23T00:00:00Z",
         "Linear",
         "Network Z",
         70.65916885759476,
         365.6518293023193
        ],
        [
         "2024-01-24T00:00:00Z",
         "Display",
         "Publisher A",
         47.23205638278781,
         323.8676042048405
        ],
        [
         "2024-01-24T00:00:00Z",
         "Display",
         "Publisher B",
         23.851820431801702,
         323.8676042048405
        ],
        [
         "2024-01-24T00:00:00Z",
         "Linear",
         "Network X",
         11.285991740595659,
         323.8676042048405
        ],
        [
         "2024-01-24T00:00:00Z",
         "Linear",
         "Network Y",
         58.75862225093369,
         323.8676042048405
        ],
        [
         "2024-01-24T00:00:00Z",
         "Linear",
         "Network Z",
         15.607546008570965,
         323.8676042048405
        ],
        [
         "2024-01-25T00:00:00Z",
         "Display",
         "Publisher A",
         22.986123882170915,
         325.62609688464414
        ],
        [
         "2024-01-25T00:00:00Z",
         "Display",
         "Publisher B",
         56.19318839959944,
         325.62609688464414
        ],
        [
         "2024-01-25T00:00:00Z",
         "Linear",
         "Network X",
         52.28846626557876,
         325.62609688464414
        ],
        [
         "2024-01-25T00:00:00Z",
         "Linear",
         "Network Y",
         17.51165869420446,
         325.62609688464414
        ],
        [
         "2024-01-25T00:00:00Z",
         "Linear",
         "Network Z",
         104.7697969057066,
         325.62609688464414
        ],
        [
         "2024-01-26T00:00:00Z",
         "Display",
         "Publisher A",
         102.92575291345226,
         387.2235070963725
        ],
        [
         "2024-01-26T00:00:00Z",
         "Display",
         "Publisher B",
         72.71742625127594,
         387.2235070963725
        ],
        [
         "2024-01-26T00:00:00Z",
         "Linear",
         "Network X",
         72.65533362293942,
         387.2235070963725
        ],
        [
         "2024-01-26T00:00:00Z",
         "Linear",
         "Network Y",
         72.71804367392194,
         387.2235070963725
        ],
        [
         "2024-01-26T00:00:00Z",
         "Linear",
         "Network Z",
         96.7967984057119,
         387.2235070963725
        ],
        [
         "2024-01-27T00:00:00Z",
         "Display",
         "Publisher A",
         79.70926082484746,
         363.3163638436309
        ],
        [
         "2024-01-27T00:00:00Z",
         "Display",
         "Publisher B",
         25.643934322426087,
         363.3163638436309
        ],
        [
         "2024-01-27T00:00:00Z",
         "Linear",
         "Network X",
         41.377454421129606,
         363.3163638436309
        ],
        [
         "2024-01-27T00:00:00Z",
         "Linear",
         "Network Y",
         203.89596594673463,
         363.3163638436309
        ],
        [
         "2024-01-27T00:00:00Z",
         "Linear",
         "Network Z",
         6.944529572138106,
         363.3163638436309
        ],
        [
         "2024-01-28T00:00:00Z",
         "Display",
         "Publisher A",
         33.85889128408372,
         358.7350307242944
        ],
        [
         "2024-01-28T00:00:00Z",
         "Display",
         "Publisher B",
         105.14437668084888,
         358.7350307242944
        ],
        [
         "2024-01-28T00:00:00Z",
         "Linear",
         "Network X",
         27.098004787075098,
         358.7350307242944
        ],
        [
         "2024-01-28T00:00:00Z",
         "Linear",
         "Network Y",
         81.2093786504767,
         358.7350307242944
        ],
        [
         "2024-01-28T00:00:00Z",
         "Linear",
         "Network Z",
         51.785839151905655,
         358.7350307242944
        ],
        [
         "2024-01-29T00:00:00Z",
         "Display",
         "Publisher A",
         28.771347510889267,
         312.25716399039214
        ],
        [
         "2024-01-29T00:00:00Z",
         "Display",
         "Publisher B",
         5.430336513634758,
         312.25716399039214
        ],
        [
         "2024-01-29T00:00:00Z",
         "Linear",
         "Network X",
         57.57457559806404,
         312.25716399039214
        ],
        [
         "2024-01-29T00:00:00Z",
         "Linear",
         "Network Y",
         25.15827964448533,
         312.25716399039214
        ],
        [
         "2024-01-29T00:00:00Z",
         "Linear",
         "Network Z",
         45.68662125824423,
         312.25716399039214
        ],
        [
         "2024-01-30T00:00:00Z",
         "Display",
         "Publisher A",
         72.21902909777327,
         347.79642835257425
        ],
        [
         "2024-01-30T00:00:00Z",
         "Display",
         "Publisher B",
         91.58436895041234,
         347.79642835257425
        ],
        [
         "2024-01-30T00:00:00Z",
         "Linear",
         "Network X",
         33.768970673220714,
         347.79642835257425
        ],
        [
         "2024-01-30T00:00:00Z",
         "Linear",
         "Network Y",
         28.72504845972503,
         347.79642835257425
        ],
        [
         "2024-01-30T00:00:00Z",
         "Linear",
         "Network Z",
         15.339182337848902,
         347.79642835257425
        ],
        [
         "2024-01-31T00:00:00Z",
         "Display",
         "Publisher A",
         94.6388721718925,
         444.16238558439403
        ],
        [
         "2024-01-31T00:00:00Z",
         "Display",
         "Publisher B",
         185.45177926525827,
         444.16238558439403
        ],
        [
         "2024-01-31T00:00:00Z",
         "Linear",
         "Network X",
         101.59429149599003,
         444.16238558439403
        ],
        [
         "2024-01-31T00:00:00Z",
         "Linear",
         "Network Y",
         116.86803157928101,
         444.16238558439403
        ],
        [
         "2024-01-31T00:00:00Z",
         "Linear",
         "Network Z",
         27.295022865669473,
         444.16238558439403
        ],
        [
         "2024-02-01T00:00:00Z",
         "Display",
         "Publisher A",
         69.2340499516702,
         390.1619693188034
        ],
        [
         "2024-02-01T00:00:00Z",
         "Display",
         "Publisher B",
         86.40208496882332,
         390.1619693188034
        ],
        [
         "2024-02-01T00:00:00Z",
         "Linear",
         "Network X",
         19.89415792293964,
         390.1619693188034
        ],
        [
         "2024-02-01T00:00:00Z",
         "Linear",
         "Network Y",
         143.61456438797885,
         390.1619693188034
        ],
        [
         "2024-02-01T00:00:00Z",
         "Linear",
         "Network Z",
         12.5464030080295,
         390.1619693188034
        ],
        [
         "2024-02-02T00:00:00Z",
         "Display",
         "Publisher A",
         129.16971047687352,
         363.0755608903171
        ],
        [
         "2024-02-02T00:00:00Z",
         "Display",
         "Publisher B",
         12.458463830907625,
         363.0755608903171
        ],
        [
         "2024-02-02T00:00:00Z",
         "Linear",
         "Network X",
         20.80612979834325,
         363.0755608903171
        ],
        [
         "2024-02-02T00:00:00Z",
         "Linear",
         "Network Y",
         70.11751479409013,
         363.0755608903171
        ],
        [
         "2024-02-02T00:00:00Z",
         "Linear",
         "Network Z",
         52.75243914815838,
         363.0755608903171
        ],
        [
         "2024-02-03T00:00:00Z",
         "Display",
         "Publisher A",
         36.51229899531033,
         359.5163938802317
        ],
        [
         "2024-02-03T00:00:00Z",
         "Display",
         "Publisher B",
         140.0143141616952,
         359.5163938802317
        ],
        [
         "2024-02-03T00:00:00Z",
         "Linear",
         "Network X",
         15.749180643061736,
         359.5163938802317
        ],
        [
         "2024-02-03T00:00:00Z",
         "Linear",
         "Network Y",
         44.34876601678979,
         359.5163938802317
        ],
        [
         "2024-02-03T00:00:00Z",
         "Linear",
         "Network Z",
         76.42185271496714,
         359.5163938802317
        ],
        [
         "2024-02-04T00:00:00Z",
         "Display",
         "Publisher A",
         61.69142730615095,
         318.5095268614002
        ],
        [
         "2024-02-04T00:00:00Z",
         "Display",
         "Publisher B",
         29.552687136058783,
         318.5095268614002
        ],
        [
         "2024-02-04T00:00:00Z",
         "Linear",
         "Network X",
         30.471317518963104,
         318.5095268614002
        ],
        [
         "2024-02-04T00:00:00Z",
         "Linear",
         "Network Y",
         90.65099766776318,
         318.5095268614002
        ],
        [
         "2024-02-04T00:00:00Z",
         "Linear",
         "Network Z",
         93.56073956597311,
         318.5095268614002
        ],
        [
         "2024-02-05T00:00:00Z",
         "Display",
         "Publisher A",
         62.8709649848657,
         299.7494728393767
        ],
        [
         "2024-02-05T00:00:00Z",
         "Display",
         "Publisher B",
         24.27515811496569,
         299.7494728393767
        ],
        [
         "2024-02-05T00:00:00Z",
         "Linear",
         "Network X",
         31.291016757350665,
         299.7494728393767
        ],
        [
         "2024-02-05T00:00:00Z",
         "Linear",
         "Network Y",
         49.19484565390583,
         299.7494728393767
        ],
        [
         "2024-02-05T00:00:00Z",
         "Linear",
         "Network Z",
         54.68311721754667,
         299.7494728393767
        ],
        [
         "2024-02-06T00:00:00Z",
         "Display",
         "Publisher A",
         74.32308355434266,
         339.3799590056766
        ],
        [
         "2024-02-06T00:00:00Z",
         "Display",
         "Publisher B",
         42.57081667929538,
         339.3799590056766
        ],
        [
         "2024-02-06T00:00:00Z",
         "Linear",
         "Network X",
         89.26536697506664,
         339.3799590056766
        ],
        [
         "2024-02-06T00:00:00Z",
         "Linear",
         "Network Y",
         88.5884348602354,
         339.3799590056766
        ],
        [
         "2024-02-06T00:00:00Z",
         "Linear",
         "Network Z",
         119.51861049235573,
         339.3799590056766
        ],
        [
         "2024-02-07T00:00:00Z",
         "Display",
         "Publisher A",
         50.81789487710873,
         347.49580919665755
        ],
        [
         "2024-02-07T00:00:00Z",
         "Display",
         "Publisher B",
         63.63506526079917,
         347.49580919665755
        ],
        [
         "2024-02-07T00:00:00Z",
         "Linear",
         "Network X",
         45.12705619842295,
         347.49580919665755
        ],
        [
         "2024-02-07T00:00:00Z",
         "Linear",
         "Network Y",
         24.53384047550997,
         347.49580919665755
        ],
        [
         "2024-02-07T00:00:00Z",
         "Linear",
         "Network Z",
         182.70288659505388,
         347.49580919665755
        ],
        [
         "2024-02-08T00:00:00Z",
         "Display",
         "Publisher A",
         109.6025018402712,
         390.4910072577198
        ],
        [
         "2024-02-08T00:00:00Z",
         "Display",
         "Publisher B",
         87.3552878535565,
         390.4910072577198
        ],
        [
         "2024-02-08T00:00:00Z",
         "Linear",
         "Network X",
         49.527182780765706,
         390.4910072577198
        ],
        [
         "2024-02-08T00:00:00Z",
         "Linear",
         "Network Y",
         22.678443126328816,
         390.4910072577198
        ],
        [
         "2024-02-08T00:00:00Z",
         "Linear",
         "Network Z",
         98.07281728659608,
         390.4910072577198
        ],
        [
         "2024-02-09T00:00:00Z",
         "Display",
         "Publisher A",
         44.51801372108514,
         350.26331595191516
        ],
        [
         "2024-02-09T00:00:00Z",
         "Display",
         "Publisher B",
         67.75848953166944,
         350.26331595191516
        ],
        [
         "2024-02-09T00:00:00Z",
         "Linear",
         "Network X",
         31.190713561694196,
         350.26331595191516
        ],
        [
         "2024-02-09T00:00:00Z",
         "Linear",
         "Network Y",
         60.1002525493496,
         350.26331595191516
        ],
        [
         "2024-02-09T00:00:00Z",
         "Linear",
         "Network Z",
         32.82396187860735,
         350.26331595191516
        ],
        [
         "2024-02-10T00:00:00Z",
         "Display",
         "Publisher A",
         33.88558559300108,
         309.60794728190785
        ],
        [
         "2024-02-10T00:00:00Z",
         "Display",
         "Publisher B",
         59.5364813475053,
         309.60794728190785
        ],
        [
         "2024-02-10T00:00:00Z",
         "Linear",
         "Network X",
         12.27196425281726,
         309.60794728190785
        ],
        [
         "2024-02-10T00:00:00Z",
         "Linear",
         "Network Y",
         12.899072358243618,
         309.60794728190785
        ],
        [
         "2024-02-10T00:00:00Z",
         "Linear",
         "Network Z",
         27.017233137087644,
         309.60794728190785
        ],
        [
         "2024-02-11T00:00:00Z",
         "Display",
         "Publisher A",
         42.18045463653176,
         320.548183180782
        ],
        [
         "2024-02-11T00:00:00Z",
         "Display",
         "Publisher B",
         91.11578738658861,
         320.548183180782
        ],
        [
         "2024-02-11T00:00:00Z",
         "Linear",
         "Network X",
         44.0578894900501,
         320.548183180782
        ],
        [
         "2024-02-11T00:00:00Z",
         "Linear",
         "Network Y",
         49.286411227185255,
         320.548183180782
        ],
        [
         "2024-02-11T00:00:00Z",
         "Linear",
         "Network Z",
         39.632836301442566,
         320.548183180782
        ],
        [
         "2024-02-12T00:00:00Z",
         "Display",
         "Publisher A",
         63.569235892159554,
         306.40139503517287
        ],
        [
         "2024-02-12T00:00:00Z",
         "Display",
         "Publisher B",
         24.31738676180174,
         306.40139503517287
        ],
        [
         "2024-02-12T00:00:00Z",
         "Linear",
         "Network X",
         45.90491802003248,
         306.40139503517287
        ],
        [
         "2024-02-12T00:00:00Z",
         "Linear",
         "Network Y",
         67.22774377717734,
         306.40139503517287
        ],
        [
         "2024-02-12T00:00:00Z",
         "Linear",
         "Network Z",
         59.190924246978106,
         306.40139503517287
        ],
        [
         "2024-02-13T00:00:00Z",
         "Display",
         "Publisher A",
         50.48928898927748,
         322.40778650225445
        ],
        [
         "2024-02-13T00:00:00Z",
         "Display",
         "Publisher B",
         50.95529512638949,
         322.40778650225445
        ],
        [
         "2024-02-13T00:00:00Z",
         "Linear",
         "Network X",
         71.87370980435318,
         322.40778650225445
        ],
        [
         "2024-02-13T00:00:00Z",
         "Linear",
         "Network Y",
         188.34597590636844,
         322.40778650225445
        ],
        [
         "2024-02-13T00:00:00Z",
         "Linear",
         "Network Z",
         25.780105000565065,
         322.40778650225445
        ],
        [
         "2024-02-14T00:00:00Z",
         "Display",
         "Publisher A",
         191.8005698035517,
         365.45072984519265
        ],
        [
         "2024-02-14T00:00:00Z",
         "Display",
         "Publisher B",
         24.77368833987858,
         365.45072984519265
        ],
        [
         "2024-02-14T00:00:00Z",
         "Linear",
         "Network X",
         4.605404858369432,
         365.45072984519265
        ],
        [
         "2024-02-14T00:00:00Z",
         "Linear",
         "Network Y",
         32.27670028359476,
         365.45072984519265
        ],
        [
         "2024-02-14T00:00:00Z",
         "Linear",
         "Network Z",
         64.43847782506052,
         365.45072984519265
        ],
        [
         "2024-02-15T00:00:00Z",
         "Display",
         "Publisher A",
         163.54790447940613,
         398.2034463494492
        ],
        [
         "2024-02-15T00:00:00Z",
         "Display",
         "Publisher B",
         22.651925050564458,
         398.2034463494492
        ],
        [
         "2024-02-15T00:00:00Z",
         "Linear",
         "Network X",
         71.57424286808354,
         398.2034463494492
        ],
        [
         "2024-02-15T00:00:00Z",
         "Linear",
         "Network Y",
         14.317198339498175,
         398.2034463494492
        ],
        [
         "2024-02-15T00:00:00Z",
         "Linear",
         "Network Z",
         159.76169064900628,
         398.2034463494492
        ],
        [
         "2024-02-16T00:00:00Z",
         "Display",
         "Publisher A",
         111.00239433031656,
         420.9140842992608
        ],
        [
         "2024-02-16T00:00:00Z",
         "Display",
         "Publisher B",
         33.94127579570432,
         420.9140842992608
        ],
        [
         "2024-02-16T00:00:00Z",
         "Linear",
         "Network X",
         122.9007837323495,
         420.9140842992608
        ],
        [
         "2024-02-16T00:00:00Z",
         "Linear",
         "Network Y",
         45.6937913193362,
         420.9140842992608
        ],
        [
         "2024-02-16T00:00:00Z",
         "Linear",
         "Network Z",
         114.89461838009022,
         420.9140842992608
        ],
        [
         "2024-02-17T00:00:00Z",
         "Display",
         "Publisher A",
         50.203362704770505,
         378.05164536295547
        ],
        [
         "2024-02-17T00:00:00Z",
         "Display",
         "Publisher B",
         51.84171158033383,
         378.05164536295547
        ],
        [
         "2024-02-17T00:00:00Z",
         "Linear",
         "Network X",
         34.516166379072835,
         378.05164536295547
        ],
        [
         "2024-02-17T00:00:00Z",
         "Linear",
         "Network Y",
         78.21025624429689,
         378.05164536295547
        ],
        [
         "2024-02-17T00:00:00Z",
         "Linear",
         "Network Z",
         54.80523841698929,
         378.05164536295547
        ],
        [
         "2024-02-18T00:00:00Z",
         "Display",
         "Publisher A",
         72.68777834463697,
         388.03103927189716
        ],
        [
         "2024-02-18T00:00:00Z",
         "Display",
         "Publisher B",
         11.011612154789175,
         388.03103927189716
        ],
        [
         "2024-02-18T00:00:00Z",
         "Linear",
         "Network X",
         117.60392221783547,
         388.03103927189716
        ],
        [
         "2024-02-18T00:00:00Z",
         "Linear",
         "Network Y",
         137.34873477934875,
         388.03103927189716
        ],
        [
         "2024-02-18T00:00:00Z",
         "Linear",
         "Network Z",
         54.615197664935046,
         388.03103927189716
        ],
        [
         "2024-02-19T00:00:00Z",
         "Display",
         "Publisher A",
         179.81119925714674,
         515.9482583514288
        ],
        [
         "2024-02-19T00:00:00Z",
         "Display",
         "Publisher B",
         153.45124969233436,
         515.9482583514288
        ],
        [
         "2024-02-19T00:00:00Z",
         "Linear",
         "Network X",
         79.39175524598988,
         515.9482583514288
        ],
        [
         "2024-02-19T00:00:00Z",
         "Linear",
         "Network Y",
         123.94483896108777,
         515.9482583514288
        ],
        [
         "2024-02-19T00:00:00Z",
         "Linear",
         "Network Z",
         103.21572744769495,
         515.9482583514288
        ],
        [
         "2024-02-20T00:00:00Z",
         "Display",
         "Publisher A",
         8.133891027110792,
         418.7636070634371
        ],
        [
         "2024-02-20T00:00:00Z",
         "Display",
         "Publisher B",
         40.27488956837839,
         418.7636070634371
        ],
        [
         "2024-02-20T00:00:00Z",
         "Linear",
         "Network X",
         83.25692320679211,
         418.7636070634371
        ],
        [
         "2024-02-20T00:00:00Z",
         "Linear",
         "Network Y",
         143.31771895135634,
         418.7636070634371
        ],
        [
         "2024-02-20T00:00:00Z",
         "Linear",
         "Network Z",
         13.333317549430577,
         418.7636070634371
        ],
        [
         "2024-02-21T00:00:00Z",
         "Display",
         "Publisher A",
         8.78967215944734,
         354.541697774911
        ],
        [
         "2024-02-21T00:00:00Z",
         "Display",
         "Publisher B",
         47.87935482770691,
         354.541697774911
        ],
        [
         "2024-02-21T00:00:00Z",
         "Linear",
         "Network X",
         5.06588536187712,
         354.541697774911
        ],
        [
         "2024-02-21T00:00:00Z",
         "Linear",
         "Network Y",
         46.62721032690055,
         354.541697774911
        ],
        [
         "2024-02-21T00:00:00Z",
         "Linear",
         "Network Z",
         65.58463550912808,
         354.541697774911
        ],
        [
         "2024-02-22T00:00:00Z",
         "Display",
         "Publisher A",
         21.71777386568974,
         362.9390410749014
        ],
        [
         "2024-02-22T00:00:00Z",
         "Display",
         "Publisher B",
         47.61152375907501,
         362.9390410749014
        ],
        [
         "2024-02-22T00:00:00Z",
         "Linear",
         "Network X",
         96.8654302864916,
         362.9390410749014
        ],
        [
         "2024-02-22T00:00:00Z",
         "Linear",
         "Network Y",
         32.14662231003256,
         362.9390410749014
        ],
        [
         "2024-02-22T00:00:00Z",
         "Linear",
         "Network Z",
         25.149653931021767,
         362.9390410749014
        ],
        [
         "2024-02-23T00:00:00Z",
         "Display",
         "Publisher A",
         45.96823171622142,
         410.0753248242759
        ],
        [
         "2024-02-23T00:00:00Z",
         "Display",
         "Publisher B",
         19.66760111218377,
         410.0753248242759
        ],
        [
         "2024-02-23T00:00:00Z",
         "Linear",
         "Network X",
         171.22229998596487,
         410.0753248242759
        ],
        [
         "2024-02-23T00:00:00Z",
         "Linear",
         "Network Y",
         51.37822441693847,
         410.0753248242759
        ],
        [
         "2024-02-23T00:00:00Z",
         "Linear",
         "Network Z",
         27.501045218502057,
         410.0753248242759
        ],
        [
         "2024-02-24T00:00:00Z",
         "Display",
         "Publisher A",
         58.753712746849814,
         410.15713802333727
        ],
        [
         "2024-02-24T00:00:00Z",
         "Display",
         "Publisher B",
         45.77450942415038,
         410.15713802333727
        ],
        [
         "2024-02-24T00:00:00Z",
         "Linear",
         "Network X",
         41.92087380583672,
         410.15713802333727
        ],
        [
         "2024-02-24T00:00:00Z",
         "Linear",
         "Network Y",
         32.13959684092845,
         410.15713802333727
        ],
        [
         "2024-02-24T00:00:00Z",
         "Linear",
         "Network Z",
         30.8500022974572,
         410.15713802333727
        ],
        [
         "2024-02-25T00:00:00Z",
         "Display",
         "Publisher A",
         11.281055662264652,
         429.242250430829
        ],
        [
         "2024-02-25T00:00:00Z",
         "Display",
         "Publisher B",
         123.82022048318436,
         429.242250430829
        ],
        [
         "2024-02-25T00:00:00Z",
         "Linear",
         "Network X",
         75.81908731054696,
         429.242250430829
        ],
        [
         "2024-02-25T00:00:00Z",
         "Linear",
         "Network Y",
         63.0493847003694,
         429.242250430829
        ],
        [
         "2024-02-25T00:00:00Z",
         "Linear",
         "Network Z",
         45.20760063003143,
         429.242250430829
        ],
        [
         "2024-02-26T00:00:00Z",
         "Display",
         "Publisher A",
         21.371756269826157,
         360.6237119656077
        ],
        [
         "2024-02-26T00:00:00Z",
         "Display",
         "Publisher B",
         26.05493195945253,
         360.6237119656077
        ],
        [
         "2024-02-26T00:00:00Z",
         "Linear",
         "Network X",
         12.66832871785047,
         360.6237119656077
        ],
        [
         "2024-02-26T00:00:00Z",
         "Linear",
         "Network Y",
         28.906264181839006,
         360.6237119656077
        ],
        [
         "2024-02-26T00:00:00Z",
         "Linear",
         "Network Z",
         18.720430611572976,
         360.6237119656077
        ],
        [
         "2024-02-27T00:00:00Z",
         "Display",
         "Publisher A",
         147.94039612276524,
         439.197726199208
        ],
        [
         "2024-02-27T00:00:00Z",
         "Display",
         "Publisher B",
         92.50845007757314,
         439.197726199208
        ],
        [
         "2024-02-27T00:00:00Z",
         "Linear",
         "Network X",
         53.05671880705417,
         439.197726199208
        ],
        [
         "2024-02-27T00:00:00Z",
         "Linear",
         "Network Y",
         23.510825205472983,
         439.197726199208
        ],
        [
         "2024-02-27T00:00:00Z",
         "Linear",
         "Network Z",
         19.62596650532556,
         439.197726199208
        ],
        [
         "2024-02-28T00:00:00Z",
         "Display",
         "Publisher A",
         42.98456790847381,
         393.0777747417917
        ],
        [
         "2024-02-28T00:00:00Z",
         "Display",
         "Publisher B",
         95.13252982951111,
         393.0777747417917
        ],
        [
         "2024-02-28T00:00:00Z",
         "Linear",
         "Network X",
         13.039205849894495,
         393.0777747417917
        ],
        [
         "2024-02-28T00:00:00Z",
         "Linear",
         "Network Y",
         75.12661157928137,
         393.0777747417917
        ],
        [
         "2024-02-28T00:00:00Z",
         "Linear",
         "Network Z",
         28.797017949505538,
         393.0777747417917
        ],
        [
         "2024-02-29T00:00:00Z",
         "Display",
         "Publisher A",
         33.40714191198632,
         341.70218834579816
        ],
        [
         "2024-02-29T00:00:00Z",
         "Display",
         "Publisher B",
         51.902876372792974,
         341.70218834579816
        ],
        [
         "2024-02-29T00:00:00Z",
         "Linear",
         "Network X",
         24.228413502581514,
         341.70218834579816
        ],
        [
         "2024-02-29T00:00:00Z",
         "Linear",
         "Network Y",
         41.30480158937639,
         341.70218834579816
        ],
        [
         "2024-02-29T00:00:00Z",
         "Linear",
         "Network Z",
         22.443553177268914,
         341.70218834579816
        ],
        [
         "2024-03-01T00:00:00Z",
         "Display",
         "Publisher A",
         30.823257205601227,
         344.58260680628865
        ],
        [
         "2024-03-01T00:00:00Z",
         "Display",
         "Publisher B",
         85.3333140717416,
         344.58260680628865
        ],
        [
         "2024-03-01T00:00:00Z",
         "Linear",
         "Network X",
         53.94663625371584,
         344.58260680628865
        ],
        [
         "2024-03-01T00:00:00Z",
         "Linear",
         "Network Y",
         85.11203477709942,
         344.58260680628865
        ],
        [
         "2024-03-01T00:00:00Z",
         "Linear",
         "Network Z",
         28.476994740966823,
         344.58260680628865
        ],
        [
         "2024-03-02T00:00:00Z",
         "Display",
         "Publisher A",
         75.5149113146012,
         331.0328569737862
        ],
        [
         "2024-03-02T00:00:00Z",
         "Display",
         "Publisher B",
         9.74401642460635,
         331.0328569737862
        ],
        [
         "2024-03-02T00:00:00Z",
         "Linear",
         "Network X",
         51.88553928585529,
         331.0328569737862
        ],
        [
         "2024-03-02T00:00:00Z",
         "Linear",
         "Network Y",
         79.0347151754243,
         331.0328569737862
        ],
        [
         "2024-03-02T00:00:00Z",
         "Linear",
         "Network Z",
         9.30834166477088,
         331.0328569737862
        ],
        [
         "2024-03-03T00:00:00Z",
         "Display",
         "Publisher A",
         28.76503099206271,
         350.6102399936839
        ],
        [
         "2024-03-03T00:00:00Z",
         "Display",
         "Publisher B",
         51.85830063665442,
         350.6102399936839
        ],
        [
         "2024-03-03T00:00:00Z",
         "Linear",
         "Network X",
         99.97681848287912,
         350.6102399936839
        ],
        [
         "2024-03-03T00:00:00Z",
         "Linear",
         "Network Y",
         30.819875808418683,
         350.6102399936839
        ],
        [
         "2024-03-03T00:00:00Z",
         "Linear",
         "Network Z",
         73.45414319439152,
         350.6102399936839
        ],
        [
         "2024-03-04T00:00:00Z",
         "Display",
         "Publisher A",
         129.19124689421653,
         402.9342559948677
        ],
        [
         "2024-03-04T00:00:00Z",
         "Display",
         "Publisher B",
         75.84542517477485,
         402.9342559948677
        ],
        [
         "2024-03-04T00:00:00Z",
         "Linear",
         "Network X",
         42.5411556578253,
         402.9342559948677
        ],
        [
         "2024-03-04T00:00:00Z",
         "Linear",
         "Network Y",
         65.79591191266081,
         402.9342559948677
        ],
        [
         "2024-03-04T00:00:00Z",
         "Linear",
         "Network Z",
         30.066103208895377,
         402.9342559948677
        ],
        [
         "2024-03-05T00:00:00Z",
         "Display",
         "Publisher A",
         53.42914473135959,
         376.6202291364092
        ],
        [
         "2024-03-05T00:00:00Z",
         "Display",
         "Publisher B",
         44.20975342004036,
         376.6202291364092
        ],
        [
         "2024-03-05T00:00:00Z",
         "Linear",
         "Network X",
         64.24816743120536,
         376.6202291364092
        ],
        [
         "2024-03-05T00:00:00Z",
         "Linear",
         "Network Y",
         35.68436389598573,
         376.6202291364092
        ],
        [
         "2024-03-05T00:00:00Z",
         "Linear",
         "Network Z",
         66.8858128592317,
         376.6202291364092
        ],
        [
         "2024-03-06T00:00:00Z",
         "Display",
         "Publisher A",
         35.40340625452612,
         365.723090874978
        ],
        [
         "2024-03-06T00:00:00Z",
         "Display",
         "Publisher B",
         91.89604718185466,
         365.723090874978
        ],
        [
         "2024-03-06T00:00:00Z",
         "Linear",
         "Network X",
         38.40625136346205,
         365.723090874978
        ],
        [
         "2024-03-06T00:00:00Z",
         "Linear",
         "Network Y",
         5.316686722215406,
         365.723090874978
        ],
        [
         "2024-03-06T00:00:00Z",
         "Linear",
         "Network Z",
         20.237654147266767,
         365.723090874978
        ],
        [
         "2024-03-07T00:00:00Z",
         "Display",
         "Publisher A",
         50.71673850315813,
         411.5791316222148
        ],
        [
         "2024-03-07T00:00:00Z",
         "Display",
         "Publisher B",
         147.08759786280987,
         411.5791316222148
        ],
        [
         "2024-03-07T00:00:00Z",
         "Linear",
         "Network X",
         89.49293555314509,
         411.5791316222148
        ],
        [
         "2024-03-07T00:00:00Z",
         "Linear",
         "Network Y",
         3.950090458155917,
         411.5791316222148
        ],
        [
         "2024-03-07T00:00:00Z",
         "Linear",
         "Network Z",
         11.81467146321372,
         411.5791316222148
        ],
        [
         "2024-03-08T00:00:00Z",
         "Display",
         "Publisher A",
         108.6668851989739,
         486.8260133737685
        ],
        [
         "2024-03-08T00:00:00Z",
         "Display",
         "Publisher B",
         78.72973482474188,
         486.8260133737685
        ],
        [
         "2024-03-08T00:00:00Z",
         "Linear",
         "Network X",
         199.58048401774266,
         486.8260133737685
        ],
        [
         "2024-03-08T00:00:00Z",
         "Linear",
         "Network Y",
         34.235728418545456,
         486.8260133737685
        ],
        [
         "2024-03-08T00:00:00Z",
         "Linear",
         "Network Z",
         23.77975925475352,
         486.8260133737685
        ],
        [
         "2024-03-09T00:00:00Z",
         "Display",
         "Publisher A",
         52.823281181821905,
         454.54577169675
        ],
        [
         "2024-03-09T00:00:00Z",
         "Display",
         "Publisher B",
         33.68817733274953,
         454.54577169675
        ],
        [
         "2024-03-09T00:00:00Z",
         "Linear",
         "Network X",
         101.9099154886661,
         454.54577169675
        ],
        [
         "2024-03-09T00:00:00Z",
         "Linear",
         "Network Y",
         32.73413826393688,
         454.54577169675
        ],
        [
         "2024-03-09T00:00:00Z",
         "Linear",
         "Network Z",
         40.25919660799039,
         454.54577169675
        ],
        [
         "2024-03-10T00:00:00Z",
         "Display",
         "Publisher A",
         20.865441104532657,
         428.6780872703383
        ],
        [
         "2024-03-10T00:00:00Z",
         "Display",
         "Publisher B",
         85.42169782332859,
         428.6780872703383
        ],
        [
         "2024-03-10T00:00:00Z",
         "Linear",
         "Network X",
         22.11364826197604,
         428.6780872703383
        ],
        [
         "2024-03-10T00:00:00Z",
         "Linear",
         "Network Y",
         67.7823702776463,
         428.6780872703383
        ],
        [
         "2024-03-10T00:00:00Z",
         "Linear",
         "Network Z",
         163.60124668706976,
         428.6780872703383
        ],
        [
         "2024-03-11T00:00:00Z",
         "Display",
         "Publisher A",
         7.905454368859251,
         432.3334083321251
        ],
        [
         "2024-03-11T00:00:00Z",
         "Display",
         "Publisher B",
         133.20485044044355,
         432.3334083321251
        ],
        [
         "2024-03-11T00:00:00Z",
         "Linear",
         "Network X",
         61.645849512434594,
         432.3334083321251
        ],
        [
         "2024-03-11T00:00:00Z",
         "Linear",
         "Network Y",
         17.85021763564118,
         432.3334083321251
        ],
        [
         "2024-03-11T00:00:00Z",
         "Linear",
         "Network Z",
         54.35764112591038,
         432.3334083321251
        ],
        [
         "2024-03-12T00:00:00Z",
         "Display",
         "Publisher A",
         83.70521375909655,
         422.9074635978865
        ],
        [
         "2024-03-12T00:00:00Z",
         "Display",
         "Publisher B",
         25.20844921777965,
         422.9074635978865
        ],
        [
         "2024-03-12T00:00:00Z",
         "Linear",
         "Network X",
         70.57291179676926,
         422.9074635978865
        ],
        [
         "2024-03-12T00:00:00Z",
         "Linear",
         "Network Y",
         140.56672035135313,
         422.9074635978865
        ],
        [
         "2024-03-12T00:00:00Z",
         "Linear",
         "Network Z",
         32.6991304979246,
         422.9074635978865
        ],
        [
         "2024-03-13T00:00:00Z",
         "Display",
         "Publisher A",
         20.631846351443084,
         390.63938428658844
        ],
        [
         "2024-03-13T00:00:00Z",
         "Display",
         "Publisher B",
         45.28480409570927,
         390.63938428658844
        ],
        [
         "2024-03-13T00:00:00Z",
         "Linear",
         "Network X",
         52.189418160819436,
         390.63938428658844
        ],
        [
         "2024-03-13T00:00:00Z",
         "Linear",
         "Network Y",
         105.47789724320383,
         390.63938428658844
        ],
        [
         "2024-03-13T00:00:00Z",
         "Linear",
         "Network Z",
         44.126650130070516,
         390.63938428658844
        ],
        [
         "2024-03-14T00:00:00Z",
         "Display",
         "Publisher A",
         35.22229123465838,
         345.43744257576316
        ],
        [
         "2024-03-14T00:00:00Z",
         "Display",
         "Publisher B",
         20.152622606988626,
         345.43744257576316
        ],
        [
         "2024-03-14T00:00:00Z",
         "Linear",
         "Network X",
         9.392736723102866,
         345.43744257576316
        ],
        [
         "2024-03-14T00:00:00Z",
         "Linear",
         "Network Y",
         14.832612684118152,
         345.43744257576316
        ],
        [
         "2024-03-14T00:00:00Z",
         "Linear",
         "Network Z",
         14.744621450914586,
         345.43744257576316
        ],
        [
         "2024-03-15T00:00:00Z",
         "Display",
         "Publisher A",
         40.60489109272027,
         340.6612901030879
        ],
        [
         "2024-03-15T00:00:00Z",
         "Display",
         "Publisher B",
         11.454876429201795,
         340.6612901030879
        ],
        [
         "2024-03-15T00:00:00Z",
         "Linear",
         "Network X",
         47.92651043156996,
         340.6612901030879
        ],
        [
         "2024-03-15T00:00:00Z",
         "Linear",
         "Network Y",
         161.23632356191783,
         340.6612901030879
        ],
        [
         "2024-03-15T00:00:00Z",
         "Linear",
         "Network Z",
         107.55372114142514,
         340.6612901030879
        ],
        [
         "2024-03-16T00:00:00Z",
         "Display",
         "Publisher A",
         40.29226496354632,
         436.1057082800425
        ],
        [
         "2024-03-16T00:00:00Z",
         "Display",
         "Publisher B",
         230.55437922143676,
         436.1057082800425
        ],
        [
         "2024-03-16T00:00:00Z",
         "Linear",
         "Network X",
         52.32876704917782,
         436.1057082800425
        ],
        [
         "2024-03-16T00:00:00Z",
         "Linear",
         "Network Y",
         58.070854907241234,
         436.1057082800425
        ],
        [
         "2024-03-16T00:00:00Z",
         "Linear",
         "Network Z",
         44.614755302297404,
         436.1057082800425
        ],
        [
         "2024-03-17T00:00:00Z",
         "Display",
         "Publisher A",
         48.7421688252268,
         375.2290585198572
        ],
        [
         "2024-03-17T00:00:00Z",
         "Display",
         "Publisher B",
         31.76823557484253,
         375.2290585198572
        ],
        [
         "2024-03-17T00:00:00Z",
         "Linear",
         "Network X",
         40.76064149603177,
         375.2290585198572
        ],
        [
         "2024-03-17T00:00:00Z",
         "Linear",
         "Network Y",
         133.7973435555491,
         375.2290585198572
        ],
        [
         "2024-03-17T00:00:00Z",
         "Linear",
         "Network Z",
         115.45319308803265,
         375.2290585198572
        ],
        [
         "2024-03-18T00:00:00Z",
         "Display",
         "Publisher A",
         5.015983320948208,
         316.14577247438723
        ],
        [
         "2024-03-18T00:00:00Z",
         "Display",
         "Publisher B",
         12.898320245858258,
         316.14577247438723
        ],
        [
         "2024-03-18T00:00:00Z",
         "Linear",
         "Network X",
         25.52026802378384,
         316.14577247438723
        ],
        [
         "2024-03-18T00:00:00Z",
         "Linear",
         "Network Y",
         95.69864753264741,
         316.14577247438723
        ],
        [
         "2024-03-18T00:00:00Z",
         "Linear",
         "Network Z",
         117.18509216155422,
         316.14577247438723
        ],
        [
         "2024-03-19T00:00:00Z",
         "Display",
         "Publisher A",
         83.48182852981195,
         330.75594984038395
        ],
        [
         "2024-03-19T00:00:00Z",
         "Display",
         "Publisher B",
         17.78086757249493,
         330.75594984038395
        ],
        [
         "2024-03-19T00:00:00Z",
         "Linear",
         "Network X",
         32.312433011911494,
         330.75594984038395
        ],
        [
         "2024-03-19T00:00:00Z",
         "Linear",
         "Network Y",
         71.44913876894233,
         330.75594984038395
        ],
        [
         "2024-03-19T00:00:00Z",
         "Linear",
         "Network Z",
         41.25785405809707,
         330.75594984038395
        ],
        [
         "2024-03-20T00:00:00Z",
         "Display",
         "Publisher A",
         36.84283743191056,
         353.372005579976
        ],
        [
         "2024-03-20T00:00:00Z",
         "Display",
         "Publisher B",
         37.28232697728135,
         353.372005579976
        ],
        [
         "2024-03-20T00:00:00Z",
         "Linear",
         "Network X",
         109.68218438690796,
         353.372005579976
        ],
        [
         "2024-03-20T00:00:00Z",
         "Linear",
         "Network Y",
         76.66796812641981,
         353.372005579976
        ],
        [
         "2024-03-20T00:00:00Z",
         "Linear",
         "Network Z",
         38.94398030413653,
         353.372005579976
        ],
        [
         "2024-03-21T00:00:00Z",
         "Display",
         "Publisher A",
         63.72456014500477,
         339.4896740633292
        ],
        [
         "2024-03-21T00:00:00Z",
         "Display",
         "Publisher B",
         15.511952430636942,
         339.4896740633292
        ],
        [
         "2024-03-21T00:00:00Z",
         "Linear",
         "Network X",
         32.364490828530336,
         339.4896740633292
        ],
        [
         "2024-03-21T00:00:00Z",
         "Linear",
         "Network Y",
         102.62566342192328,
         339.4896740633292
        ],
        [
         "2024-03-21T00:00:00Z",
         "Linear",
         "Network Z",
         10.696655481000667,
         339.4896740633292
        ],
        [
         "2024-03-22T00:00:00Z",
         "Display",
         "Publisher A",
         77.33469079278929,
         388.70362385497725
        ],
        [
         "2024-03-22T00:00:00Z",
         "Display",
         "Publisher B",
         4.944918188254476,
         388.70362385497725
        ],
        [
         "2024-03-22T00:00:00Z",
         "Linear",
         "Network X",
         148.68516455110435,
         388.70362385497725
        ],
        [
         "2024-03-22T00:00:00Z",
         "Linear",
         "Network Y",
         31.725481736122877,
         388.70362385497725
        ],
        [
         "2024-03-22T00:00:00Z",
         "Linear",
         "Network Z",
         67.10629792848304,
         388.70362385497725
        ],
        [
         "2024-03-23T00:00:00Z",
         "Display",
         "Publisher A",
         54.555780130822086,
         399.7957383876612
        ],
        [
         "2024-03-23T00:00:00Z",
         "Display",
         "Publisher B",
         56.04999068901777,
         399.7957383876612
        ],
        [
         "2024-03-23T00:00:00Z",
         "Linear",
         "Network X",
         62.89362896173456,
         399.7957383876612
        ],
        [
         "2024-03-23T00:00:00Z",
         "Linear",
         "Network Y",
         8.707454355013656,
         399.7957383876612
        ],
        [
         "2024-03-23T00:00:00Z",
         "Linear",
         "Network Z",
         56.913833287594635,
         399.7957383876612
        ],
        [
         "2024-03-24T00:00:00Z",
         "Display",
         "Publisher A",
         43.20749465696476,
         363.7741271523801
        ],
        [
         "2024-03-24T00:00:00Z",
         "Display",
         "Publisher B",
         31.87326002179848,
         363.7741271523801
        ],
        [
         "2024-03-24T00:00:00Z",
         "Linear",
         "Network X",
         25.508198019114154,
         363.7741271523801
        ],
        [
         "2024-03-24T00:00:00Z",
         "Linear",
         "Network Y",
         57.975072809515396,
         363.7741271523801
        ],
        [
         "2024-03-24T00:00:00Z",
         "Linear",
         "Network Z",
         20.873897476425768,
         363.7741271523801
        ],
        [
         "2024-03-25T00:00:00Z",
         "Display",
         "Publisher A",
         101.3887983494804,
         404.69211709262487
        ],
        [
         "2024-03-25T00:00:00Z",
         "Display",
         "Publisher B",
         70.62795190965295,
         404.69211709262487
        ],
        [
         "2024-03-25T00:00:00Z",
         "Linear",
         "Network X",
         60.58594578034825,
         404.69211709262487
        ],
        [
         "2024-03-25T00:00:00Z",
         "Linear",
         "Network Y",
         98.53301423660704,
         404.69211709262487
        ],
        [
         "2024-03-25T00:00:00Z",
         "Linear",
         "Network Z",
         7.222277767361951,
         404.69211709262487
        ],
        [
         "2024-03-26T00:00:00Z",
         "Display",
         "Publisher A",
         15.012217233510539,
         356.9071950380503
        ],
        [
         "2024-03-26T00:00:00Z",
         "Display",
         "Publisher B",
         72.84794531157549,
         356.9071950380503
        ],
        [
         "2024-03-26T00:00:00Z",
         "Linear",
         "Network X",
         26.83011346653884,
         356.9071950380503
        ],
        [
         "2024-03-26T00:00:00Z",
         "Linear",
         "Network Y",
         29.858741551264206,
         356.9071950380503
        ],
        [
         "2024-03-26T00:00:00Z",
         "Linear",
         "Network Z",
         12.911674772919136,
         356.9071950380503
        ],
        [
         "2024-03-27T00:00:00Z",
         "Display",
         "Publisher A",
         20.928018629749655,
         368.4893398399054
        ],
        [
         "2024-03-27T00:00:00Z",
         "Display",
         "Publisher B",
         102.91570952452322,
         368.4893398399054
        ],
        [
         "2024-03-27T00:00:00Z",
         "Linear",
         "Network X",
         71.64307263926078,
         368.4893398399054
        ],
        [
         "2024-03-27T00:00:00Z",
         "Linear",
         "Network Y",
         57.50575114116373,
         368.4893398399054
        ],
        [
         "2024-03-27T00:00:00Z",
         "Linear",
         "Network Z",
         30.8550667293953,
         368.4893398399054
        ],
        [
         "2024-03-28T00:00:00Z",
         "Display",
         "Publisher A",
         54.87584696098683,
         383.40114654408137
        ],
        [
         "2024-03-28T00:00:00Z",
         "Display",
         "Publisher B",
         109.0259373118997,
         383.40114654408137
        ],
        [
         "2024-03-28T00:00:00Z",
         "Linear",
         "Network X",
         27.41142061582159,
         383.40114654408137
        ],
        [
         "2024-03-28T00:00:00Z",
         "Linear",
         "Network Y",
         48.65710667010307,
         383.40114654408137
        ],
        [
         "2024-03-28T00:00:00Z",
         "Linear",
         "Network Z",
         154.71921866644348,
         383.40114654408137
        ],
        [
         "2024-03-29T00:00:00Z",
         "Display",
         "Publisher A",
         82.72536657451454,
         379.8254816896696
        ],
        [
         "2024-03-29T00:00:00Z",
         "Display",
         "Publisher B",
         31.226291805480106,
         379.8254816896696
        ],
        [
         "2024-03-29T00:00:00Z",
         "Linear",
         "Network X",
         78.15599432297186,
         379.8254816896696
        ],
        [
         "2024-03-29T00:00:00Z",
         "Linear",
         "Network Y",
         10.509410823857435,
         379.8254816896696
        ],
        [
         "2024-03-29T00:00:00Z",
         "Linear",
         "Network Z",
         47.17225411512469,
         379.8254816896696
        ],
        [
         "2024-03-30T00:00:00Z",
         "Display",
         "Publisher A",
         78.09665337410459,
         403.2761868921213
        ],
        [
         "2024-03-30T00:00:00Z",
         "Display",
         "Publisher B",
         66.21780361447986,
         403.2761868921213
        ],
        [
         "2024-03-30T00:00:00Z",
         "Linear",
         "Network X",
         77.57195119330636,
         403.2761868921213
        ],
        [
         "2024-03-30T00:00:00Z",
         "Linear",
         "Network Y",
         89.7510531412406,
         403.2761868921213
        ],
        [
         "2024-03-30T00:00:00Z",
         "Linear",
         "Network Z",
         69.97575777488272,
         403.2761868921213
        ]
       ],
       "datasetInfos": [],
       "dbfsResultPath": null,
       "isJsonSchema": true,
       "metadata": {},
       "overflow": false,
       "plotOptions": {
        "customPlotOptions": {},
        "displayType": "table",
        "pivotAggregation": null,
        "pivotColumns": null,
        "xColumns": null,
        "yColumns": null
       },
       "removedWidgets": [],
       "schema": [
        {
         "metadata": "{}",
         "name": "date",
         "type": "\"timestamp\""
        },
        {
         "metadata": "{}",
         "name": "channel",
         "type": "\"string\""
        },
        {
         "metadata": "{}",
         "name": "subchannel",
         "type": "\"string\""
        },
        {
         "metadata": "{}",
         "name": "spend",
         "type": "\"double\""
        },
        {
         "metadata": "{}",
         "name": "y",
         "type": "\"double\""
        }
       ],
       "type": "table"
      }
     },
     "output_type": "display_data"
    }
   ],
   "source": [
    "\n",
    "# Set random seed for reproducibility\n",
    "np.random.seed(42)\n",
    "\n",
    "# Time settings\n",
    "n_days = 90\n",
    "dates = pd.date_range(start=\"2024-01-01\", periods=n_days, freq=\"D\")\n",
    "\n",
    "# Channel structure\n",
    "channel_structure = {\n",
    "    \"Display\": [\"Publisher A\", \"Publisher B\"],\n",
    "    \"Linear\": [\"Network X\", \"Network Y\", \"Network Z\"]\n",
    "}\n",
    "\n",
    "# Flatten subchannels into a list with tuples (channel, subchannel)\n",
    "channel_subchannel_pairs = [(ch, sub) for ch, subs in channel_structure.items() for sub in subs]\n",
    "\n",
    "# Create base dataset\n",
    "data = []\n",
    "for day in dates:\n",
    "    for channel, subchannel in channel_subchannel_pairs:\n",
    "        spend = np.random.gamma(shape=2.0, scale=30.0)  # smaller scale\n",
    "        data.append({\n",
    "            \"date\": day,\n",
    "            \"channel\": channel,\n",
    "            \"subchannel\": subchannel,\n",
    "            \"spend\": spend,\n",
    "        })\n",
    "\n",
    "df_mini = pd.DataFrame(data)\n",
    "\n",
    "# Assign ground-truth beta per subchannel (with higher variability)\n",
    "unique_subchannels = df_mini[\"subchannel\"].unique()\n",
    "true_betas = {sub: np.random.normal(loc=0.4, scale=0.3) for sub in unique_subchannels}  # Higher scale for more variability\n",
    "\n",
    "# Assign channel-level priors for alpha\n",
    "unique_channels = df_mini[\"channel\"].unique()\n",
    "mu_alpha_channels = {\n",
    "    \"Display\": 0.3,  # Channel 1 (Display) mean alpha\n",
    "    \"Linear\": 0.8   # Channel 2 (Linear) mean alpha\n",
    "}\n",
    "sigma_alpha_channels = {channel: np.random.uniform(0.05, 0.1) for channel in unique_channels}  # Channel-level std dev for alphas\n",
    "\n",
    "# Assign subchannel alphas using channel-level priors\n",
    "true_alphas = {}\n",
    "for subchannel in unique_subchannels:\n",
    "    channel = df_mini[df_mini[\"subchannel\"] == subchannel][\"channel\"].iloc[0]\n",
    "    mu_alpha = mu_alpha_channels[channel]\n",
    "    sigma_alpha = sigma_alpha_channels[channel]\n",
    "    true_alphas[subchannel] = np.random.normal(loc=mu_alpha, scale=.1)\n",
    "\n",
    "# Print the ground-truth parameters for reference\n",
    "print(\"true subchannel_betas:\", true_betas)\n",
    "print(\"true channel_mu_alphas:\", mu_alpha_channels)\n",
    "print(\"true channel_sigma_alphas:\", sigma_alpha_channels)\n",
    "print(\"true subchannel_alphas:\", true_alphas)\n",
    "\n",
    "# Adstock transformation function\n",
    "def geometric_adstock(spend, alpha):\n",
    "    \"\"\"\n",
    "    Applies geometric adstock to a time series of spend.\n",
    "    \n",
    "    Parameters:\n",
    "        spend (array-like): A time series of media spend.\n",
    "        alpha (float): Adstock decay parameter (0 < alpha < 1). Higher alpha means slower decay.\n",
    "        \n",
    "    Returns:\n",
    "        numpy.ndarray: Adstock-transformed spend.\n",
    "    \"\"\"\n",
    "    if not (0 < alpha < 1):\n",
    "        raise ValueError(\"Alpha must be between 0 and 1 (exclusive).\")\n",
    "    \n",
    "    adstocked = np.zeros_like(spend, dtype=np.float64)\n",
    "    carryover = 0\n",
    "    for t in range(len(spend)):\n",
    "        adstocked[t] = spend[t] + alpha * carryover\n",
    "        carryover = adstocked[t]\n",
    "    return adstocked\n",
    "  \n",
    "true_intercept = 50\n",
    "\n",
    "# Simulate adstock and Y\n",
    "y_by_day = {}\n",
    "for day in dates:\n",
    "    daily_df = df_mini[df_mini[\"date\"] <= day]\n",
    "    signal = 0\n",
    "    for sub in unique_subchannels:\n",
    "        sub_spend = daily_df[daily_df[\"subchannel\"] == sub].sort_values(\"date\")[\"spend\"].values\n",
    "        alpha = true_alphas[sub]  # Use subchannel alpha (partially pooled by channel)\n",
    "        adstocked = geometric_adstock(sub_spend, alpha)\n",
    "        beta = true_betas[sub]\n",
    "        if len(adstocked) > 0:\n",
    "            signal += beta * adstocked[-1]\n",
    "    noise = np.random.normal(0, 0.1)\n",
    "    y = true_intercept + signal + noise\n",
    "    y_by_day[day] = y\n",
    "\n",
    "# Merge y into daily subchannel data\n",
    "y_df = pd.DataFrame({\"date\": list(y_by_day.keys()), \"y\": list(y_by_day.values())})\n",
    "df_mini = df_mini.merge(y_df, on=\"date\", how=\"left\")\n",
    "\n",
    "# Display the updated dataframe\n",
    "display(df_mini)"
   ]
  },
  {
   "cell_type": "code",
   "execution_count": 0,
   "metadata": {
    "application/vnd.databricks.v1+cell": {
     "cellMetadata": {
      "byteLimit": 2048000,
      "rowLimit": 10000
     },
     "inputWidgets": {},
     "nuid": "025e6c32-3ea3-4995-a4ad-1c1cf4329726",
     "showTitle": false,
     "tableResultSettingsMap": {},
     "title": ""
    }
   },
   "outputs": [
    {
     "output_type": "execute_result",
     "data": {
      "text/plain": [
       "array(['Publisher A', 'Publisher B', 'Network X', 'Network Y',\n",
       "       'Network Z'], dtype=object)"
      ]
     },
     "execution_count": 3,
     "metadata": {},
     "output_type": "execute_result"
    }
   ],
   "source": [
    "unique_subchannels"
   ]
  },
  {
   "cell_type": "code",
   "execution_count": 0,
   "metadata": {
    "application/vnd.databricks.v1+cell": {
     "cellMetadata": {
      "byteLimit": 2048000,
      "rowLimit": 10000
     },
     "inputWidgets": {},
     "nuid": "afda3c52-a1ed-483b-a35d-009ae1a2b726",
     "showTitle": false,
     "tableResultSettingsMap": {},
     "title": ""
    }
   },
   "outputs": [],
   "source": [
    "\n",
    "# Split spend by channel for adstock transformation\n",
    "channel_names = df_mini[\"channel\"].unique()\n",
    "channel_to_idx = {name: i for i, name in enumerate(channel_names)}\n",
    "df_mini[\"channel_idx\"] = df_mini[\"channel\"].map(channel_to_idx).astype(int)\n",
    "\n",
    "subchannel_names = df_mini[\"subchannel\"].unique()\n",
    "subchannel_to_idx = {name: i for i, name in enumerate(subchannel_names)}\n",
    "df_mini[\"subchannel_idx\"] = df_mini[\"subchannel\"].map(subchannel_to_idx).astype(int)\n"
   ]
  },
  {
   "cell_type": "code",
   "execution_count": 0,
   "metadata": {
    "application/vnd.databricks.v1+cell": {
     "cellMetadata": {
      "byteLimit": 2048000,
      "rowLimit": 10000
     },
     "inputWidgets": {},
     "nuid": "94d138f6-6c14-49d8-ad9d-9f1f3e58a7eb",
     "showTitle": false,
     "tableResultSettingsMap": {},
     "title": ""
    }
   },
   "outputs": [],
   "source": [
    "# Group spend data by subchannel\n",
    "x_by_subchannel = []\n",
    "obs_idx_by_subchannel = []\n",
    "\n",
    "# Loop through unique subchannels to extract spend data and corresponding indices\n",
    "for subchannel in df_mini[\"subchannel\"].unique():\n",
    "    subchannel_spend = df_mini[df_mini[\"subchannel\"] == subchannel][\"spend\"].values  # Spend for this subchannel\n",
    "    subchannel_indices = df_mini[df_mini[\"subchannel\"] == subchannel].index.values  # Row indices in df_mini\n",
    "\n",
    "    x_by_subchannel.append(subchannel_spend)\n",
    "    obs_idx_by_subchannel.append(subchannel_indices)"
   ]
  },
  {
   "cell_type": "code",
   "execution_count": 0,
   "metadata": {
    "application/vnd.databricks.v1+cell": {
     "cellMetadata": {
      "byteLimit": 2048000,
      "rowLimit": 10000
     },
     "inputWidgets": {},
     "nuid": "2a6e53c3-6822-44dc-9d99-7b7a6c3a36f1",
     "showTitle": false,
     "tableResultSettingsMap": {},
     "title": ""
    }
   },
   "outputs": [
    {
     "output_type": "stream",
     "name": "stdout",
     "output_type": "stream",
     "text": [
      "n_channels: 2\nn_subchannels: 5\n"
     ]
    }
   ],
   "source": [
    "\n",
    "# Prepare final inputs\n",
    "y = df_mini[\"y\"].values\n",
    "subchannel_idx = df_mini[\"subchannel_idx\"].values\n",
    "channel_idx = df_mini[\"channel_idx\"].values\n",
    "n_channels = len(channel_names)\n",
    "print(\"n_channels:\", n_channels)\n",
    "n_subchannels = len(subchannel_names)\n",
    "print(\"n_subchannels:\", n_subchannels)"
   ]
  },
  {
   "cell_type": "markdown",
   "metadata": {
    "application/vnd.databricks.v1+cell": {
     "cellMetadata": {
      "byteLimit": 2048000,
      "rowLimit": 10000
     },
     "inputWidgets": {},
     "nuid": "049b889a-25ac-4384-81cc-f1665596860b",
     "showTitle": false,
     "tableResultSettingsMap": {},
     "title": ""
    }
   },
   "source": [
    "# Functionality for Geometric Adstock Transform"
   ]
  },
  {
   "cell_type": "code",
   "execution_count": 0,
   "metadata": {
    "application/vnd.databricks.v1+cell": {
     "cellMetadata": {
      "byteLimit": 2048000,
      "rowLimit": 10000
     },
     "inputWidgets": {},
     "nuid": "6c671e97-5e50-4f5a-86c1-ecbce2fbac1e",
     "showTitle": false,
     "tableResultSettingsMap": {},
     "title": ""
    }
   },
   "outputs": [],
   "source": [
    "# Define a custom PyTensor-based adstock transformation\n",
    "def adstock_transform(x, alpha):\n",
    "    \"\"\"\n",
    "    Perform Geometric Adstock Transformation.\n",
    "    Args:\n",
    "        x: The spend vector for a channel (1D array).\n",
    "        alpha: The adstock decay factor (scalar).\n",
    "    Returns:\n",
    "        A PyTensor symbolic vector with the adstocked values.\n",
    "    \"\"\"\n",
    "    def step(x_t, adstocked_t_minus_1, alpha):\n",
    "        return x_t + alpha * adstocked_t_minus_1\n",
    "\n",
    "    adstocked, _ = scan(\n",
    "        fn=step,\n",
    "        sequences=[x],\n",
    "        outputs_info=pt.zeros_like(x[0]),  # Initialize adstocked values with zero\n",
    "        non_sequences=[alpha],\n",
    "    )\n",
    "    return adstocked\n"
   ]
  },
  {
   "cell_type": "markdown",
   "metadata": {
    "application/vnd.databricks.v1+cell": {
     "cellMetadata": {
      "byteLimit": 2048000,
      "rowLimit": 10000
     },
     "inputWidgets": {},
     "nuid": "a89ff7f3-54a5-4ba8-ac64-9e9d8b61187b",
     "showTitle": false,
     "tableResultSettingsMap": {},
     "title": ""
    }
   },
   "source": [
    "# Run Model"
   ]
  },
  {
   "cell_type": "code",
   "execution_count": 0,
   "metadata": {
    "application/vnd.databricks.v1+cell": {
     "cellMetadata": {
      "byteLimit": 2048000,
      "rowLimit": 10000
     },
     "inputWidgets": {},
     "nuid": "63dc7aa6-9b40-4147-87de-76669a5d0b13",
     "showTitle": false,
     "tableResultSettingsMap": {},
     "title": ""
    }
   },
   "outputs": [
    {
     "output_type": "stream",
     "name": "stdout",
     "output_type": "stream",
     "text": [
      "subchannel_to_channel: {'Publisher A': 0, 'Publisher B': 0, 'Network X': 1, 'Network Y': 1, 'Network Z': 1}\nchannel_idx_for_each_subchannel: [0 0 1 1 1]\n"
     ]
    }
   ],
   "source": [
    "# Create mapping from subchannel to its parent channel index\n",
    "subchannel_to_channel = (\n",
    "    df_mini.drop_duplicates(\"subchannel\")[[\"subchannel\", \"channel_idx\"]]\n",
    "    .set_index(\"subchannel\")[\"channel_idx\"]\n",
    "    .to_dict()\n",
    ")\n",
    "\n",
    "# Create an array where each element is the channel_idx for the corresponding subchannel\n",
    "channel_idx_for_each_subchannel = np.array([\n",
    "    subchannel_to_channel[sub] for sub in subchannel_names\n",
    "])\n",
    "\n",
    "print(\"subchannel_to_channel:\", subchannel_to_channel)\n",
    "print(\"channel_idx_for_each_subchannel:\", channel_idx_for_each_subchannel)"
   ]
  },
  {
   "cell_type": "code",
   "execution_count": 0,
   "metadata": {
    "application/vnd.databricks.v1+cell": {
     "cellMetadata": {
      "byteLimit": 2048000,
      "rowLimit": 10000
     },
     "inputWidgets": {},
     "nuid": "edabcd8a-f675-40b2-9cc9-0fde19cd2ded",
     "showTitle": false,
     "tableResultSettingsMap": {},
     "title": ""
    }
   },
   "outputs": [],
   "source": []
  },
  {
   "cell_type": "code",
   "execution_count": 0,
   "metadata": {
    "application/vnd.databricks.v1+cell": {
     "cellMetadata": {
      "byteLimit": 2048000,
      "rowLimit": 10000
     },
     "inputWidgets": {},
     "nuid": "471b1dcf-a44f-4009-b8a9-e40e899e177d",
     "showTitle": false,
     "tableResultSettingsMap": {},
     "title": ""
    }
   },
   "outputs": [
    {
     "output_type": "stream",
     "name": "stderr",
     "output_type": "stream",
     "text": [
      "/local_disk0/.ephemeral_nfs/cluster_libraries/python/lib/python3.12/site-packages/pymc/data.py:265: FutureWarning: MutableData is deprecated. All Data variables are now mutable. Use Data instead.\n  warnings.warn(\nInitializing NUTS using jitter+adapt_diag...\nINFO:pymc.sampling.mcmc:Initializing NUTS using jitter+adapt_diag...\nMultiprocess sampling (4 chains in 4 jobs)\nINFO:pymc.sampling.mcmc:Multiprocess sampling (4 chains in 4 jobs)\nNUTS: [mu_alpha, sigma_alpha, adstock_alpha, beta, intercept, sigma]\nINFO:pymc.sampling.mcmc:NUTS: [mu_alpha, sigma_alpha, adstock_alpha, beta, intercept, sigma]\n"
     ]
    },
    {
     "output_type": "display_data",
     "data": {
      "application/vnd.jupyter.widget-view+json": {
       "model_id": "dd7e3204621240cab3aa12ed7a1902a3",
       "version_major": 2,
       "version_minor": 0
      },
      "text/plain": [
       "Output()"
      ]
     },
     "metadata": {},
     "output_type": "display_data"
    }
   ],
   "source": [
    "coords = {\n",
    "    \"channel\": [\"Display\", \"Linear\"],\n",
    "    \"subchannel\": [\"Publisher A\", \"Publisher B\", \"Network X\", \"Network Y\", \"Network Z\"],\n",
    "    \"obs_id\": np.arange(len(df_mini))\n",
    "}\n",
    "\n",
    "with pm.Model(coords=coords) as model:\n",
    "    pm.MutableData(\"subchannel_idx\", subchannel_idx, dims=\"obs_id\")\n",
    "    pm.MutableData(\"channel_idx_for_each_subchannel\", channel_idx_for_each_subchannel, dims=\"subchannel\")\n",
    "\n",
    "    mu_alpha = pm.Normal(\"mu_alpha\", mu=[0.3, 0.8], sigma=0.05, dims=\"channel\")\n",
    "    sigma_alpha = pm.HalfNormal(\"sigma_alpha\", sigma=0.1, dims=\"channel\")\n",
    "\n",
    "    alpha = pm.Normal(\n",
    "        \"adstock_alpha\",\n",
    "        mu=mu_alpha[channel_idx_for_each_subchannel],\n",
    "        sigma=sigma_alpha[channel_idx_for_each_subchannel],\n",
    "        dims=\"subchannel\"\n",
    "    )\n",
    "\n",
    "    # Subchannel-specific betas (NO PARTIAL POOLING)\n",
    "    beta = pm.TruncatedNormal(\"beta\", mu=0.4, sigma=0.3, lower=0, upper=1, dims=\"subchannel\")\n",
    "\n",
    "\n",
    "    # Global intercept term\n",
    "    intercept = pm.Normal(\"intercept\", mu=50, sigma=5)\n",
    "\n",
    "    # Noise term (likelihood scale)\n",
    "    sigma = pm.HalfNormal(\"sigma\", sigma=.1)\n",
    "\n",
    "    # ---- APPLY ADSTOCK TRANSFORMATION PER SUBCHANNEL ----\n",
    "\n",
    "    # Preallocate a vector for the full adstocked spend,\n",
    "    # aligned to each row of the original dataset (df_mini)\n",
    "    adstocked_full = pt.zeros_like(df_mini[\"spend\"].values.astype(float))\n",
    "\n",
    "    # Loop through each subchannel and apply adstock transformation\n",
    "    for sub_idx, (x_sub, idx_sub) in enumerate(zip(x_by_subchannel, obs_idx_by_subchannel)):\n",
    "        # Convert raw spend array for current subchannel to a PyTensor variable\n",
    "        x_sub_tensor = pt.as_tensor_variable(x_sub.astype(float))\n",
    "\n",
    "        # Apply adstock to this subchannel's spend using its specific alpha\n",
    "        adstocked_s = adstock_transform(x_sub_tensor, alpha[sub_idx])\n",
    "\n",
    "        # Insert the transformed values back into the correct positions\n",
    "        # in the global adstocked_full vector\n",
    "        adstocked_full = pt.set_subtensor(adstocked_full[idx_sub], adstocked_s)\n",
    "\n",
    "    # ---- LINEAR MODEL ----\n",
    "\n",
    "    # Compute the predicted response using:\n",
    "    # - intercept\n",
    "    # - subchannel-specific betas\n",
    "    # - adstock\n",
    "    mu = intercept + beta[subchannel_idx] * adstocked_full\n",
    "\n",
    "    # Likelihood function: observed y values modeled as Normal(mu, sigma)\n",
    "    likelihood = pm.Normal(\"obs\", mu=mu, sigma=sigma, observed=y)\n",
    "\n",
    "    # ---- SAMPLING ----\n",
    "\n",
    "    # Run MCMC to sample from the posterior distribution\n",
    "    trace = pm.sample(200, tune=200, return_inferencedata=True)"
   ]
  },
  {
   "cell_type": "code",
   "execution_count": 0,
   "metadata": {
    "application/vnd.databricks.v1+cell": {
     "cellMetadata": {
      "byteLimit": 2048000,
      "rowLimit": 10000
     },
     "inputWidgets": {},
     "nuid": "ac6dd379-fafd-49e9-8040-ee2dc0e2a7e7",
     "showTitle": false,
     "tableResultSettingsMap": {},
     "title": ""
    }
   },
   "outputs": [
    {
     "output_type": "stream",
     "name": "stdout",
     "output_type": "stream",
     "text": [
      "Posterior Summary:\n"
     ]
    },
    {
     "output_type": "display_data",
     "data": {
      "text/html": [
       "<style scoped>\n",
       "  .table-result-container {\n",
       "    max-height: 300px;\n",
       "    overflow: auto;\n",
       "  }\n",
       "  table, th, td {\n",
       "    border: 1px solid black;\n",
       "    border-collapse: collapse;\n",
       "  }\n",
       "  th, td {\n",
       "    padding: 5px;\n",
       "  }\n",
       "  th {\n",
       "    text-align: left;\n",
       "  }\n",
       "</style><div class='table-result-container'><table class='table-result'><thead style='background-color: white'><tr><th>index</th><th>mean</th><th>sd</th><th>hdi_3%</th><th>hdi_97%</th><th>mcse_mean</th><th>mcse_sd</th><th>ess_bulk</th><th>ess_tail</th><th>r_hat</th></tr></thead><tbody><tr><td>adstock_alpha[Publisher A]</td><td>-0.05</td><td>0.44</td><td>-0.52</td><td>0.68</td><td>0.21</td><td>0.11</td><td>4.36</td><td>4.35</td><td>18.49</td></tr><tr><td>adstock_alpha[Publisher B]</td><td>0.39</td><td>0.42</td><td>-0.15</td><td>1.04</td><td>0.2</td><td>0.1</td><td>4.36</td><td>4.35</td><td>18.49</td></tr><tr><td>adstock_alpha[Network X]</td><td>1.42</td><td>0.31</td><td>0.93</td><td>1.77</td><td>0.15</td><td>0.07</td><td>4.55</td><td>12.05</td><td>6.01</td></tr><tr><td>adstock_alpha[Network Y]</td><td>1.45</td><td>0.31</td><td>0.94</td><td>1.77</td><td>0.15</td><td>0.07</td><td>4.55</td><td>12.05</td><td>4.75</td></tr><tr><td>adstock_alpha[Network Z]</td><td>1.39</td><td>0.28</td><td>0.92</td><td>1.63</td><td>0.14</td><td>0.07</td><td>4.58</td><td>12.05</td><td>5.41</td></tr><tr><td>beta[Publisher A]</td><td>0.39</td><td>0.1</td><td>0.28</td><td>0.49</td><td>0.05</td><td>0.01</td><td>4.36</td><td>4.35</td><td>18.16</td></tr><tr><td>beta[Publisher B]</td><td>0.48</td><td>0.12</td><td>0.28</td><td>0.61</td><td>0.06</td><td>0.03</td><td>4.36</td><td>4.35</td><td>18.49</td></tr><tr><td>beta[Network X]</td><td>0.46</td><td>0.15</td><td>0.32</td><td>0.71</td><td>0.07</td><td>0.04</td><td>4.37</td><td>4.35</td><td>13.15</td></tr><tr><td>beta[Network Y]</td><td>0.44</td><td>0.11</td><td>0.31</td><td>0.6</td><td>0.05</td><td>0.02</td><td>4.55</td><td>12.05</td><td>5.89</td></tr><tr><td>beta[Network Z]</td><td>0.42</td><td>0.05</td><td>0.37</td><td>0.47</td><td>0.02</td><td>0.0</td><td>4.47</td><td>11.52</td><td>6.01</td></tr><tr><td>intercept</td><td>50.25</td><td>0.48</td><td>49.72</td><td>50.85</td><td>0.23</td><td>0.05</td><td>4.37</td><td>4.35</td><td>14.32</td></tr><tr><td>mu_alpha[Display]</td><td>-0.2</td><td>0.52</td><td>-0.66</td><td>0.64</td><td>0.25</td><td>0.12</td><td>4.48</td><td>18.23</td><td>18.41</td></tr><tr><td>mu_alpha[Linear]</td><td>1.55</td><td>0.18</td><td>1.35</td><td>1.75</td><td>0.09</td><td>0.01</td><td>4.47</td><td>11.71</td><td>16.27</td></tr><tr><td>sigma</td><td>0.16</td><td>0.12</td><td>0.07</td><td>0.37</td><td>0.06</td><td>0.03</td><td>4.55</td><td>11.52</td><td>4.75</td></tr><tr><td>sigma_alpha[Display]</td><td>0.13</td><td>0.08</td><td>0.05</td><td>0.22</td><td>0.04</td><td>0.0</td><td>4.37</td><td>4.35</td><td>14.47</td></tr><tr><td>sigma_alpha[Linear]</td><td>0.1</td><td>0.06</td><td>0.04</td><td>0.16</td><td>0.03</td><td>0.0</td><td>4.36</td><td>4.35</td><td>16.27</td></tr></tbody></table></div>"
      ]
     },
     "metadata": {
      "application/vnd.databricks.v1+output": {
       "addedWidgets": {},
       "aggData": [],
       "aggError": "",
       "aggOverflow": false,
       "aggSchema": [],
       "aggSeriesLimitReached": false,
       "aggType": "",
       "arguments": {},
       "columnCustomDisplayInfos": {},
       "data": [
        [
         "adstock_alpha[Publisher A]",
         -0.05,
         0.44,
         -0.52,
         0.68,
         0.21,
         0.11,
         4.36,
         4.35,
         18.49
        ],
        [
         "adstock_alpha[Publisher B]",
         0.39,
         0.42,
         -0.15,
         1.04,
         0.2,
         0.1,
         4.36,
         4.35,
         18.49
        ],
        [
         "adstock_alpha[Network X]",
         1.42,
         0.31,
         0.93,
         1.77,
         0.15,
         0.07,
         4.55,
         12.05,
         6.01
        ],
        [
         "adstock_alpha[Network Y]",
         1.45,
         0.31,
         0.94,
         1.77,
         0.15,
         0.07,
         4.55,
         12.05,
         4.75
        ],
        [
         "adstock_alpha[Network Z]",
         1.39,
         0.28,
         0.92,
         1.63,
         0.14,
         0.07,
         4.58,
         12.05,
         5.41
        ],
        [
         "beta[Publisher A]",
         0.39,
         0.1,
         0.28,
         0.49,
         0.05,
         0.01,
         4.36,
         4.35,
         18.16
        ],
        [
         "beta[Publisher B]",
         0.48,
         0.12,
         0.28,
         0.61,
         0.06,
         0.03,
         4.36,
         4.35,
         18.49
        ],
        [
         "beta[Network X]",
         0.46,
         0.15,
         0.32,
         0.71,
         0.07,
         0.04,
         4.37,
         4.35,
         13.15
        ],
        [
         "beta[Network Y]",
         0.44,
         0.11,
         0.31,
         0.6,
         0.05,
         0.02,
         4.55,
         12.05,
         5.89
        ],
        [
         "beta[Network Z]",
         0.42,
         0.05,
         0.37,
         0.47,
         0.02,
         0.0,
         4.47,
         11.52,
         6.01
        ],
        [
         "intercept",
         50.25,
         0.48,
         49.72,
         50.85,
         0.23,
         0.05,
         4.37,
         4.35,
         14.32
        ],
        [
         "mu_alpha[Display]",
         -0.2,
         0.52,
         -0.66,
         0.64,
         0.25,
         0.12,
         4.48,
         18.23,
         18.41
        ],
        [
         "mu_alpha[Linear]",
         1.55,
         0.18,
         1.35,
         1.75,
         0.09,
         0.01,
         4.47,
         11.71,
         16.27
        ],
        [
         "sigma",
         0.16,
         0.12,
         0.07,
         0.37,
         0.06,
         0.03,
         4.55,
         11.52,
         4.75
        ],
        [
         "sigma_alpha[Display]",
         0.13,
         0.08,
         0.05,
         0.22,
         0.04,
         0.0,
         4.37,
         4.35,
         14.47
        ],
        [
         "sigma_alpha[Linear]",
         0.1,
         0.06,
         0.04,
         0.16,
         0.03,
         0.0,
         4.36,
         4.35,
         16.27
        ]
       ],
       "datasetInfos": [],
       "dbfsResultPath": null,
       "isJsonSchema": true,
       "metadata": {},
       "overflow": false,
       "plotOptions": {
        "customPlotOptions": {},
        "displayType": "table",
        "pivotAggregation": null,
        "pivotColumns": null,
        "xColumns": null,
        "yColumns": null
       },
       "removedWidgets": [],
       "schema": [
        {
         "metadata": "{}",
         "name": "index",
         "type": "\"string\""
        },
        {
         "metadata": "{}",
         "name": "mean",
         "type": "\"double\""
        },
        {
         "metadata": "{}",
         "name": "sd",
         "type": "\"double\""
        },
        {
         "metadata": "{}",
         "name": "hdi_3%",
         "type": "\"double\""
        },
        {
         "metadata": "{}",
         "name": "hdi_97%",
         "type": "\"double\""
        },
        {
         "metadata": "{}",
         "name": "mcse_mean",
         "type": "\"double\""
        },
        {
         "metadata": "{}",
         "name": "mcse_sd",
         "type": "\"double\""
        },
        {
         "metadata": "{}",
         "name": "ess_bulk",
         "type": "\"double\""
        },
        {
         "metadata": "{}",
         "name": "ess_tail",
         "type": "\"double\""
        },
        {
         "metadata": "{}",
         "name": "r_hat",
         "type": "\"double\""
        }
       ],
       "type": "table"
      }
     },
     "output_type": "display_data"
    }
   ],
   "source": [
    "import arviz as az # Output Results\n",
    "\n",
    "\n",
    "# 1. Posterior Summary\n",
    "print(\"Posterior Summary:\")\n",
    "summary = az.summary(trace, round_to=2).reset_index()\n",
    "display(summary)"
   ]
  },
  {
   "cell_type": "code",
   "execution_count": 0,
   "metadata": {
    "application/vnd.databricks.v1+cell": {
     "cellMetadata": {
      "byteLimit": 2048000,
      "rowLimit": 10000
     },
     "inputWidgets": {},
     "nuid": "b728c831-aa3d-4a9e-a1f0-bf9cc681407d",
     "showTitle": false,
     "tableResultSettingsMap": {},
     "title": ""
    }
   },
   "outputs": [
    {
     "output_type": "display_data",
     "data": {
      "text/plain": [
       "com.databricks.backend.common.rpc.CommandSkippedException\n",
       "\tat com.databricks.spark.chauffeur.SequenceExecutionState.$anonfun$cancel$3(SequenceExecutionState.scala:134)\n",
       "\tat com.databricks.spark.chauffeur.SequenceExecutionState.$anonfun$cancel$3$adapted(SequenceExecutionState.scala:129)\n",
       "\tat scala.collection.immutable.Range.foreach(Range.scala:158)\n",
       "\tat com.databricks.spark.chauffeur.SequenceExecutionState.cancel(SequenceExecutionState.scala:129)\n",
       "\tat com.databricks.spark.chauffeur.ExecContextState.cancelRunningSequence(ExecContextState.scala:715)\n",
       "\tat com.databricks.spark.chauffeur.ExecContextState.$anonfun$cancel$1(ExecContextState.scala:435)\n",
       "\tat scala.Option.getOrElse(Option.scala:189)\n",
       "\tat com.databricks.spark.chauffeur.ExecContextState.cancel(ExecContextState.scala:435)\n",
       "\tat com.databricks.spark.chauffeur.ExecutionContextManagerV1.cancelExecution(ExecutionContextManagerV1.scala:466)\n",
       "\tat com.databricks.spark.chauffeur.ChauffeurState.$anonfun$process$1(ChauffeurState.scala:757)\n",
       "\tat com.databricks.logging.UsageLogging.$anonfun$recordOperation$1(UsageLogging.scala:508)\n",
       "\tat com.databricks.logging.UsageLogging.executeThunkAndCaptureResultTags$1(UsageLogging.scala:613)\n",
       "\tat com.databricks.logging.UsageLogging.$anonfun$recordOperationWithResultTags$4(UsageLogging.scala:636)\n",
       "\tat com.databricks.logging.AttributionContextTracing.$anonfun$withAttributionContext$1(AttributionContextTracing.scala:49)\n",
       "\tat com.databricks.logging.AttributionContext$.$anonfun$withValue$1(AttributionContext.scala:293)\n",
       "\tat scala.util.DynamicVariable.withValue(DynamicVariable.scala:62)\n",
       "\tat com.databricks.logging.AttributionContext$.withValue(AttributionContext.scala:289)\n",
       "\tat com.databricks.logging.AttributionContextTracing.withAttributionContext(AttributionContextTracing.scala:47)\n",
       "\tat com.databricks.logging.AttributionContextTracing.withAttributionContext$(AttributionContextTracing.scala:44)\n",
       "\tat com.databricks.spark.chauffeur.ChauffeurState.withAttributionContext(ChauffeurState.scala:83)\n",
       "\tat com.databricks.logging.AttributionContextTracing.withAttributionTags(AttributionContextTracing.scala:96)\n",
       "\tat com.databricks.logging.AttributionContextTracing.withAttributionTags$(AttributionContextTracing.scala:77)\n",
       "\tat com.databricks.spark.chauffeur.ChauffeurState.withAttributionTags(ChauffeurState.scala:83)\n",
       "\tat com.databricks.logging.UsageLogging.recordOperationWithResultTags(UsageLogging.scala:608)\n",
       "\tat com.databricks.logging.UsageLogging.recordOperationWithResultTags$(UsageLogging.scala:517)\n",
       "\tat com.databricks.spark.chauffeur.ChauffeurState.recordOperationWithResultTags(ChauffeurState.scala:83)\n",
       "\tat com.databricks.logging.UsageLogging.recordOperation(UsageLogging.scala:509)\n",
       "\tat com.databricks.logging.UsageLogging.recordOperation$(UsageLogging.scala:475)\n",
       "\tat com.databricks.spark.chauffeur.ChauffeurState.recordOperation(ChauffeurState.scala:83)\n",
       "\tat com.databricks.spark.chauffeur.ChauffeurState.process(ChauffeurState.scala:735)\n",
       "\tat com.databricks.spark.chauffeur.Chauffeur$$anon$1$$anonfun$receive$1.handleDriverRequest$1(Chauffeur.scala:903)\n",
       "\tat com.databricks.spark.chauffeur.Chauffeur$$anon$1$$anonfun$receive$1.$anonfun$applyOrElse$4(Chauffeur.scala:929)\n",
       "\tat com.databricks.logging.UsageLogging.executeThunkAndCaptureResultTags$1(UsageLogging.scala:613)\n",
       "\tat com.databricks.logging.UsageLogging.$anonfun$recordOperationWithResultTags$4(UsageLogging.scala:636)\n",
       "\tat com.databricks.logging.AttributionContextTracing.$anonfun$withAttributionContext$1(AttributionContextTracing.scala:49)\n",
       "\tat com.databricks.logging.AttributionContext$.$anonfun$withValue$1(AttributionContext.scala:293)\n",
       "\tat scala.util.DynamicVariable.withValue(DynamicVariable.scala:62)\n",
       "\tat com.databricks.logging.AttributionContext$.withValue(AttributionContext.scala:289)\n",
       "\tat com.databricks.logging.AttributionContextTracing.withAttributionContext(AttributionContextTracing.scala:47)\n",
       "\tat com.databricks.logging.AttributionContextTracing.withAttributionContext$(AttributionContextTracing.scala:44)\n",
       "\tat com.databricks.rpc.ServerBackend.withAttributionContext(ServerBackend.scala:22)\n",
       "\tat com.databricks.logging.AttributionContextTracing.withAttributionTags(AttributionContextTracing.scala:96)\n",
       "\tat com.databricks.logging.AttributionContextTracing.withAttributionTags$(AttributionContextTracing.scala:77)\n",
       "\tat com.databricks.rpc.ServerBackend.withAttributionTags(ServerBackend.scala:22)\n",
       "\tat com.databricks.logging.UsageLogging.recordOperationWithResultTags(UsageLogging.scala:608)\n",
       "\tat com.databricks.logging.UsageLogging.recordOperationWithResultTags$(UsageLogging.scala:517)\n",
       "\tat com.databricks.rpc.ServerBackend.recordOperationWithResultTags(ServerBackend.scala:22)\n",
       "\tat com.databricks.spark.chauffeur.Chauffeur$$anon$1$$anonfun$receive$1.handleDriverRequestWithUsageLogging$1(Chauffeur.scala:928)\n",
       "\tat com.databricks.spark.chauffeur.Chauffeur$$anon$1$$anonfun$receive$1.applyOrElse(Chauffeur.scala:983)\n",
       "\tat com.databricks.spark.chauffeur.Chauffeur$$anon$1$$anonfun$receive$1.applyOrElse(Chauffeur.scala:775)\n",
       "\tat com.databricks.rpc.ServerBackend.$anonfun$internalReceive0$2(ServerBackend.scala:174)\n",
       "\tat com.databricks.rpc.ServerBackend$$anonfun$commonReceive$1.applyOrElse(ServerBackend.scala:200)\n",
       "\tat com.databricks.rpc.ServerBackend$$anonfun$commonReceive$1.applyOrElse(ServerBackend.scala:200)\n",
       "\tat com.databricks.rpc.ServerBackend.internalReceive0(ServerBackend.scala:171)\n",
       "\tat com.databricks.rpc.ServerBackend.$anonfun$internalReceive$1(ServerBackend.scala:147)\n",
       "\tat com.databricks.logging.UsageLogging.$anonfun$recordOperation$1(UsageLogging.scala:508)\n",
       "\tat com.databricks.logging.UsageLogging.executeThunkAndCaptureResultTags$1(UsageLogging.scala:613)\n",
       "\tat com.databricks.logging.UsageLogging.$anonfun$recordOperationWithResultTags$4(UsageLogging.scala:636)\n",
       "\tat com.databricks.logging.AttributionContextTracing.$anonfun$withAttributionContext$1(AttributionContextTracing.scala:49)\n",
       "\tat com.databricks.logging.AttributionContext$.$anonfun$withValue$1(AttributionContext.scala:293)\n",
       "\tat scala.util.DynamicVariable.withValue(DynamicVariable.scala:62)\n",
       "\tat com.databricks.logging.AttributionContext$.withValue(AttributionContext.scala:289)\n",
       "\tat com.databricks.logging.AttributionContextTracing.withAttributionContext(AttributionContextTracing.scala:47)\n",
       "\tat com.databricks.logging.AttributionContextTracing.withAttributionContext$(AttributionContextTracing.scala:44)\n",
       "\tat com.databricks.rpc.ServerBackend.withAttributionContext(ServerBackend.scala:22)\n",
       "\tat com.databricks.logging.AttributionContextTracing.withAttributionTags(AttributionContextTracing.scala:96)\n",
       "\tat com.databricks.logging.AttributionContextTracing.withAttributionTags$(AttributionContextTracing.scala:77)\n",
       "\tat com.databricks.rpc.ServerBackend.withAttributionTags(ServerBackend.scala:22)\n",
       "\tat com.databricks.logging.UsageLogging.recordOperationWithResultTags(UsageLogging.scala:608)\n",
       "\tat com.databricks.logging.UsageLogging.recordOperationWithResultTags$(UsageLogging.scala:517)\n",
       "\tat com.databricks.rpc.ServerBackend.recordOperationWithResultTags(ServerBackend.scala:22)\n",
       "\tat com.databricks.logging.UsageLogging.recordOperation(UsageLogging.scala:509)\n",
       "\tat com.databricks.logging.UsageLogging.recordOperation$(UsageLogging.scala:475)\n",
       "\tat com.databricks.rpc.ServerBackend.recordOperation(ServerBackend.scala:22)\n",
       "\tat com.databricks.rpc.ServerBackend.internalReceive(ServerBackend.scala:146)\n",
       "\tat com.databricks.rpc.JettyServer$RequestManager.handleRPC(JettyServer.scala:1037)\n",
       "\tat com.databricks.rpc.JettyServer$RequestManager.handleRequestAndRespond(JettyServer.scala:957)\n",
       "\tat com.databricks.rpc.JettyServer$RequestManager.$anonfun$handleHttp$6(JettyServer.scala:552)\n",
       "\tat com.databricks.rpc.JettyServer$RequestManager.$anonfun$handleHttp$6$adapted(JettyServer.scala:522)\n",
       "\tat com.databricks.logging.activity.ActivityContextFactory$.$anonfun$withActivityInternal$12(ActivityContextFactory.scala:806)\n",
       "\tat com.databricks.logging.AttributionContextTracing.$anonfun$withAttributionContext$1(AttributionContextTracing.scala:49)\n",
       "\tat com.databricks.logging.AttributionContext$.$anonfun$withValue$1(AttributionContext.scala:293)\n",
       "\tat scala.util.DynamicVariable.withValue(DynamicVariable.scala:62)\n",
       "\tat com.databricks.logging.AttributionContext$.withValue(AttributionContext.scala:289)\n",
       "\tat com.databricks.logging.AttributionContextTracing.withAttributionContext(AttributionContextTracing.scala:47)\n",
       "\tat com.databricks.logging.AttributionContextTracing.withAttributionContext$(AttributionContextTracing.scala:44)\n",
       "\tat com.databricks.logging.activity.ActivityContextFactory$.withAttributionContext(ActivityContextFactory.scala:52)\n",
       "\tat com.databricks.logging.activity.ActivityContextFactory$.$anonfun$withActivityInternal$2(ActivityContextFactory.scala:806)\n",
       "\tat com.databricks.context.integrity.IntegrityCheckContext$ThreadLocalStorage$.withValue(IntegrityCheckContext.scala:73)\n",
       "\tat com.databricks.logging.activity.ActivityContextFactory$.withActivityInternal(ActivityContextFactory.scala:769)\n",
       "\tat com.databricks.logging.activity.ActivityContextFactory$.withActivityInternal(ActivityContextFactory.scala:751)\n",
       "\tat com.databricks.logging.activity.ActivityContextFactory$.$anonfun$withServiceRequestActivity$15(ActivityContextFactory.scala:283)\n",
       "\tat com.databricks.logging.AttributionContextTracing.$anonfun$withAttributionContext$1(AttributionContextTracing.scala:49)\n",
       "\tat com.databricks.logging.AttributionContext$.$anonfun$withValue$1(AttributionContext.scala:293)\n",
       "\tat scala.util.DynamicVariable.withValue(DynamicVariable.scala:62)\n",
       "\tat com.databricks.logging.AttributionContext$.withValue(AttributionContext.scala:289)\n",
       "\tat com.databricks.logging.AttributionContextTracing.withAttributionContext(AttributionContextTracing.scala:47)\n",
       "\tat com.databricks.logging.AttributionContextTracing.withAttributionContext$(AttributionContextTracing.scala:44)\n",
       "\tat com.databricks.logging.activity.ActivityContextFactory$.withAttributionContext(ActivityContextFactory.scala:52)\n",
       "\tat com.databricks.logging.activity.ActivityContextFactory$.withServiceRequestActivity(ActivityContextFactory.scala:283)\n",
       "\tat com.databricks.rpc.JettyServer$RequestManager.handleHttp(JettyServer.scala:522)\n",
       "\tat com.databricks.rpc.JettyServer$RequestManager.doPost(JettyServer.scala:415)\n",
       "\tat javax.servlet.http.HttpServlet.service(HttpServlet.java:665)\n",
       "\tat com.databricks.rpc.HttpServletWithPatch.service(HttpServletWithPatch.scala:33)\n",
       "\tat javax.servlet.http.HttpServlet.service(HttpServlet.java:750)\n",
       "\tat org.eclipse.jetty.servlet.ServletHolder.handle(ServletHolder.java:799)\n",
       "\tat org.eclipse.jetty.servlet.ServletHandler.doHandle(ServletHandler.java:554)\n",
       "\tat org.eclipse.jetty.server.handler.ScopedHandler.nextScope(ScopedHandler.java:190)\n",
       "\tat org.eclipse.jetty.servlet.ServletHandler.doScope(ServletHandler.java:505)\n",
       "\tat org.eclipse.jetty.server.handler.ScopedHandler.handle(ScopedHandler.java:141)\n",
       "\tat org.eclipse.jetty.server.handler.HandlerWrapper.handle(HandlerWrapper.java:127)\n",
       "\tat org.eclipse.jetty.server.Server.handle(Server.java:516)\n",
       "\tat org.eclipse.jetty.server.HttpChannel.lambda$handle$1(HttpChannel.java:487)\n",
       "\tat org.eclipse.jetty.server.HttpChannel.dispatch(HttpChannel.java:732)\n",
       "\tat org.eclipse.jetty.server.HttpChannel.handle(HttpChannel.java:479)\n",
       "\tat org.eclipse.jetty.server.HttpConnection.onFillable(HttpConnection.java:277)\n",
       "\tat org.eclipse.jetty.io.AbstractConnection$ReadCallback.succeeded(AbstractConnection.java:311)\n",
       "\tat org.eclipse.jetty.io.FillInterest.fillable(FillInterest.java:105)\n",
       "\tat org.eclipse.jetty.io.ssl.SslConnection$DecryptedEndPoint.onFillable(SslConnection.java:555)\n",
       "\tat org.eclipse.jetty.io.ssl.SslConnection.onFillable(SslConnection.java:410)\n",
       "\tat org.eclipse.jetty.io.ssl.SslConnection$2.succeeded(SslConnection.java:164)\n",
       "\tat org.eclipse.jetty.io.FillInterest.fillable(FillInterest.java:105)\n",
       "\tat org.eclipse.jetty.io.ChannelEndPoint$1.run(ChannelEndPoint.java:104)\n",
       "\tat org.eclipse.jetty.util.thread.strategy.EatWhatYouKill.runTask(EatWhatYouKill.java:338)\n",
       "\tat org.eclipse.jetty.util.thread.strategy.EatWhatYouKill.doProduce(EatWhatYouKill.java:315)\n",
       "\tat org.eclipse.jetty.util.thread.strategy.EatWhatYouKill.tryProduce(EatWhatYouKill.java:173)\n",
       "\tat org.eclipse.jetty.util.thread.strategy.EatWhatYouKill.run(EatWhatYouKill.java:131)\n",
       "\tat org.eclipse.jetty.util.thread.ReservedThreadExecutor$ReservedThread.run(ReservedThreadExecutor.java:409)\n",
       "\tat com.databricks.rpc.InstrumentedQueuedThreadPool$$anon$1.$anonfun$run$2(InstrumentedQueuedThreadPool.scala:110)\n",
       "\tat scala.runtime.java8.JFunction0$mcV$sp.apply(JFunction0$mcV$sp.java:23)\n",
       "\tat com.databricks.logging.AttributionContextTracing.$anonfun$withAttributionContext$1(AttributionContextTracing.scala:49)\n",
       "\tat com.databricks.logging.AttributionContext$.$anonfun$withValue$1(AttributionContext.scala:293)\n",
       "\tat scala.util.DynamicVariable.withValue(DynamicVariable.scala:62)\n",
       "\tat com.databricks.logging.AttributionContext$.withValue(AttributionContext.scala:289)\n",
       "\tat com.databricks.logging.AttributionContextTracing.withAttributionContext(AttributionContextTracing.scala:47)\n",
       "\tat com.databricks.logging.AttributionContextTracing.withAttributionContext$(AttributionContextTracing.scala:44)\n",
       "\tat com.databricks.rpc.InstrumentedQueuedThreadPool.withAttributionContext(InstrumentedQueuedThreadPool.scala:45)\n",
       "\tat com.databricks.rpc.InstrumentedQueuedThreadPool$$anon$1.$anonfun$run$1(InstrumentedQueuedThreadPool.scala:110)\n",
       "\tat scala.runtime.java8.JFunction0$mcV$sp.apply(JFunction0$mcV$sp.java:23)\n",
       "\tat com.databricks.instrumentation.QueuedThreadPoolInstrumenter.trackActiveThreads(QueuedThreadPoolInstrumenter.scala:132)\n",
       "\tat com.databricks.instrumentation.QueuedThreadPoolInstrumenter.trackActiveThreads$(QueuedThreadPoolInstrumenter.scala:129)\n",
       "\tat com.databricks.rpc.InstrumentedQueuedThreadPool.trackActiveThreads(InstrumentedQueuedThreadPool.scala:45)\n",
       "\tat com.databricks.rpc.InstrumentedQueuedThreadPool$$anon$1.run(InstrumentedQueuedThreadPool.scala:92)\n",
       "\tat org.eclipse.jetty.util.thread.QueuedThreadPool.runJob(QueuedThreadPool.java:883)\n",
       "\tat org.eclipse.jetty.util.thread.QueuedThreadPool$Runner.run(QueuedThreadPool.java:1034)\n",
       "\tat java.base/java.lang.Thread.run(Thread.java:840)"
      ]
     },
     "metadata": {
      "application/vnd.databricks.v1+output": {
       "addedWidgets": {},
       "arguments": {},
       "datasetInfos": [],
       "jupyterProps": null,
       "metadata": {
        "errorSummary": "Command skipped"
       },
       "removedWidgets": [],
       "sqlProps": null,
       "stackFrames": [
        "com.databricks.backend.common.rpc.CommandSkippedException",
        "\tat com.databricks.spark.chauffeur.SequenceExecutionState.$anonfun$cancel$3(SequenceExecutionState.scala:134)",
        "\tat com.databricks.spark.chauffeur.SequenceExecutionState.$anonfun$cancel$3$adapted(SequenceExecutionState.scala:129)",
        "\tat scala.collection.immutable.Range.foreach(Range.scala:158)",
        "\tat com.databricks.spark.chauffeur.SequenceExecutionState.cancel(SequenceExecutionState.scala:129)",
        "\tat com.databricks.spark.chauffeur.ExecContextState.cancelRunningSequence(ExecContextState.scala:715)",
        "\tat com.databricks.spark.chauffeur.ExecContextState.$anonfun$cancel$1(ExecContextState.scala:435)",
        "\tat scala.Option.getOrElse(Option.scala:189)",
        "\tat com.databricks.spark.chauffeur.ExecContextState.cancel(ExecContextState.scala:435)",
        "\tat com.databricks.spark.chauffeur.ExecutionContextManagerV1.cancelExecution(ExecutionContextManagerV1.scala:466)",
        "\tat com.databricks.spark.chauffeur.ChauffeurState.$anonfun$process$1(ChauffeurState.scala:757)",
        "\tat com.databricks.logging.UsageLogging.$anonfun$recordOperation$1(UsageLogging.scala:508)",
        "\tat com.databricks.logging.UsageLogging.executeThunkAndCaptureResultTags$1(UsageLogging.scala:613)",
        "\tat com.databricks.logging.UsageLogging.$anonfun$recordOperationWithResultTags$4(UsageLogging.scala:636)",
        "\tat com.databricks.logging.AttributionContextTracing.$anonfun$withAttributionContext$1(AttributionContextTracing.scala:49)",
        "\tat com.databricks.logging.AttributionContext$.$anonfun$withValue$1(AttributionContext.scala:293)",
        "\tat scala.util.DynamicVariable.withValue(DynamicVariable.scala:62)",
        "\tat com.databricks.logging.AttributionContext$.withValue(AttributionContext.scala:289)",
        "\tat com.databricks.logging.AttributionContextTracing.withAttributionContext(AttributionContextTracing.scala:47)",
        "\tat com.databricks.logging.AttributionContextTracing.withAttributionContext$(AttributionContextTracing.scala:44)",
        "\tat com.databricks.spark.chauffeur.ChauffeurState.withAttributionContext(ChauffeurState.scala:83)",
        "\tat com.databricks.logging.AttributionContextTracing.withAttributionTags(AttributionContextTracing.scala:96)",
        "\tat com.databricks.logging.AttributionContextTracing.withAttributionTags$(AttributionContextTracing.scala:77)",
        "\tat com.databricks.spark.chauffeur.ChauffeurState.withAttributionTags(ChauffeurState.scala:83)",
        "\tat com.databricks.logging.UsageLogging.recordOperationWithResultTags(UsageLogging.scala:608)",
        "\tat com.databricks.logging.UsageLogging.recordOperationWithResultTags$(UsageLogging.scala:517)",
        "\tat com.databricks.spark.chauffeur.ChauffeurState.recordOperationWithResultTags(ChauffeurState.scala:83)",
        "\tat com.databricks.logging.UsageLogging.recordOperation(UsageLogging.scala:509)",
        "\tat com.databricks.logging.UsageLogging.recordOperation$(UsageLogging.scala:475)",
        "\tat com.databricks.spark.chauffeur.ChauffeurState.recordOperation(ChauffeurState.scala:83)",
        "\tat com.databricks.spark.chauffeur.ChauffeurState.process(ChauffeurState.scala:735)",
        "\tat com.databricks.spark.chauffeur.Chauffeur$$anon$1$$anonfun$receive$1.handleDriverRequest$1(Chauffeur.scala:903)",
        "\tat com.databricks.spark.chauffeur.Chauffeur$$anon$1$$anonfun$receive$1.$anonfun$applyOrElse$4(Chauffeur.scala:929)",
        "\tat com.databricks.logging.UsageLogging.executeThunkAndCaptureResultTags$1(UsageLogging.scala:613)",
        "\tat com.databricks.logging.UsageLogging.$anonfun$recordOperationWithResultTags$4(UsageLogging.scala:636)",
        "\tat com.databricks.logging.AttributionContextTracing.$anonfun$withAttributionContext$1(AttributionContextTracing.scala:49)",
        "\tat com.databricks.logging.AttributionContext$.$anonfun$withValue$1(AttributionContext.scala:293)",
        "\tat scala.util.DynamicVariable.withValue(DynamicVariable.scala:62)",
        "\tat com.databricks.logging.AttributionContext$.withValue(AttributionContext.scala:289)",
        "\tat com.databricks.logging.AttributionContextTracing.withAttributionContext(AttributionContextTracing.scala:47)",
        "\tat com.databricks.logging.AttributionContextTracing.withAttributionContext$(AttributionContextTracing.scala:44)",
        "\tat com.databricks.rpc.ServerBackend.withAttributionContext(ServerBackend.scala:22)",
        "\tat com.databricks.logging.AttributionContextTracing.withAttributionTags(AttributionContextTracing.scala:96)",
        "\tat com.databricks.logging.AttributionContextTracing.withAttributionTags$(AttributionContextTracing.scala:77)",
        "\tat com.databricks.rpc.ServerBackend.withAttributionTags(ServerBackend.scala:22)",
        "\tat com.databricks.logging.UsageLogging.recordOperationWithResultTags(UsageLogging.scala:608)",
        "\tat com.databricks.logging.UsageLogging.recordOperationWithResultTags$(UsageLogging.scala:517)",
        "\tat com.databricks.rpc.ServerBackend.recordOperationWithResultTags(ServerBackend.scala:22)",
        "\tat com.databricks.spark.chauffeur.Chauffeur$$anon$1$$anonfun$receive$1.handleDriverRequestWithUsageLogging$1(Chauffeur.scala:928)",
        "\tat com.databricks.spark.chauffeur.Chauffeur$$anon$1$$anonfun$receive$1.applyOrElse(Chauffeur.scala:983)",
        "\tat com.databricks.spark.chauffeur.Chauffeur$$anon$1$$anonfun$receive$1.applyOrElse(Chauffeur.scala:775)",
        "\tat com.databricks.rpc.ServerBackend.$anonfun$internalReceive0$2(ServerBackend.scala:174)",
        "\tat com.databricks.rpc.ServerBackend$$anonfun$commonReceive$1.applyOrElse(ServerBackend.scala:200)",
        "\tat com.databricks.rpc.ServerBackend$$anonfun$commonReceive$1.applyOrElse(ServerBackend.scala:200)",
        "\tat com.databricks.rpc.ServerBackend.internalReceive0(ServerBackend.scala:171)",
        "\tat com.databricks.rpc.ServerBackend.$anonfun$internalReceive$1(ServerBackend.scala:147)",
        "\tat com.databricks.logging.UsageLogging.$anonfun$recordOperation$1(UsageLogging.scala:508)",
        "\tat com.databricks.logging.UsageLogging.executeThunkAndCaptureResultTags$1(UsageLogging.scala:613)",
        "\tat com.databricks.logging.UsageLogging.$anonfun$recordOperationWithResultTags$4(UsageLogging.scala:636)",
        "\tat com.databricks.logging.AttributionContextTracing.$anonfun$withAttributionContext$1(AttributionContextTracing.scala:49)",
        "\tat com.databricks.logging.AttributionContext$.$anonfun$withValue$1(AttributionContext.scala:293)",
        "\tat scala.util.DynamicVariable.withValue(DynamicVariable.scala:62)",
        "\tat com.databricks.logging.AttributionContext$.withValue(AttributionContext.scala:289)",
        "\tat com.databricks.logging.AttributionContextTracing.withAttributionContext(AttributionContextTracing.scala:47)",
        "\tat com.databricks.logging.AttributionContextTracing.withAttributionContext$(AttributionContextTracing.scala:44)",
        "\tat com.databricks.rpc.ServerBackend.withAttributionContext(ServerBackend.scala:22)",
        "\tat com.databricks.logging.AttributionContextTracing.withAttributionTags(AttributionContextTracing.scala:96)",
        "\tat com.databricks.logging.AttributionContextTracing.withAttributionTags$(AttributionContextTracing.scala:77)",
        "\tat com.databricks.rpc.ServerBackend.withAttributionTags(ServerBackend.scala:22)",
        "\tat com.databricks.logging.UsageLogging.recordOperationWithResultTags(UsageLogging.scala:608)",
        "\tat com.databricks.logging.UsageLogging.recordOperationWithResultTags$(UsageLogging.scala:517)",
        "\tat com.databricks.rpc.ServerBackend.recordOperationWithResultTags(ServerBackend.scala:22)",
        "\tat com.databricks.logging.UsageLogging.recordOperation(UsageLogging.scala:509)",
        "\tat com.databricks.logging.UsageLogging.recordOperation$(UsageLogging.scala:475)",
        "\tat com.databricks.rpc.ServerBackend.recordOperation(ServerBackend.scala:22)",
        "\tat com.databricks.rpc.ServerBackend.internalReceive(ServerBackend.scala:146)",
        "\tat com.databricks.rpc.JettyServer$RequestManager.handleRPC(JettyServer.scala:1037)",
        "\tat com.databricks.rpc.JettyServer$RequestManager.handleRequestAndRespond(JettyServer.scala:957)",
        "\tat com.databricks.rpc.JettyServer$RequestManager.$anonfun$handleHttp$6(JettyServer.scala:552)",
        "\tat com.databricks.rpc.JettyServer$RequestManager.$anonfun$handleHttp$6$adapted(JettyServer.scala:522)",
        "\tat com.databricks.logging.activity.ActivityContextFactory$.$anonfun$withActivityInternal$12(ActivityContextFactory.scala:806)",
        "\tat com.databricks.logging.AttributionContextTracing.$anonfun$withAttributionContext$1(AttributionContextTracing.scala:49)",
        "\tat com.databricks.logging.AttributionContext$.$anonfun$withValue$1(AttributionContext.scala:293)",
        "\tat scala.util.DynamicVariable.withValue(DynamicVariable.scala:62)",
        "\tat com.databricks.logging.AttributionContext$.withValue(AttributionContext.scala:289)",
        "\tat com.databricks.logging.AttributionContextTracing.withAttributionContext(AttributionContextTracing.scala:47)",
        "\tat com.databricks.logging.AttributionContextTracing.withAttributionContext$(AttributionContextTracing.scala:44)",
        "\tat com.databricks.logging.activity.ActivityContextFactory$.withAttributionContext(ActivityContextFactory.scala:52)",
        "\tat com.databricks.logging.activity.ActivityContextFactory$.$anonfun$withActivityInternal$2(ActivityContextFactory.scala:806)",
        "\tat com.databricks.context.integrity.IntegrityCheckContext$ThreadLocalStorage$.withValue(IntegrityCheckContext.scala:73)",
        "\tat com.databricks.logging.activity.ActivityContextFactory$.withActivityInternal(ActivityContextFactory.scala:769)",
        "\tat com.databricks.logging.activity.ActivityContextFactory$.withActivityInternal(ActivityContextFactory.scala:751)",
        "\tat com.databricks.logging.activity.ActivityContextFactory$.$anonfun$withServiceRequestActivity$15(ActivityContextFactory.scala:283)",
        "\tat com.databricks.logging.AttributionContextTracing.$anonfun$withAttributionContext$1(AttributionContextTracing.scala:49)",
        "\tat com.databricks.logging.AttributionContext$.$anonfun$withValue$1(AttributionContext.scala:293)",
        "\tat scala.util.DynamicVariable.withValue(DynamicVariable.scala:62)",
        "\tat com.databricks.logging.AttributionContext$.withValue(AttributionContext.scala:289)",
        "\tat com.databricks.logging.AttributionContextTracing.withAttributionContext(AttributionContextTracing.scala:47)",
        "\tat com.databricks.logging.AttributionContextTracing.withAttributionContext$(AttributionContextTracing.scala:44)",
        "\tat com.databricks.logging.activity.ActivityContextFactory$.withAttributionContext(ActivityContextFactory.scala:52)",
        "\tat com.databricks.logging.activity.ActivityContextFactory$.withServiceRequestActivity(ActivityContextFactory.scala:283)",
        "\tat com.databricks.rpc.JettyServer$RequestManager.handleHttp(JettyServer.scala:522)",
        "\tat com.databricks.rpc.JettyServer$RequestManager.doPost(JettyServer.scala:415)",
        "\tat javax.servlet.http.HttpServlet.service(HttpServlet.java:665)",
        "\tat com.databricks.rpc.HttpServletWithPatch.service(HttpServletWithPatch.scala:33)",
        "\tat javax.servlet.http.HttpServlet.service(HttpServlet.java:750)",
        "\tat org.eclipse.jetty.servlet.ServletHolder.handle(ServletHolder.java:799)",
        "\tat org.eclipse.jetty.servlet.ServletHandler.doHandle(ServletHandler.java:554)",
        "\tat org.eclipse.jetty.server.handler.ScopedHandler.nextScope(ScopedHandler.java:190)",
        "\tat org.eclipse.jetty.servlet.ServletHandler.doScope(ServletHandler.java:505)",
        "\tat org.eclipse.jetty.server.handler.ScopedHandler.handle(ScopedHandler.java:141)",
        "\tat org.eclipse.jetty.server.handler.HandlerWrapper.handle(HandlerWrapper.java:127)",
        "\tat org.eclipse.jetty.server.Server.handle(Server.java:516)",
        "\tat org.eclipse.jetty.server.HttpChannel.lambda$handle$1(HttpChannel.java:487)",
        "\tat org.eclipse.jetty.server.HttpChannel.dispatch(HttpChannel.java:732)",
        "\tat org.eclipse.jetty.server.HttpChannel.handle(HttpChannel.java:479)",
        "\tat org.eclipse.jetty.server.HttpConnection.onFillable(HttpConnection.java:277)",
        "\tat org.eclipse.jetty.io.AbstractConnection$ReadCallback.succeeded(AbstractConnection.java:311)",
        "\tat org.eclipse.jetty.io.FillInterest.fillable(FillInterest.java:105)",
        "\tat org.eclipse.jetty.io.ssl.SslConnection$DecryptedEndPoint.onFillable(SslConnection.java:555)",
        "\tat org.eclipse.jetty.io.ssl.SslConnection.onFillable(SslConnection.java:410)",
        "\tat org.eclipse.jetty.io.ssl.SslConnection$2.succeeded(SslConnection.java:164)",
        "\tat org.eclipse.jetty.io.FillInterest.fillable(FillInterest.java:105)",
        "\tat org.eclipse.jetty.io.ChannelEndPoint$1.run(ChannelEndPoint.java:104)",
        "\tat org.eclipse.jetty.util.thread.strategy.EatWhatYouKill.runTask(EatWhatYouKill.java:338)",
        "\tat org.eclipse.jetty.util.thread.strategy.EatWhatYouKill.doProduce(EatWhatYouKill.java:315)",
        "\tat org.eclipse.jetty.util.thread.strategy.EatWhatYouKill.tryProduce(EatWhatYouKill.java:173)",
        "\tat org.eclipse.jetty.util.thread.strategy.EatWhatYouKill.run(EatWhatYouKill.java:131)",
        "\tat org.eclipse.jetty.util.thread.ReservedThreadExecutor$ReservedThread.run(ReservedThreadExecutor.java:409)",
        "\tat com.databricks.rpc.InstrumentedQueuedThreadPool$$anon$1.$anonfun$run$2(InstrumentedQueuedThreadPool.scala:110)",
        "\tat scala.runtime.java8.JFunction0$mcV$sp.apply(JFunction0$mcV$sp.java:23)",
        "\tat com.databricks.logging.AttributionContextTracing.$anonfun$withAttributionContext$1(AttributionContextTracing.scala:49)",
        "\tat com.databricks.logging.AttributionContext$.$anonfun$withValue$1(AttributionContext.scala:293)",
        "\tat scala.util.DynamicVariable.withValue(DynamicVariable.scala:62)",
        "\tat com.databricks.logging.AttributionContext$.withValue(AttributionContext.scala:289)",
        "\tat com.databricks.logging.AttributionContextTracing.withAttributionContext(AttributionContextTracing.scala:47)",
        "\tat com.databricks.logging.AttributionContextTracing.withAttributionContext$(AttributionContextTracing.scala:44)",
        "\tat com.databricks.rpc.InstrumentedQueuedThreadPool.withAttributionContext(InstrumentedQueuedThreadPool.scala:45)",
        "\tat com.databricks.rpc.InstrumentedQueuedThreadPool$$anon$1.$anonfun$run$1(InstrumentedQueuedThreadPool.scala:110)",
        "\tat scala.runtime.java8.JFunction0$mcV$sp.apply(JFunction0$mcV$sp.java:23)",
        "\tat com.databricks.instrumentation.QueuedThreadPoolInstrumenter.trackActiveThreads(QueuedThreadPoolInstrumenter.scala:132)",
        "\tat com.databricks.instrumentation.QueuedThreadPoolInstrumenter.trackActiveThreads$(QueuedThreadPoolInstrumenter.scala:129)",
        "\tat com.databricks.rpc.InstrumentedQueuedThreadPool.trackActiveThreads(InstrumentedQueuedThreadPool.scala:45)",
        "\tat com.databricks.rpc.InstrumentedQueuedThreadPool$$anon$1.run(InstrumentedQueuedThreadPool.scala:92)",
        "\tat org.eclipse.jetty.util.thread.QueuedThreadPool.runJob(QueuedThreadPool.java:883)",
        "\tat org.eclipse.jetty.util.thread.QueuedThreadPool$Runner.run(QueuedThreadPool.java:1034)",
        "\tat java.base/java.lang.Thread.run(Thread.java:840)"
       ],
       "type": "baseError"
      }
     },
     "output_type": "display_data"
    }
   ],
   "source": [
    "print(trace['posterior'].keys())"
   ]
  },
  {
   "cell_type": "code",
   "execution_count": 0,
   "metadata": {
    "application/vnd.databricks.v1+cell": {
     "cellMetadata": {
      "byteLimit": 2048000,
      "rowLimit": 10000
     },
     "inputWidgets": {},
     "nuid": "d810f47c-aed2-4487-bbe1-b174e9fe0c79",
     "showTitle": false,
     "tableResultSettingsMap": {},
     "title": ""
    }
   },
   "outputs": [
    {
     "output_type": "display_data",
     "data": {
      "text/plain": [
       "com.databricks.backend.common.rpc.CommandSkippedException\n",
       "\tat com.databricks.spark.chauffeur.SequenceExecutionState.$anonfun$cancel$3(SequenceExecutionState.scala:134)\n",
       "\tat com.databricks.spark.chauffeur.SequenceExecutionState.$anonfun$cancel$3$adapted(SequenceExecutionState.scala:129)\n",
       "\tat scala.collection.immutable.Range.foreach(Range.scala:158)\n",
       "\tat com.databricks.spark.chauffeur.SequenceExecutionState.cancel(SequenceExecutionState.scala:129)\n",
       "\tat com.databricks.spark.chauffeur.ExecContextState.cancelRunningSequence(ExecContextState.scala:715)\n",
       "\tat com.databricks.spark.chauffeur.ExecContextState.$anonfun$cancel$1(ExecContextState.scala:435)\n",
       "\tat scala.Option.getOrElse(Option.scala:189)\n",
       "\tat com.databricks.spark.chauffeur.ExecContextState.cancel(ExecContextState.scala:435)\n",
       "\tat com.databricks.spark.chauffeur.ExecutionContextManagerV1.cancelExecution(ExecutionContextManagerV1.scala:466)\n",
       "\tat com.databricks.spark.chauffeur.ChauffeurState.$anonfun$process$1(ChauffeurState.scala:757)\n",
       "\tat com.databricks.logging.UsageLogging.$anonfun$recordOperation$1(UsageLogging.scala:508)\n",
       "\tat com.databricks.logging.UsageLogging.executeThunkAndCaptureResultTags$1(UsageLogging.scala:613)\n",
       "\tat com.databricks.logging.UsageLogging.$anonfun$recordOperationWithResultTags$4(UsageLogging.scala:636)\n",
       "\tat com.databricks.logging.AttributionContextTracing.$anonfun$withAttributionContext$1(AttributionContextTracing.scala:49)\n",
       "\tat com.databricks.logging.AttributionContext$.$anonfun$withValue$1(AttributionContext.scala:293)\n",
       "\tat scala.util.DynamicVariable.withValue(DynamicVariable.scala:62)\n",
       "\tat com.databricks.logging.AttributionContext$.withValue(AttributionContext.scala:289)\n",
       "\tat com.databricks.logging.AttributionContextTracing.withAttributionContext(AttributionContextTracing.scala:47)\n",
       "\tat com.databricks.logging.AttributionContextTracing.withAttributionContext$(AttributionContextTracing.scala:44)\n",
       "\tat com.databricks.spark.chauffeur.ChauffeurState.withAttributionContext(ChauffeurState.scala:83)\n",
       "\tat com.databricks.logging.AttributionContextTracing.withAttributionTags(AttributionContextTracing.scala:96)\n",
       "\tat com.databricks.logging.AttributionContextTracing.withAttributionTags$(AttributionContextTracing.scala:77)\n",
       "\tat com.databricks.spark.chauffeur.ChauffeurState.withAttributionTags(ChauffeurState.scala:83)\n",
       "\tat com.databricks.logging.UsageLogging.recordOperationWithResultTags(UsageLogging.scala:608)\n",
       "\tat com.databricks.logging.UsageLogging.recordOperationWithResultTags$(UsageLogging.scala:517)\n",
       "\tat com.databricks.spark.chauffeur.ChauffeurState.recordOperationWithResultTags(ChauffeurState.scala:83)\n",
       "\tat com.databricks.logging.UsageLogging.recordOperation(UsageLogging.scala:509)\n",
       "\tat com.databricks.logging.UsageLogging.recordOperation$(UsageLogging.scala:475)\n",
       "\tat com.databricks.spark.chauffeur.ChauffeurState.recordOperation(ChauffeurState.scala:83)\n",
       "\tat com.databricks.spark.chauffeur.ChauffeurState.process(ChauffeurState.scala:735)\n",
       "\tat com.databricks.spark.chauffeur.Chauffeur$$anon$1$$anonfun$receive$1.handleDriverRequest$1(Chauffeur.scala:903)\n",
       "\tat com.databricks.spark.chauffeur.Chauffeur$$anon$1$$anonfun$receive$1.$anonfun$applyOrElse$4(Chauffeur.scala:929)\n",
       "\tat com.databricks.logging.UsageLogging.executeThunkAndCaptureResultTags$1(UsageLogging.scala:613)\n",
       "\tat com.databricks.logging.UsageLogging.$anonfun$recordOperationWithResultTags$4(UsageLogging.scala:636)\n",
       "\tat com.databricks.logging.AttributionContextTracing.$anonfun$withAttributionContext$1(AttributionContextTracing.scala:49)\n",
       "\tat com.databricks.logging.AttributionContext$.$anonfun$withValue$1(AttributionContext.scala:293)\n",
       "\tat scala.util.DynamicVariable.withValue(DynamicVariable.scala:62)\n",
       "\tat com.databricks.logging.AttributionContext$.withValue(AttributionContext.scala:289)\n",
       "\tat com.databricks.logging.AttributionContextTracing.withAttributionContext(AttributionContextTracing.scala:47)\n",
       "\tat com.databricks.logging.AttributionContextTracing.withAttributionContext$(AttributionContextTracing.scala:44)\n",
       "\tat com.databricks.rpc.ServerBackend.withAttributionContext(ServerBackend.scala:22)\n",
       "\tat com.databricks.logging.AttributionContextTracing.withAttributionTags(AttributionContextTracing.scala:96)\n",
       "\tat com.databricks.logging.AttributionContextTracing.withAttributionTags$(AttributionContextTracing.scala:77)\n",
       "\tat com.databricks.rpc.ServerBackend.withAttributionTags(ServerBackend.scala:22)\n",
       "\tat com.databricks.logging.UsageLogging.recordOperationWithResultTags(UsageLogging.scala:608)\n",
       "\tat com.databricks.logging.UsageLogging.recordOperationWithResultTags$(UsageLogging.scala:517)\n",
       "\tat com.databricks.rpc.ServerBackend.recordOperationWithResultTags(ServerBackend.scala:22)\n",
       "\tat com.databricks.spark.chauffeur.Chauffeur$$anon$1$$anonfun$receive$1.handleDriverRequestWithUsageLogging$1(Chauffeur.scala:928)\n",
       "\tat com.databricks.spark.chauffeur.Chauffeur$$anon$1$$anonfun$receive$1.applyOrElse(Chauffeur.scala:983)\n",
       "\tat com.databricks.spark.chauffeur.Chauffeur$$anon$1$$anonfun$receive$1.applyOrElse(Chauffeur.scala:775)\n",
       "\tat com.databricks.rpc.ServerBackend.$anonfun$internalReceive0$2(ServerBackend.scala:174)\n",
       "\tat com.databricks.rpc.ServerBackend$$anonfun$commonReceive$1.applyOrElse(ServerBackend.scala:200)\n",
       "\tat com.databricks.rpc.ServerBackend$$anonfun$commonReceive$1.applyOrElse(ServerBackend.scala:200)\n",
       "\tat com.databricks.rpc.ServerBackend.internalReceive0(ServerBackend.scala:171)\n",
       "\tat com.databricks.rpc.ServerBackend.$anonfun$internalReceive$1(ServerBackend.scala:147)\n",
       "\tat com.databricks.logging.UsageLogging.$anonfun$recordOperation$1(UsageLogging.scala:508)\n",
       "\tat com.databricks.logging.UsageLogging.executeThunkAndCaptureResultTags$1(UsageLogging.scala:613)\n",
       "\tat com.databricks.logging.UsageLogging.$anonfun$recordOperationWithResultTags$4(UsageLogging.scala:636)\n",
       "\tat com.databricks.logging.AttributionContextTracing.$anonfun$withAttributionContext$1(AttributionContextTracing.scala:49)\n",
       "\tat com.databricks.logging.AttributionContext$.$anonfun$withValue$1(AttributionContext.scala:293)\n",
       "\tat scala.util.DynamicVariable.withValue(DynamicVariable.scala:62)\n",
       "\tat com.databricks.logging.AttributionContext$.withValue(AttributionContext.scala:289)\n",
       "\tat com.databricks.logging.AttributionContextTracing.withAttributionContext(AttributionContextTracing.scala:47)\n",
       "\tat com.databricks.logging.AttributionContextTracing.withAttributionContext$(AttributionContextTracing.scala:44)\n",
       "\tat com.databricks.rpc.ServerBackend.withAttributionContext(ServerBackend.scala:22)\n",
       "\tat com.databricks.logging.AttributionContextTracing.withAttributionTags(AttributionContextTracing.scala:96)\n",
       "\tat com.databricks.logging.AttributionContextTracing.withAttributionTags$(AttributionContextTracing.scala:77)\n",
       "\tat com.databricks.rpc.ServerBackend.withAttributionTags(ServerBackend.scala:22)\n",
       "\tat com.databricks.logging.UsageLogging.recordOperationWithResultTags(UsageLogging.scala:608)\n",
       "\tat com.databricks.logging.UsageLogging.recordOperationWithResultTags$(UsageLogging.scala:517)\n",
       "\tat com.databricks.rpc.ServerBackend.recordOperationWithResultTags(ServerBackend.scala:22)\n",
       "\tat com.databricks.logging.UsageLogging.recordOperation(UsageLogging.scala:509)\n",
       "\tat com.databricks.logging.UsageLogging.recordOperation$(UsageLogging.scala:475)\n",
       "\tat com.databricks.rpc.ServerBackend.recordOperation(ServerBackend.scala:22)\n",
       "\tat com.databricks.rpc.ServerBackend.internalReceive(ServerBackend.scala:146)\n",
       "\tat com.databricks.rpc.JettyServer$RequestManager.handleRPC(JettyServer.scala:1037)\n",
       "\tat com.databricks.rpc.JettyServer$RequestManager.handleRequestAndRespond(JettyServer.scala:957)\n",
       "\tat com.databricks.rpc.JettyServer$RequestManager.$anonfun$handleHttp$6(JettyServer.scala:552)\n",
       "\tat com.databricks.rpc.JettyServer$RequestManager.$anonfun$handleHttp$6$adapted(JettyServer.scala:522)\n",
       "\tat com.databricks.logging.activity.ActivityContextFactory$.$anonfun$withActivityInternal$12(ActivityContextFactory.scala:806)\n",
       "\tat com.databricks.logging.AttributionContextTracing.$anonfun$withAttributionContext$1(AttributionContextTracing.scala:49)\n",
       "\tat com.databricks.logging.AttributionContext$.$anonfun$withValue$1(AttributionContext.scala:293)\n",
       "\tat scala.util.DynamicVariable.withValue(DynamicVariable.scala:62)\n",
       "\tat com.databricks.logging.AttributionContext$.withValue(AttributionContext.scala:289)\n",
       "\tat com.databricks.logging.AttributionContextTracing.withAttributionContext(AttributionContextTracing.scala:47)\n",
       "\tat com.databricks.logging.AttributionContextTracing.withAttributionContext$(AttributionContextTracing.scala:44)\n",
       "\tat com.databricks.logging.activity.ActivityContextFactory$.withAttributionContext(ActivityContextFactory.scala:52)\n",
       "\tat com.databricks.logging.activity.ActivityContextFactory$.$anonfun$withActivityInternal$2(ActivityContextFactory.scala:806)\n",
       "\tat com.databricks.context.integrity.IntegrityCheckContext$ThreadLocalStorage$.withValue(IntegrityCheckContext.scala:73)\n",
       "\tat com.databricks.logging.activity.ActivityContextFactory$.withActivityInternal(ActivityContextFactory.scala:769)\n",
       "\tat com.databricks.logging.activity.ActivityContextFactory$.withActivityInternal(ActivityContextFactory.scala:751)\n",
       "\tat com.databricks.logging.activity.ActivityContextFactory$.$anonfun$withServiceRequestActivity$15(ActivityContextFactory.scala:283)\n",
       "\tat com.databricks.logging.AttributionContextTracing.$anonfun$withAttributionContext$1(AttributionContextTracing.scala:49)\n",
       "\tat com.databricks.logging.AttributionContext$.$anonfun$withValue$1(AttributionContext.scala:293)\n",
       "\tat scala.util.DynamicVariable.withValue(DynamicVariable.scala:62)\n",
       "\tat com.databricks.logging.AttributionContext$.withValue(AttributionContext.scala:289)\n",
       "\tat com.databricks.logging.AttributionContextTracing.withAttributionContext(AttributionContextTracing.scala:47)\n",
       "\tat com.databricks.logging.AttributionContextTracing.withAttributionContext$(AttributionContextTracing.scala:44)\n",
       "\tat com.databricks.logging.activity.ActivityContextFactory$.withAttributionContext(ActivityContextFactory.scala:52)\n",
       "\tat com.databricks.logging.activity.ActivityContextFactory$.withServiceRequestActivity(ActivityContextFactory.scala:283)\n",
       "\tat com.databricks.rpc.JettyServer$RequestManager.handleHttp(JettyServer.scala:522)\n",
       "\tat com.databricks.rpc.JettyServer$RequestManager.doPost(JettyServer.scala:415)\n",
       "\tat javax.servlet.http.HttpServlet.service(HttpServlet.java:665)\n",
       "\tat com.databricks.rpc.HttpServletWithPatch.service(HttpServletWithPatch.scala:33)\n",
       "\tat javax.servlet.http.HttpServlet.service(HttpServlet.java:750)\n",
       "\tat org.eclipse.jetty.servlet.ServletHolder.handle(ServletHolder.java:799)\n",
       "\tat org.eclipse.jetty.servlet.ServletHandler.doHandle(ServletHandler.java:554)\n",
       "\tat org.eclipse.jetty.server.handler.ScopedHandler.nextScope(ScopedHandler.java:190)\n",
       "\tat org.eclipse.jetty.servlet.ServletHandler.doScope(ServletHandler.java:505)\n",
       "\tat org.eclipse.jetty.server.handler.ScopedHandler.handle(ScopedHandler.java:141)\n",
       "\tat org.eclipse.jetty.server.handler.HandlerWrapper.handle(HandlerWrapper.java:127)\n",
       "\tat org.eclipse.jetty.server.Server.handle(Server.java:516)\n",
       "\tat org.eclipse.jetty.server.HttpChannel.lambda$handle$1(HttpChannel.java:487)\n",
       "\tat org.eclipse.jetty.server.HttpChannel.dispatch(HttpChannel.java:732)\n",
       "\tat org.eclipse.jetty.server.HttpChannel.handle(HttpChannel.java:479)\n",
       "\tat org.eclipse.jetty.server.HttpConnection.onFillable(HttpConnection.java:277)\n",
       "\tat org.eclipse.jetty.io.AbstractConnection$ReadCallback.succeeded(AbstractConnection.java:311)\n",
       "\tat org.eclipse.jetty.io.FillInterest.fillable(FillInterest.java:105)\n",
       "\tat org.eclipse.jetty.io.ssl.SslConnection$DecryptedEndPoint.onFillable(SslConnection.java:555)\n",
       "\tat org.eclipse.jetty.io.ssl.SslConnection.onFillable(SslConnection.java:410)\n",
       "\tat org.eclipse.jetty.io.ssl.SslConnection$2.succeeded(SslConnection.java:164)\n",
       "\tat org.eclipse.jetty.io.FillInterest.fillable(FillInterest.java:105)\n",
       "\tat org.eclipse.jetty.io.ChannelEndPoint$1.run(ChannelEndPoint.java:104)\n",
       "\tat org.eclipse.jetty.util.thread.strategy.EatWhatYouKill.runTask(EatWhatYouKill.java:338)\n",
       "\tat org.eclipse.jetty.util.thread.strategy.EatWhatYouKill.doProduce(EatWhatYouKill.java:315)\n",
       "\tat org.eclipse.jetty.util.thread.strategy.EatWhatYouKill.tryProduce(EatWhatYouKill.java:173)\n",
       "\tat org.eclipse.jetty.util.thread.strategy.EatWhatYouKill.run(EatWhatYouKill.java:131)\n",
       "\tat org.eclipse.jetty.util.thread.ReservedThreadExecutor$ReservedThread.run(ReservedThreadExecutor.java:409)\n",
       "\tat com.databricks.rpc.InstrumentedQueuedThreadPool$$anon$1.$anonfun$run$2(InstrumentedQueuedThreadPool.scala:110)\n",
       "\tat scala.runtime.java8.JFunction0$mcV$sp.apply(JFunction0$mcV$sp.java:23)\n",
       "\tat com.databricks.logging.AttributionContextTracing.$anonfun$withAttributionContext$1(AttributionContextTracing.scala:49)\n",
       "\tat com.databricks.logging.AttributionContext$.$anonfun$withValue$1(AttributionContext.scala:293)\n",
       "\tat scala.util.DynamicVariable.withValue(DynamicVariable.scala:62)\n",
       "\tat com.databricks.logging.AttributionContext$.withValue(AttributionContext.scala:289)\n",
       "\tat com.databricks.logging.AttributionContextTracing.withAttributionContext(AttributionContextTracing.scala:47)\n",
       "\tat com.databricks.logging.AttributionContextTracing.withAttributionContext$(AttributionContextTracing.scala:44)\n",
       "\tat com.databricks.rpc.InstrumentedQueuedThreadPool.withAttributionContext(InstrumentedQueuedThreadPool.scala:45)\n",
       "\tat com.databricks.rpc.InstrumentedQueuedThreadPool$$anon$1.$anonfun$run$1(InstrumentedQueuedThreadPool.scala:110)\n",
       "\tat scala.runtime.java8.JFunction0$mcV$sp.apply(JFunction0$mcV$sp.java:23)\n",
       "\tat com.databricks.instrumentation.QueuedThreadPoolInstrumenter.trackActiveThreads(QueuedThreadPoolInstrumenter.scala:132)\n",
       "\tat com.databricks.instrumentation.QueuedThreadPoolInstrumenter.trackActiveThreads$(QueuedThreadPoolInstrumenter.scala:129)\n",
       "\tat com.databricks.rpc.InstrumentedQueuedThreadPool.trackActiveThreads(InstrumentedQueuedThreadPool.scala:45)\n",
       "\tat com.databricks.rpc.InstrumentedQueuedThreadPool$$anon$1.run(InstrumentedQueuedThreadPool.scala:92)\n",
       "\tat org.eclipse.jetty.util.thread.QueuedThreadPool.runJob(QueuedThreadPool.java:883)\n",
       "\tat org.eclipse.jetty.util.thread.QueuedThreadPool$Runner.run(QueuedThreadPool.java:1034)\n",
       "\tat java.base/java.lang.Thread.run(Thread.java:840)"
      ]
     },
     "metadata": {
      "application/vnd.databricks.v1+output": {
       "addedWidgets": {},
       "arguments": {},
       "datasetInfos": [],
       "jupyterProps": null,
       "metadata": {
        "errorSummary": "Command skipped"
       },
       "removedWidgets": [],
       "sqlProps": null,
       "stackFrames": [
        "com.databricks.backend.common.rpc.CommandSkippedException",
        "\tat com.databricks.spark.chauffeur.SequenceExecutionState.$anonfun$cancel$3(SequenceExecutionState.scala:134)",
        "\tat com.databricks.spark.chauffeur.SequenceExecutionState.$anonfun$cancel$3$adapted(SequenceExecutionState.scala:129)",
        "\tat scala.collection.immutable.Range.foreach(Range.scala:158)",
        "\tat com.databricks.spark.chauffeur.SequenceExecutionState.cancel(SequenceExecutionState.scala:129)",
        "\tat com.databricks.spark.chauffeur.ExecContextState.cancelRunningSequence(ExecContextState.scala:715)",
        "\tat com.databricks.spark.chauffeur.ExecContextState.$anonfun$cancel$1(ExecContextState.scala:435)",
        "\tat scala.Option.getOrElse(Option.scala:189)",
        "\tat com.databricks.spark.chauffeur.ExecContextState.cancel(ExecContextState.scala:435)",
        "\tat com.databricks.spark.chauffeur.ExecutionContextManagerV1.cancelExecution(ExecutionContextManagerV1.scala:466)",
        "\tat com.databricks.spark.chauffeur.ChauffeurState.$anonfun$process$1(ChauffeurState.scala:757)",
        "\tat com.databricks.logging.UsageLogging.$anonfun$recordOperation$1(UsageLogging.scala:508)",
        "\tat com.databricks.logging.UsageLogging.executeThunkAndCaptureResultTags$1(UsageLogging.scala:613)",
        "\tat com.databricks.logging.UsageLogging.$anonfun$recordOperationWithResultTags$4(UsageLogging.scala:636)",
        "\tat com.databricks.logging.AttributionContextTracing.$anonfun$withAttributionContext$1(AttributionContextTracing.scala:49)",
        "\tat com.databricks.logging.AttributionContext$.$anonfun$withValue$1(AttributionContext.scala:293)",
        "\tat scala.util.DynamicVariable.withValue(DynamicVariable.scala:62)",
        "\tat com.databricks.logging.AttributionContext$.withValue(AttributionContext.scala:289)",
        "\tat com.databricks.logging.AttributionContextTracing.withAttributionContext(AttributionContextTracing.scala:47)",
        "\tat com.databricks.logging.AttributionContextTracing.withAttributionContext$(AttributionContextTracing.scala:44)",
        "\tat com.databricks.spark.chauffeur.ChauffeurState.withAttributionContext(ChauffeurState.scala:83)",
        "\tat com.databricks.logging.AttributionContextTracing.withAttributionTags(AttributionContextTracing.scala:96)",
        "\tat com.databricks.logging.AttributionContextTracing.withAttributionTags$(AttributionContextTracing.scala:77)",
        "\tat com.databricks.spark.chauffeur.ChauffeurState.withAttributionTags(ChauffeurState.scala:83)",
        "\tat com.databricks.logging.UsageLogging.recordOperationWithResultTags(UsageLogging.scala:608)",
        "\tat com.databricks.logging.UsageLogging.recordOperationWithResultTags$(UsageLogging.scala:517)",
        "\tat com.databricks.spark.chauffeur.ChauffeurState.recordOperationWithResultTags(ChauffeurState.scala:83)",
        "\tat com.databricks.logging.UsageLogging.recordOperation(UsageLogging.scala:509)",
        "\tat com.databricks.logging.UsageLogging.recordOperation$(UsageLogging.scala:475)",
        "\tat com.databricks.spark.chauffeur.ChauffeurState.recordOperation(ChauffeurState.scala:83)",
        "\tat com.databricks.spark.chauffeur.ChauffeurState.process(ChauffeurState.scala:735)",
        "\tat com.databricks.spark.chauffeur.Chauffeur$$anon$1$$anonfun$receive$1.handleDriverRequest$1(Chauffeur.scala:903)",
        "\tat com.databricks.spark.chauffeur.Chauffeur$$anon$1$$anonfun$receive$1.$anonfun$applyOrElse$4(Chauffeur.scala:929)",
        "\tat com.databricks.logging.UsageLogging.executeThunkAndCaptureResultTags$1(UsageLogging.scala:613)",
        "\tat com.databricks.logging.UsageLogging.$anonfun$recordOperationWithResultTags$4(UsageLogging.scala:636)",
        "\tat com.databricks.logging.AttributionContextTracing.$anonfun$withAttributionContext$1(AttributionContextTracing.scala:49)",
        "\tat com.databricks.logging.AttributionContext$.$anonfun$withValue$1(AttributionContext.scala:293)",
        "\tat scala.util.DynamicVariable.withValue(DynamicVariable.scala:62)",
        "\tat com.databricks.logging.AttributionContext$.withValue(AttributionContext.scala:289)",
        "\tat com.databricks.logging.AttributionContextTracing.withAttributionContext(AttributionContextTracing.scala:47)",
        "\tat com.databricks.logging.AttributionContextTracing.withAttributionContext$(AttributionContextTracing.scala:44)",
        "\tat com.databricks.rpc.ServerBackend.withAttributionContext(ServerBackend.scala:22)",
        "\tat com.databricks.logging.AttributionContextTracing.withAttributionTags(AttributionContextTracing.scala:96)",
        "\tat com.databricks.logging.AttributionContextTracing.withAttributionTags$(AttributionContextTracing.scala:77)",
        "\tat com.databricks.rpc.ServerBackend.withAttributionTags(ServerBackend.scala:22)",
        "\tat com.databricks.logging.UsageLogging.recordOperationWithResultTags(UsageLogging.scala:608)",
        "\tat com.databricks.logging.UsageLogging.recordOperationWithResultTags$(UsageLogging.scala:517)",
        "\tat com.databricks.rpc.ServerBackend.recordOperationWithResultTags(ServerBackend.scala:22)",
        "\tat com.databricks.spark.chauffeur.Chauffeur$$anon$1$$anonfun$receive$1.handleDriverRequestWithUsageLogging$1(Chauffeur.scala:928)",
        "\tat com.databricks.spark.chauffeur.Chauffeur$$anon$1$$anonfun$receive$1.applyOrElse(Chauffeur.scala:983)",
        "\tat com.databricks.spark.chauffeur.Chauffeur$$anon$1$$anonfun$receive$1.applyOrElse(Chauffeur.scala:775)",
        "\tat com.databricks.rpc.ServerBackend.$anonfun$internalReceive0$2(ServerBackend.scala:174)",
        "\tat com.databricks.rpc.ServerBackend$$anonfun$commonReceive$1.applyOrElse(ServerBackend.scala:200)",
        "\tat com.databricks.rpc.ServerBackend$$anonfun$commonReceive$1.applyOrElse(ServerBackend.scala:200)",
        "\tat com.databricks.rpc.ServerBackend.internalReceive0(ServerBackend.scala:171)",
        "\tat com.databricks.rpc.ServerBackend.$anonfun$internalReceive$1(ServerBackend.scala:147)",
        "\tat com.databricks.logging.UsageLogging.$anonfun$recordOperation$1(UsageLogging.scala:508)",
        "\tat com.databricks.logging.UsageLogging.executeThunkAndCaptureResultTags$1(UsageLogging.scala:613)",
        "\tat com.databricks.logging.UsageLogging.$anonfun$recordOperationWithResultTags$4(UsageLogging.scala:636)",
        "\tat com.databricks.logging.AttributionContextTracing.$anonfun$withAttributionContext$1(AttributionContextTracing.scala:49)",
        "\tat com.databricks.logging.AttributionContext$.$anonfun$withValue$1(AttributionContext.scala:293)",
        "\tat scala.util.DynamicVariable.withValue(DynamicVariable.scala:62)",
        "\tat com.databricks.logging.AttributionContext$.withValue(AttributionContext.scala:289)",
        "\tat com.databricks.logging.AttributionContextTracing.withAttributionContext(AttributionContextTracing.scala:47)",
        "\tat com.databricks.logging.AttributionContextTracing.withAttributionContext$(AttributionContextTracing.scala:44)",
        "\tat com.databricks.rpc.ServerBackend.withAttributionContext(ServerBackend.scala:22)",
        "\tat com.databricks.logging.AttributionContextTracing.withAttributionTags(AttributionContextTracing.scala:96)",
        "\tat com.databricks.logging.AttributionContextTracing.withAttributionTags$(AttributionContextTracing.scala:77)",
        "\tat com.databricks.rpc.ServerBackend.withAttributionTags(ServerBackend.scala:22)",
        "\tat com.databricks.logging.UsageLogging.recordOperationWithResultTags(UsageLogging.scala:608)",
        "\tat com.databricks.logging.UsageLogging.recordOperationWithResultTags$(UsageLogging.scala:517)",
        "\tat com.databricks.rpc.ServerBackend.recordOperationWithResultTags(ServerBackend.scala:22)",
        "\tat com.databricks.logging.UsageLogging.recordOperation(UsageLogging.scala:509)",
        "\tat com.databricks.logging.UsageLogging.recordOperation$(UsageLogging.scala:475)",
        "\tat com.databricks.rpc.ServerBackend.recordOperation(ServerBackend.scala:22)",
        "\tat com.databricks.rpc.ServerBackend.internalReceive(ServerBackend.scala:146)",
        "\tat com.databricks.rpc.JettyServer$RequestManager.handleRPC(JettyServer.scala:1037)",
        "\tat com.databricks.rpc.JettyServer$RequestManager.handleRequestAndRespond(JettyServer.scala:957)",
        "\tat com.databricks.rpc.JettyServer$RequestManager.$anonfun$handleHttp$6(JettyServer.scala:552)",
        "\tat com.databricks.rpc.JettyServer$RequestManager.$anonfun$handleHttp$6$adapted(JettyServer.scala:522)",
        "\tat com.databricks.logging.activity.ActivityContextFactory$.$anonfun$withActivityInternal$12(ActivityContextFactory.scala:806)",
        "\tat com.databricks.logging.AttributionContextTracing.$anonfun$withAttributionContext$1(AttributionContextTracing.scala:49)",
        "\tat com.databricks.logging.AttributionContext$.$anonfun$withValue$1(AttributionContext.scala:293)",
        "\tat scala.util.DynamicVariable.withValue(DynamicVariable.scala:62)",
        "\tat com.databricks.logging.AttributionContext$.withValue(AttributionContext.scala:289)",
        "\tat com.databricks.logging.AttributionContextTracing.withAttributionContext(AttributionContextTracing.scala:47)",
        "\tat com.databricks.logging.AttributionContextTracing.withAttributionContext$(AttributionContextTracing.scala:44)",
        "\tat com.databricks.logging.activity.ActivityContextFactory$.withAttributionContext(ActivityContextFactory.scala:52)",
        "\tat com.databricks.logging.activity.ActivityContextFactory$.$anonfun$withActivityInternal$2(ActivityContextFactory.scala:806)",
        "\tat com.databricks.context.integrity.IntegrityCheckContext$ThreadLocalStorage$.withValue(IntegrityCheckContext.scala:73)",
        "\tat com.databricks.logging.activity.ActivityContextFactory$.withActivityInternal(ActivityContextFactory.scala:769)",
        "\tat com.databricks.logging.activity.ActivityContextFactory$.withActivityInternal(ActivityContextFactory.scala:751)",
        "\tat com.databricks.logging.activity.ActivityContextFactory$.$anonfun$withServiceRequestActivity$15(ActivityContextFactory.scala:283)",
        "\tat com.databricks.logging.AttributionContextTracing.$anonfun$withAttributionContext$1(AttributionContextTracing.scala:49)",
        "\tat com.databricks.logging.AttributionContext$.$anonfun$withValue$1(AttributionContext.scala:293)",
        "\tat scala.util.DynamicVariable.withValue(DynamicVariable.scala:62)",
        "\tat com.databricks.logging.AttributionContext$.withValue(AttributionContext.scala:289)",
        "\tat com.databricks.logging.AttributionContextTracing.withAttributionContext(AttributionContextTracing.scala:47)",
        "\tat com.databricks.logging.AttributionContextTracing.withAttributionContext$(AttributionContextTracing.scala:44)",
        "\tat com.databricks.logging.activity.ActivityContextFactory$.withAttributionContext(ActivityContextFactory.scala:52)",
        "\tat com.databricks.logging.activity.ActivityContextFactory$.withServiceRequestActivity(ActivityContextFactory.scala:283)",
        "\tat com.databricks.rpc.JettyServer$RequestManager.handleHttp(JettyServer.scala:522)",
        "\tat com.databricks.rpc.JettyServer$RequestManager.doPost(JettyServer.scala:415)",
        "\tat javax.servlet.http.HttpServlet.service(HttpServlet.java:665)",
        "\tat com.databricks.rpc.HttpServletWithPatch.service(HttpServletWithPatch.scala:33)",
        "\tat javax.servlet.http.HttpServlet.service(HttpServlet.java:750)",
        "\tat org.eclipse.jetty.servlet.ServletHolder.handle(ServletHolder.java:799)",
        "\tat org.eclipse.jetty.servlet.ServletHandler.doHandle(ServletHandler.java:554)",
        "\tat org.eclipse.jetty.server.handler.ScopedHandler.nextScope(ScopedHandler.java:190)",
        "\tat org.eclipse.jetty.servlet.ServletHandler.doScope(ServletHandler.java:505)",
        "\tat org.eclipse.jetty.server.handler.ScopedHandler.handle(ScopedHandler.java:141)",
        "\tat org.eclipse.jetty.server.handler.HandlerWrapper.handle(HandlerWrapper.java:127)",
        "\tat org.eclipse.jetty.server.Server.handle(Server.java:516)",
        "\tat org.eclipse.jetty.server.HttpChannel.lambda$handle$1(HttpChannel.java:487)",
        "\tat org.eclipse.jetty.server.HttpChannel.dispatch(HttpChannel.java:732)",
        "\tat org.eclipse.jetty.server.HttpChannel.handle(HttpChannel.java:479)",
        "\tat org.eclipse.jetty.server.HttpConnection.onFillable(HttpConnection.java:277)",
        "\tat org.eclipse.jetty.io.AbstractConnection$ReadCallback.succeeded(AbstractConnection.java:311)",
        "\tat org.eclipse.jetty.io.FillInterest.fillable(FillInterest.java:105)",
        "\tat org.eclipse.jetty.io.ssl.SslConnection$DecryptedEndPoint.onFillable(SslConnection.java:555)",
        "\tat org.eclipse.jetty.io.ssl.SslConnection.onFillable(SslConnection.java:410)",
        "\tat org.eclipse.jetty.io.ssl.SslConnection$2.succeeded(SslConnection.java:164)",
        "\tat org.eclipse.jetty.io.FillInterest.fillable(FillInterest.java:105)",
        "\tat org.eclipse.jetty.io.ChannelEndPoint$1.run(ChannelEndPoint.java:104)",
        "\tat org.eclipse.jetty.util.thread.strategy.EatWhatYouKill.runTask(EatWhatYouKill.java:338)",
        "\tat org.eclipse.jetty.util.thread.strategy.EatWhatYouKill.doProduce(EatWhatYouKill.java:315)",
        "\tat org.eclipse.jetty.util.thread.strategy.EatWhatYouKill.tryProduce(EatWhatYouKill.java:173)",
        "\tat org.eclipse.jetty.util.thread.strategy.EatWhatYouKill.run(EatWhatYouKill.java:131)",
        "\tat org.eclipse.jetty.util.thread.ReservedThreadExecutor$ReservedThread.run(ReservedThreadExecutor.java:409)",
        "\tat com.databricks.rpc.InstrumentedQueuedThreadPool$$anon$1.$anonfun$run$2(InstrumentedQueuedThreadPool.scala:110)",
        "\tat scala.runtime.java8.JFunction0$mcV$sp.apply(JFunction0$mcV$sp.java:23)",
        "\tat com.databricks.logging.AttributionContextTracing.$anonfun$withAttributionContext$1(AttributionContextTracing.scala:49)",
        "\tat com.databricks.logging.AttributionContext$.$anonfun$withValue$1(AttributionContext.scala:293)",
        "\tat scala.util.DynamicVariable.withValue(DynamicVariable.scala:62)",
        "\tat com.databricks.logging.AttributionContext$.withValue(AttributionContext.scala:289)",
        "\tat com.databricks.logging.AttributionContextTracing.withAttributionContext(AttributionContextTracing.scala:47)",
        "\tat com.databricks.logging.AttributionContextTracing.withAttributionContext$(AttributionContextTracing.scala:44)",
        "\tat com.databricks.rpc.InstrumentedQueuedThreadPool.withAttributionContext(InstrumentedQueuedThreadPool.scala:45)",
        "\tat com.databricks.rpc.InstrumentedQueuedThreadPool$$anon$1.$anonfun$run$1(InstrumentedQueuedThreadPool.scala:110)",
        "\tat scala.runtime.java8.JFunction0$mcV$sp.apply(JFunction0$mcV$sp.java:23)",
        "\tat com.databricks.instrumentation.QueuedThreadPoolInstrumenter.trackActiveThreads(QueuedThreadPoolInstrumenter.scala:132)",
        "\tat com.databricks.instrumentation.QueuedThreadPoolInstrumenter.trackActiveThreads$(QueuedThreadPoolInstrumenter.scala:129)",
        "\tat com.databricks.rpc.InstrumentedQueuedThreadPool.trackActiveThreads(InstrumentedQueuedThreadPool.scala:45)",
        "\tat com.databricks.rpc.InstrumentedQueuedThreadPool$$anon$1.run(InstrumentedQueuedThreadPool.scala:92)",
        "\tat org.eclipse.jetty.util.thread.QueuedThreadPool.runJob(QueuedThreadPool.java:883)",
        "\tat org.eclipse.jetty.util.thread.QueuedThreadPool$Runner.run(QueuedThreadPool.java:1034)",
        "\tat java.base/java.lang.Thread.run(Thread.java:840)"
       ],
       "type": "baseError"
      }
     },
     "output_type": "display_data"
    }
   ],
   "source": [
    "\n",
    "\n",
    "# Pass the dictionary to `var_names` to relabel the plots\n",
    "print(\"Plotting posterior distributions...\")\n",
    "az.plot_posterior(trace)\n",
    "plt.show()"
   ]
  },
  {
   "cell_type": "code",
   "execution_count": 0,
   "metadata": {
    "application/vnd.databricks.v1+cell": {
     "cellMetadata": {
      "byteLimit": 2048000,
      "rowLimit": 10000
     },
     "inputWidgets": {},
     "nuid": "72cbb717-2a89-4fd1-9e68-90bf61fbdcc5",
     "showTitle": false,
     "tableResultSettingsMap": {},
     "title": ""
    }
   },
   "outputs": [
    {
     "output_type": "display_data",
     "data": {
      "text/plain": [
       "com.databricks.backend.common.rpc.CommandSkippedException\n",
       "\tat com.databricks.spark.chauffeur.SequenceExecutionState.$anonfun$cancel$3(SequenceExecutionState.scala:134)\n",
       "\tat com.databricks.spark.chauffeur.SequenceExecutionState.$anonfun$cancel$3$adapted(SequenceExecutionState.scala:129)\n",
       "\tat scala.collection.immutable.Range.foreach(Range.scala:158)\n",
       "\tat com.databricks.spark.chauffeur.SequenceExecutionState.cancel(SequenceExecutionState.scala:129)\n",
       "\tat com.databricks.spark.chauffeur.ExecContextState.cancelRunningSequence(ExecContextState.scala:715)\n",
       "\tat com.databricks.spark.chauffeur.ExecContextState.$anonfun$cancel$1(ExecContextState.scala:435)\n",
       "\tat scala.Option.getOrElse(Option.scala:189)\n",
       "\tat com.databricks.spark.chauffeur.ExecContextState.cancel(ExecContextState.scala:435)\n",
       "\tat com.databricks.spark.chauffeur.ExecutionContextManagerV1.cancelExecution(ExecutionContextManagerV1.scala:466)\n",
       "\tat com.databricks.spark.chauffeur.ChauffeurState.$anonfun$process$1(ChauffeurState.scala:757)\n",
       "\tat com.databricks.logging.UsageLogging.$anonfun$recordOperation$1(UsageLogging.scala:508)\n",
       "\tat com.databricks.logging.UsageLogging.executeThunkAndCaptureResultTags$1(UsageLogging.scala:613)\n",
       "\tat com.databricks.logging.UsageLogging.$anonfun$recordOperationWithResultTags$4(UsageLogging.scala:636)\n",
       "\tat com.databricks.logging.AttributionContextTracing.$anonfun$withAttributionContext$1(AttributionContextTracing.scala:49)\n",
       "\tat com.databricks.logging.AttributionContext$.$anonfun$withValue$1(AttributionContext.scala:293)\n",
       "\tat scala.util.DynamicVariable.withValue(DynamicVariable.scala:62)\n",
       "\tat com.databricks.logging.AttributionContext$.withValue(AttributionContext.scala:289)\n",
       "\tat com.databricks.logging.AttributionContextTracing.withAttributionContext(AttributionContextTracing.scala:47)\n",
       "\tat com.databricks.logging.AttributionContextTracing.withAttributionContext$(AttributionContextTracing.scala:44)\n",
       "\tat com.databricks.spark.chauffeur.ChauffeurState.withAttributionContext(ChauffeurState.scala:83)\n",
       "\tat com.databricks.logging.AttributionContextTracing.withAttributionTags(AttributionContextTracing.scala:96)\n",
       "\tat com.databricks.logging.AttributionContextTracing.withAttributionTags$(AttributionContextTracing.scala:77)\n",
       "\tat com.databricks.spark.chauffeur.ChauffeurState.withAttributionTags(ChauffeurState.scala:83)\n",
       "\tat com.databricks.logging.UsageLogging.recordOperationWithResultTags(UsageLogging.scala:608)\n",
       "\tat com.databricks.logging.UsageLogging.recordOperationWithResultTags$(UsageLogging.scala:517)\n",
       "\tat com.databricks.spark.chauffeur.ChauffeurState.recordOperationWithResultTags(ChauffeurState.scala:83)\n",
       "\tat com.databricks.logging.UsageLogging.recordOperation(UsageLogging.scala:509)\n",
       "\tat com.databricks.logging.UsageLogging.recordOperation$(UsageLogging.scala:475)\n",
       "\tat com.databricks.spark.chauffeur.ChauffeurState.recordOperation(ChauffeurState.scala:83)\n",
       "\tat com.databricks.spark.chauffeur.ChauffeurState.process(ChauffeurState.scala:735)\n",
       "\tat com.databricks.spark.chauffeur.Chauffeur$$anon$1$$anonfun$receive$1.handleDriverRequest$1(Chauffeur.scala:903)\n",
       "\tat com.databricks.spark.chauffeur.Chauffeur$$anon$1$$anonfun$receive$1.$anonfun$applyOrElse$4(Chauffeur.scala:929)\n",
       "\tat com.databricks.logging.UsageLogging.executeThunkAndCaptureResultTags$1(UsageLogging.scala:613)\n",
       "\tat com.databricks.logging.UsageLogging.$anonfun$recordOperationWithResultTags$4(UsageLogging.scala:636)\n",
       "\tat com.databricks.logging.AttributionContextTracing.$anonfun$withAttributionContext$1(AttributionContextTracing.scala:49)\n",
       "\tat com.databricks.logging.AttributionContext$.$anonfun$withValue$1(AttributionContext.scala:293)\n",
       "\tat scala.util.DynamicVariable.withValue(DynamicVariable.scala:62)\n",
       "\tat com.databricks.logging.AttributionContext$.withValue(AttributionContext.scala:289)\n",
       "\tat com.databricks.logging.AttributionContextTracing.withAttributionContext(AttributionContextTracing.scala:47)\n",
       "\tat com.databricks.logging.AttributionContextTracing.withAttributionContext$(AttributionContextTracing.scala:44)\n",
       "\tat com.databricks.rpc.ServerBackend.withAttributionContext(ServerBackend.scala:22)\n",
       "\tat com.databricks.logging.AttributionContextTracing.withAttributionTags(AttributionContextTracing.scala:96)\n",
       "\tat com.databricks.logging.AttributionContextTracing.withAttributionTags$(AttributionContextTracing.scala:77)\n",
       "\tat com.databricks.rpc.ServerBackend.withAttributionTags(ServerBackend.scala:22)\n",
       "\tat com.databricks.logging.UsageLogging.recordOperationWithResultTags(UsageLogging.scala:608)\n",
       "\tat com.databricks.logging.UsageLogging.recordOperationWithResultTags$(UsageLogging.scala:517)\n",
       "\tat com.databricks.rpc.ServerBackend.recordOperationWithResultTags(ServerBackend.scala:22)\n",
       "\tat com.databricks.spark.chauffeur.Chauffeur$$anon$1$$anonfun$receive$1.handleDriverRequestWithUsageLogging$1(Chauffeur.scala:928)\n",
       "\tat com.databricks.spark.chauffeur.Chauffeur$$anon$1$$anonfun$receive$1.applyOrElse(Chauffeur.scala:983)\n",
       "\tat com.databricks.spark.chauffeur.Chauffeur$$anon$1$$anonfun$receive$1.applyOrElse(Chauffeur.scala:775)\n",
       "\tat com.databricks.rpc.ServerBackend.$anonfun$internalReceive0$2(ServerBackend.scala:174)\n",
       "\tat com.databricks.rpc.ServerBackend$$anonfun$commonReceive$1.applyOrElse(ServerBackend.scala:200)\n",
       "\tat com.databricks.rpc.ServerBackend$$anonfun$commonReceive$1.applyOrElse(ServerBackend.scala:200)\n",
       "\tat com.databricks.rpc.ServerBackend.internalReceive0(ServerBackend.scala:171)\n",
       "\tat com.databricks.rpc.ServerBackend.$anonfun$internalReceive$1(ServerBackend.scala:147)\n",
       "\tat com.databricks.logging.UsageLogging.$anonfun$recordOperation$1(UsageLogging.scala:508)\n",
       "\tat com.databricks.logging.UsageLogging.executeThunkAndCaptureResultTags$1(UsageLogging.scala:613)\n",
       "\tat com.databricks.logging.UsageLogging.$anonfun$recordOperationWithResultTags$4(UsageLogging.scala:636)\n",
       "\tat com.databricks.logging.AttributionContextTracing.$anonfun$withAttributionContext$1(AttributionContextTracing.scala:49)\n",
       "\tat com.databricks.logging.AttributionContext$.$anonfun$withValue$1(AttributionContext.scala:293)\n",
       "\tat scala.util.DynamicVariable.withValue(DynamicVariable.scala:62)\n",
       "\tat com.databricks.logging.AttributionContext$.withValue(AttributionContext.scala:289)\n",
       "\tat com.databricks.logging.AttributionContextTracing.withAttributionContext(AttributionContextTracing.scala:47)\n",
       "\tat com.databricks.logging.AttributionContextTracing.withAttributionContext$(AttributionContextTracing.scala:44)\n",
       "\tat com.databricks.rpc.ServerBackend.withAttributionContext(ServerBackend.scala:22)\n",
       "\tat com.databricks.logging.AttributionContextTracing.withAttributionTags(AttributionContextTracing.scala:96)\n",
       "\tat com.databricks.logging.AttributionContextTracing.withAttributionTags$(AttributionContextTracing.scala:77)\n",
       "\tat com.databricks.rpc.ServerBackend.withAttributionTags(ServerBackend.scala:22)\n",
       "\tat com.databricks.logging.UsageLogging.recordOperationWithResultTags(UsageLogging.scala:608)\n",
       "\tat com.databricks.logging.UsageLogging.recordOperationWithResultTags$(UsageLogging.scala:517)\n",
       "\tat com.databricks.rpc.ServerBackend.recordOperationWithResultTags(ServerBackend.scala:22)\n",
       "\tat com.databricks.logging.UsageLogging.recordOperation(UsageLogging.scala:509)\n",
       "\tat com.databricks.logging.UsageLogging.recordOperation$(UsageLogging.scala:475)\n",
       "\tat com.databricks.rpc.ServerBackend.recordOperation(ServerBackend.scala:22)\n",
       "\tat com.databricks.rpc.ServerBackend.internalReceive(ServerBackend.scala:146)\n",
       "\tat com.databricks.rpc.JettyServer$RequestManager.handleRPC(JettyServer.scala:1037)\n",
       "\tat com.databricks.rpc.JettyServer$RequestManager.handleRequestAndRespond(JettyServer.scala:957)\n",
       "\tat com.databricks.rpc.JettyServer$RequestManager.$anonfun$handleHttp$6(JettyServer.scala:552)\n",
       "\tat com.databricks.rpc.JettyServer$RequestManager.$anonfun$handleHttp$6$adapted(JettyServer.scala:522)\n",
       "\tat com.databricks.logging.activity.ActivityContextFactory$.$anonfun$withActivityInternal$12(ActivityContextFactory.scala:806)\n",
       "\tat com.databricks.logging.AttributionContextTracing.$anonfun$withAttributionContext$1(AttributionContextTracing.scala:49)\n",
       "\tat com.databricks.logging.AttributionContext$.$anonfun$withValue$1(AttributionContext.scala:293)\n",
       "\tat scala.util.DynamicVariable.withValue(DynamicVariable.scala:62)\n",
       "\tat com.databricks.logging.AttributionContext$.withValue(AttributionContext.scala:289)\n",
       "\tat com.databricks.logging.AttributionContextTracing.withAttributionContext(AttributionContextTracing.scala:47)\n",
       "\tat com.databricks.logging.AttributionContextTracing.withAttributionContext$(AttributionContextTracing.scala:44)\n",
       "\tat com.databricks.logging.activity.ActivityContextFactory$.withAttributionContext(ActivityContextFactory.scala:52)\n",
       "\tat com.databricks.logging.activity.ActivityContextFactory$.$anonfun$withActivityInternal$2(ActivityContextFactory.scala:806)\n",
       "\tat com.databricks.context.integrity.IntegrityCheckContext$ThreadLocalStorage$.withValue(IntegrityCheckContext.scala:73)\n",
       "\tat com.databricks.logging.activity.ActivityContextFactory$.withActivityInternal(ActivityContextFactory.scala:769)\n",
       "\tat com.databricks.logging.activity.ActivityContextFactory$.withActivityInternal(ActivityContextFactory.scala:751)\n",
       "\tat com.databricks.logging.activity.ActivityContextFactory$.$anonfun$withServiceRequestActivity$15(ActivityContextFactory.scala:283)\n",
       "\tat com.databricks.logging.AttributionContextTracing.$anonfun$withAttributionContext$1(AttributionContextTracing.scala:49)\n",
       "\tat com.databricks.logging.AttributionContext$.$anonfun$withValue$1(AttributionContext.scala:293)\n",
       "\tat scala.util.DynamicVariable.withValue(DynamicVariable.scala:62)\n",
       "\tat com.databricks.logging.AttributionContext$.withValue(AttributionContext.scala:289)\n",
       "\tat com.databricks.logging.AttributionContextTracing.withAttributionContext(AttributionContextTracing.scala:47)\n",
       "\tat com.databricks.logging.AttributionContextTracing.withAttributionContext$(AttributionContextTracing.scala:44)\n",
       "\tat com.databricks.logging.activity.ActivityContextFactory$.withAttributionContext(ActivityContextFactory.scala:52)\n",
       "\tat com.databricks.logging.activity.ActivityContextFactory$.withServiceRequestActivity(ActivityContextFactory.scala:283)\n",
       "\tat com.databricks.rpc.JettyServer$RequestManager.handleHttp(JettyServer.scala:522)\n",
       "\tat com.databricks.rpc.JettyServer$RequestManager.doPost(JettyServer.scala:415)\n",
       "\tat javax.servlet.http.HttpServlet.service(HttpServlet.java:665)\n",
       "\tat com.databricks.rpc.HttpServletWithPatch.service(HttpServletWithPatch.scala:33)\n",
       "\tat javax.servlet.http.HttpServlet.service(HttpServlet.java:750)\n",
       "\tat org.eclipse.jetty.servlet.ServletHolder.handle(ServletHolder.java:799)\n",
       "\tat org.eclipse.jetty.servlet.ServletHandler.doHandle(ServletHandler.java:554)\n",
       "\tat org.eclipse.jetty.server.handler.ScopedHandler.nextScope(ScopedHandler.java:190)\n",
       "\tat org.eclipse.jetty.servlet.ServletHandler.doScope(ServletHandler.java:505)\n",
       "\tat org.eclipse.jetty.server.handler.ScopedHandler.handle(ScopedHandler.java:141)\n",
       "\tat org.eclipse.jetty.server.handler.HandlerWrapper.handle(HandlerWrapper.java:127)\n",
       "\tat org.eclipse.jetty.server.Server.handle(Server.java:516)\n",
       "\tat org.eclipse.jetty.server.HttpChannel.lambda$handle$1(HttpChannel.java:487)\n",
       "\tat org.eclipse.jetty.server.HttpChannel.dispatch(HttpChannel.java:732)\n",
       "\tat org.eclipse.jetty.server.HttpChannel.handle(HttpChannel.java:479)\n",
       "\tat org.eclipse.jetty.server.HttpConnection.onFillable(HttpConnection.java:277)\n",
       "\tat org.eclipse.jetty.io.AbstractConnection$ReadCallback.succeeded(AbstractConnection.java:311)\n",
       "\tat org.eclipse.jetty.io.FillInterest.fillable(FillInterest.java:105)\n",
       "\tat org.eclipse.jetty.io.ssl.SslConnection$DecryptedEndPoint.onFillable(SslConnection.java:555)\n",
       "\tat org.eclipse.jetty.io.ssl.SslConnection.onFillable(SslConnection.java:410)\n",
       "\tat org.eclipse.jetty.io.ssl.SslConnection$2.succeeded(SslConnection.java:164)\n",
       "\tat org.eclipse.jetty.io.FillInterest.fillable(FillInterest.java:105)\n",
       "\tat org.eclipse.jetty.io.ChannelEndPoint$1.run(ChannelEndPoint.java:104)\n",
       "\tat org.eclipse.jetty.util.thread.strategy.EatWhatYouKill.runTask(EatWhatYouKill.java:338)\n",
       "\tat org.eclipse.jetty.util.thread.strategy.EatWhatYouKill.doProduce(EatWhatYouKill.java:315)\n",
       "\tat org.eclipse.jetty.util.thread.strategy.EatWhatYouKill.tryProduce(EatWhatYouKill.java:173)\n",
       "\tat org.eclipse.jetty.util.thread.strategy.EatWhatYouKill.run(EatWhatYouKill.java:131)\n",
       "\tat org.eclipse.jetty.util.thread.ReservedThreadExecutor$ReservedThread.run(ReservedThreadExecutor.java:409)\n",
       "\tat com.databricks.rpc.InstrumentedQueuedThreadPool$$anon$1.$anonfun$run$2(InstrumentedQueuedThreadPool.scala:110)\n",
       "\tat scala.runtime.java8.JFunction0$mcV$sp.apply(JFunction0$mcV$sp.java:23)\n",
       "\tat com.databricks.logging.AttributionContextTracing.$anonfun$withAttributionContext$1(AttributionContextTracing.scala:49)\n",
       "\tat com.databricks.logging.AttributionContext$.$anonfun$withValue$1(AttributionContext.scala:293)\n",
       "\tat scala.util.DynamicVariable.withValue(DynamicVariable.scala:62)\n",
       "\tat com.databricks.logging.AttributionContext$.withValue(AttributionContext.scala:289)\n",
       "\tat com.databricks.logging.AttributionContextTracing.withAttributionContext(AttributionContextTracing.scala:47)\n",
       "\tat com.databricks.logging.AttributionContextTracing.withAttributionContext$(AttributionContextTracing.scala:44)\n",
       "\tat com.databricks.rpc.InstrumentedQueuedThreadPool.withAttributionContext(InstrumentedQueuedThreadPool.scala:45)\n",
       "\tat com.databricks.rpc.InstrumentedQueuedThreadPool$$anon$1.$anonfun$run$1(InstrumentedQueuedThreadPool.scala:110)\n",
       "\tat scala.runtime.java8.JFunction0$mcV$sp.apply(JFunction0$mcV$sp.java:23)\n",
       "\tat com.databricks.instrumentation.QueuedThreadPoolInstrumenter.trackActiveThreads(QueuedThreadPoolInstrumenter.scala:132)\n",
       "\tat com.databricks.instrumentation.QueuedThreadPoolInstrumenter.trackActiveThreads$(QueuedThreadPoolInstrumenter.scala:129)\n",
       "\tat com.databricks.rpc.InstrumentedQueuedThreadPool.trackActiveThreads(InstrumentedQueuedThreadPool.scala:45)\n",
       "\tat com.databricks.rpc.InstrumentedQueuedThreadPool$$anon$1.run(InstrumentedQueuedThreadPool.scala:92)\n",
       "\tat org.eclipse.jetty.util.thread.QueuedThreadPool.runJob(QueuedThreadPool.java:883)\n",
       "\tat org.eclipse.jetty.util.thread.QueuedThreadPool$Runner.run(QueuedThreadPool.java:1034)\n",
       "\tat java.base/java.lang.Thread.run(Thread.java:840)"
      ]
     },
     "metadata": {
      "application/vnd.databricks.v1+output": {
       "addedWidgets": {},
       "arguments": {},
       "datasetInfos": [],
       "jupyterProps": null,
       "metadata": {
        "errorSummary": "Command skipped"
       },
       "removedWidgets": [],
       "sqlProps": null,
       "stackFrames": [
        "com.databricks.backend.common.rpc.CommandSkippedException",
        "\tat com.databricks.spark.chauffeur.SequenceExecutionState.$anonfun$cancel$3(SequenceExecutionState.scala:134)",
        "\tat com.databricks.spark.chauffeur.SequenceExecutionState.$anonfun$cancel$3$adapted(SequenceExecutionState.scala:129)",
        "\tat scala.collection.immutable.Range.foreach(Range.scala:158)",
        "\tat com.databricks.spark.chauffeur.SequenceExecutionState.cancel(SequenceExecutionState.scala:129)",
        "\tat com.databricks.spark.chauffeur.ExecContextState.cancelRunningSequence(ExecContextState.scala:715)",
        "\tat com.databricks.spark.chauffeur.ExecContextState.$anonfun$cancel$1(ExecContextState.scala:435)",
        "\tat scala.Option.getOrElse(Option.scala:189)",
        "\tat com.databricks.spark.chauffeur.ExecContextState.cancel(ExecContextState.scala:435)",
        "\tat com.databricks.spark.chauffeur.ExecutionContextManagerV1.cancelExecution(ExecutionContextManagerV1.scala:466)",
        "\tat com.databricks.spark.chauffeur.ChauffeurState.$anonfun$process$1(ChauffeurState.scala:757)",
        "\tat com.databricks.logging.UsageLogging.$anonfun$recordOperation$1(UsageLogging.scala:508)",
        "\tat com.databricks.logging.UsageLogging.executeThunkAndCaptureResultTags$1(UsageLogging.scala:613)",
        "\tat com.databricks.logging.UsageLogging.$anonfun$recordOperationWithResultTags$4(UsageLogging.scala:636)",
        "\tat com.databricks.logging.AttributionContextTracing.$anonfun$withAttributionContext$1(AttributionContextTracing.scala:49)",
        "\tat com.databricks.logging.AttributionContext$.$anonfun$withValue$1(AttributionContext.scala:293)",
        "\tat scala.util.DynamicVariable.withValue(DynamicVariable.scala:62)",
        "\tat com.databricks.logging.AttributionContext$.withValue(AttributionContext.scala:289)",
        "\tat com.databricks.logging.AttributionContextTracing.withAttributionContext(AttributionContextTracing.scala:47)",
        "\tat com.databricks.logging.AttributionContextTracing.withAttributionContext$(AttributionContextTracing.scala:44)",
        "\tat com.databricks.spark.chauffeur.ChauffeurState.withAttributionContext(ChauffeurState.scala:83)",
        "\tat com.databricks.logging.AttributionContextTracing.withAttributionTags(AttributionContextTracing.scala:96)",
        "\tat com.databricks.logging.AttributionContextTracing.withAttributionTags$(AttributionContextTracing.scala:77)",
        "\tat com.databricks.spark.chauffeur.ChauffeurState.withAttributionTags(ChauffeurState.scala:83)",
        "\tat com.databricks.logging.UsageLogging.recordOperationWithResultTags(UsageLogging.scala:608)",
        "\tat com.databricks.logging.UsageLogging.recordOperationWithResultTags$(UsageLogging.scala:517)",
        "\tat com.databricks.spark.chauffeur.ChauffeurState.recordOperationWithResultTags(ChauffeurState.scala:83)",
        "\tat com.databricks.logging.UsageLogging.recordOperation(UsageLogging.scala:509)",
        "\tat com.databricks.logging.UsageLogging.recordOperation$(UsageLogging.scala:475)",
        "\tat com.databricks.spark.chauffeur.ChauffeurState.recordOperation(ChauffeurState.scala:83)",
        "\tat com.databricks.spark.chauffeur.ChauffeurState.process(ChauffeurState.scala:735)",
        "\tat com.databricks.spark.chauffeur.Chauffeur$$anon$1$$anonfun$receive$1.handleDriverRequest$1(Chauffeur.scala:903)",
        "\tat com.databricks.spark.chauffeur.Chauffeur$$anon$1$$anonfun$receive$1.$anonfun$applyOrElse$4(Chauffeur.scala:929)",
        "\tat com.databricks.logging.UsageLogging.executeThunkAndCaptureResultTags$1(UsageLogging.scala:613)",
        "\tat com.databricks.logging.UsageLogging.$anonfun$recordOperationWithResultTags$4(UsageLogging.scala:636)",
        "\tat com.databricks.logging.AttributionContextTracing.$anonfun$withAttributionContext$1(AttributionContextTracing.scala:49)",
        "\tat com.databricks.logging.AttributionContext$.$anonfun$withValue$1(AttributionContext.scala:293)",
        "\tat scala.util.DynamicVariable.withValue(DynamicVariable.scala:62)",
        "\tat com.databricks.logging.AttributionContext$.withValue(AttributionContext.scala:289)",
        "\tat com.databricks.logging.AttributionContextTracing.withAttributionContext(AttributionContextTracing.scala:47)",
        "\tat com.databricks.logging.AttributionContextTracing.withAttributionContext$(AttributionContextTracing.scala:44)",
        "\tat com.databricks.rpc.ServerBackend.withAttributionContext(ServerBackend.scala:22)",
        "\tat com.databricks.logging.AttributionContextTracing.withAttributionTags(AttributionContextTracing.scala:96)",
        "\tat com.databricks.logging.AttributionContextTracing.withAttributionTags$(AttributionContextTracing.scala:77)",
        "\tat com.databricks.rpc.ServerBackend.withAttributionTags(ServerBackend.scala:22)",
        "\tat com.databricks.logging.UsageLogging.recordOperationWithResultTags(UsageLogging.scala:608)",
        "\tat com.databricks.logging.UsageLogging.recordOperationWithResultTags$(UsageLogging.scala:517)",
        "\tat com.databricks.rpc.ServerBackend.recordOperationWithResultTags(ServerBackend.scala:22)",
        "\tat com.databricks.spark.chauffeur.Chauffeur$$anon$1$$anonfun$receive$1.handleDriverRequestWithUsageLogging$1(Chauffeur.scala:928)",
        "\tat com.databricks.spark.chauffeur.Chauffeur$$anon$1$$anonfun$receive$1.applyOrElse(Chauffeur.scala:983)",
        "\tat com.databricks.spark.chauffeur.Chauffeur$$anon$1$$anonfun$receive$1.applyOrElse(Chauffeur.scala:775)",
        "\tat com.databricks.rpc.ServerBackend.$anonfun$internalReceive0$2(ServerBackend.scala:174)",
        "\tat com.databricks.rpc.ServerBackend$$anonfun$commonReceive$1.applyOrElse(ServerBackend.scala:200)",
        "\tat com.databricks.rpc.ServerBackend$$anonfun$commonReceive$1.applyOrElse(ServerBackend.scala:200)",
        "\tat com.databricks.rpc.ServerBackend.internalReceive0(ServerBackend.scala:171)",
        "\tat com.databricks.rpc.ServerBackend.$anonfun$internalReceive$1(ServerBackend.scala:147)",
        "\tat com.databricks.logging.UsageLogging.$anonfun$recordOperation$1(UsageLogging.scala:508)",
        "\tat com.databricks.logging.UsageLogging.executeThunkAndCaptureResultTags$1(UsageLogging.scala:613)",
        "\tat com.databricks.logging.UsageLogging.$anonfun$recordOperationWithResultTags$4(UsageLogging.scala:636)",
        "\tat com.databricks.logging.AttributionContextTracing.$anonfun$withAttributionContext$1(AttributionContextTracing.scala:49)",
        "\tat com.databricks.logging.AttributionContext$.$anonfun$withValue$1(AttributionContext.scala:293)",
        "\tat scala.util.DynamicVariable.withValue(DynamicVariable.scala:62)",
        "\tat com.databricks.logging.AttributionContext$.withValue(AttributionContext.scala:289)",
        "\tat com.databricks.logging.AttributionContextTracing.withAttributionContext(AttributionContextTracing.scala:47)",
        "\tat com.databricks.logging.AttributionContextTracing.withAttributionContext$(AttributionContextTracing.scala:44)",
        "\tat com.databricks.rpc.ServerBackend.withAttributionContext(ServerBackend.scala:22)",
        "\tat com.databricks.logging.AttributionContextTracing.withAttributionTags(AttributionContextTracing.scala:96)",
        "\tat com.databricks.logging.AttributionContextTracing.withAttributionTags$(AttributionContextTracing.scala:77)",
        "\tat com.databricks.rpc.ServerBackend.withAttributionTags(ServerBackend.scala:22)",
        "\tat com.databricks.logging.UsageLogging.recordOperationWithResultTags(UsageLogging.scala:608)",
        "\tat com.databricks.logging.UsageLogging.recordOperationWithResultTags$(UsageLogging.scala:517)",
        "\tat com.databricks.rpc.ServerBackend.recordOperationWithResultTags(ServerBackend.scala:22)",
        "\tat com.databricks.logging.UsageLogging.recordOperation(UsageLogging.scala:509)",
        "\tat com.databricks.logging.UsageLogging.recordOperation$(UsageLogging.scala:475)",
        "\tat com.databricks.rpc.ServerBackend.recordOperation(ServerBackend.scala:22)",
        "\tat com.databricks.rpc.ServerBackend.internalReceive(ServerBackend.scala:146)",
        "\tat com.databricks.rpc.JettyServer$RequestManager.handleRPC(JettyServer.scala:1037)",
        "\tat com.databricks.rpc.JettyServer$RequestManager.handleRequestAndRespond(JettyServer.scala:957)",
        "\tat com.databricks.rpc.JettyServer$RequestManager.$anonfun$handleHttp$6(JettyServer.scala:552)",
        "\tat com.databricks.rpc.JettyServer$RequestManager.$anonfun$handleHttp$6$adapted(JettyServer.scala:522)",
        "\tat com.databricks.logging.activity.ActivityContextFactory$.$anonfun$withActivityInternal$12(ActivityContextFactory.scala:806)",
        "\tat com.databricks.logging.AttributionContextTracing.$anonfun$withAttributionContext$1(AttributionContextTracing.scala:49)",
        "\tat com.databricks.logging.AttributionContext$.$anonfun$withValue$1(AttributionContext.scala:293)",
        "\tat scala.util.DynamicVariable.withValue(DynamicVariable.scala:62)",
        "\tat com.databricks.logging.AttributionContext$.withValue(AttributionContext.scala:289)",
        "\tat com.databricks.logging.AttributionContextTracing.withAttributionContext(AttributionContextTracing.scala:47)",
        "\tat com.databricks.logging.AttributionContextTracing.withAttributionContext$(AttributionContextTracing.scala:44)",
        "\tat com.databricks.logging.activity.ActivityContextFactory$.withAttributionContext(ActivityContextFactory.scala:52)",
        "\tat com.databricks.logging.activity.ActivityContextFactory$.$anonfun$withActivityInternal$2(ActivityContextFactory.scala:806)",
        "\tat com.databricks.context.integrity.IntegrityCheckContext$ThreadLocalStorage$.withValue(IntegrityCheckContext.scala:73)",
        "\tat com.databricks.logging.activity.ActivityContextFactory$.withActivityInternal(ActivityContextFactory.scala:769)",
        "\tat com.databricks.logging.activity.ActivityContextFactory$.withActivityInternal(ActivityContextFactory.scala:751)",
        "\tat com.databricks.logging.activity.ActivityContextFactory$.$anonfun$withServiceRequestActivity$15(ActivityContextFactory.scala:283)",
        "\tat com.databricks.logging.AttributionContextTracing.$anonfun$withAttributionContext$1(AttributionContextTracing.scala:49)",
        "\tat com.databricks.logging.AttributionContext$.$anonfun$withValue$1(AttributionContext.scala:293)",
        "\tat scala.util.DynamicVariable.withValue(DynamicVariable.scala:62)",
        "\tat com.databricks.logging.AttributionContext$.withValue(AttributionContext.scala:289)",
        "\tat com.databricks.logging.AttributionContextTracing.withAttributionContext(AttributionContextTracing.scala:47)",
        "\tat com.databricks.logging.AttributionContextTracing.withAttributionContext$(AttributionContextTracing.scala:44)",
        "\tat com.databricks.logging.activity.ActivityContextFactory$.withAttributionContext(ActivityContextFactory.scala:52)",
        "\tat com.databricks.logging.activity.ActivityContextFactory$.withServiceRequestActivity(ActivityContextFactory.scala:283)",
        "\tat com.databricks.rpc.JettyServer$RequestManager.handleHttp(JettyServer.scala:522)",
        "\tat com.databricks.rpc.JettyServer$RequestManager.doPost(JettyServer.scala:415)",
        "\tat javax.servlet.http.HttpServlet.service(HttpServlet.java:665)",
        "\tat com.databricks.rpc.HttpServletWithPatch.service(HttpServletWithPatch.scala:33)",
        "\tat javax.servlet.http.HttpServlet.service(HttpServlet.java:750)",
        "\tat org.eclipse.jetty.servlet.ServletHolder.handle(ServletHolder.java:799)",
        "\tat org.eclipse.jetty.servlet.ServletHandler.doHandle(ServletHandler.java:554)",
        "\tat org.eclipse.jetty.server.handler.ScopedHandler.nextScope(ScopedHandler.java:190)",
        "\tat org.eclipse.jetty.servlet.ServletHandler.doScope(ServletHandler.java:505)",
        "\tat org.eclipse.jetty.server.handler.ScopedHandler.handle(ScopedHandler.java:141)",
        "\tat org.eclipse.jetty.server.handler.HandlerWrapper.handle(HandlerWrapper.java:127)",
        "\tat org.eclipse.jetty.server.Server.handle(Server.java:516)",
        "\tat org.eclipse.jetty.server.HttpChannel.lambda$handle$1(HttpChannel.java:487)",
        "\tat org.eclipse.jetty.server.HttpChannel.dispatch(HttpChannel.java:732)",
        "\tat org.eclipse.jetty.server.HttpChannel.handle(HttpChannel.java:479)",
        "\tat org.eclipse.jetty.server.HttpConnection.onFillable(HttpConnection.java:277)",
        "\tat org.eclipse.jetty.io.AbstractConnection$ReadCallback.succeeded(AbstractConnection.java:311)",
        "\tat org.eclipse.jetty.io.FillInterest.fillable(FillInterest.java:105)",
        "\tat org.eclipse.jetty.io.ssl.SslConnection$DecryptedEndPoint.onFillable(SslConnection.java:555)",
        "\tat org.eclipse.jetty.io.ssl.SslConnection.onFillable(SslConnection.java:410)",
        "\tat org.eclipse.jetty.io.ssl.SslConnection$2.succeeded(SslConnection.java:164)",
        "\tat org.eclipse.jetty.io.FillInterest.fillable(FillInterest.java:105)",
        "\tat org.eclipse.jetty.io.ChannelEndPoint$1.run(ChannelEndPoint.java:104)",
        "\tat org.eclipse.jetty.util.thread.strategy.EatWhatYouKill.runTask(EatWhatYouKill.java:338)",
        "\tat org.eclipse.jetty.util.thread.strategy.EatWhatYouKill.doProduce(EatWhatYouKill.java:315)",
        "\tat org.eclipse.jetty.util.thread.strategy.EatWhatYouKill.tryProduce(EatWhatYouKill.java:173)",
        "\tat org.eclipse.jetty.util.thread.strategy.EatWhatYouKill.run(EatWhatYouKill.java:131)",
        "\tat org.eclipse.jetty.util.thread.ReservedThreadExecutor$ReservedThread.run(ReservedThreadExecutor.java:409)",
        "\tat com.databricks.rpc.InstrumentedQueuedThreadPool$$anon$1.$anonfun$run$2(InstrumentedQueuedThreadPool.scala:110)",
        "\tat scala.runtime.java8.JFunction0$mcV$sp.apply(JFunction0$mcV$sp.java:23)",
        "\tat com.databricks.logging.AttributionContextTracing.$anonfun$withAttributionContext$1(AttributionContextTracing.scala:49)",
        "\tat com.databricks.logging.AttributionContext$.$anonfun$withValue$1(AttributionContext.scala:293)",
        "\tat scala.util.DynamicVariable.withValue(DynamicVariable.scala:62)",
        "\tat com.databricks.logging.AttributionContext$.withValue(AttributionContext.scala:289)",
        "\tat com.databricks.logging.AttributionContextTracing.withAttributionContext(AttributionContextTracing.scala:47)",
        "\tat com.databricks.logging.AttributionContextTracing.withAttributionContext$(AttributionContextTracing.scala:44)",
        "\tat com.databricks.rpc.InstrumentedQueuedThreadPool.withAttributionContext(InstrumentedQueuedThreadPool.scala:45)",
        "\tat com.databricks.rpc.InstrumentedQueuedThreadPool$$anon$1.$anonfun$run$1(InstrumentedQueuedThreadPool.scala:110)",
        "\tat scala.runtime.java8.JFunction0$mcV$sp.apply(JFunction0$mcV$sp.java:23)",
        "\tat com.databricks.instrumentation.QueuedThreadPoolInstrumenter.trackActiveThreads(QueuedThreadPoolInstrumenter.scala:132)",
        "\tat com.databricks.instrumentation.QueuedThreadPoolInstrumenter.trackActiveThreads$(QueuedThreadPoolInstrumenter.scala:129)",
        "\tat com.databricks.rpc.InstrumentedQueuedThreadPool.trackActiveThreads(InstrumentedQueuedThreadPool.scala:45)",
        "\tat com.databricks.rpc.InstrumentedQueuedThreadPool$$anon$1.run(InstrumentedQueuedThreadPool.scala:92)",
        "\tat org.eclipse.jetty.util.thread.QueuedThreadPool.runJob(QueuedThreadPool.java:883)",
        "\tat org.eclipse.jetty.util.thread.QueuedThreadPool$Runner.run(QueuedThreadPool.java:1034)",
        "\tat java.base/java.lang.Thread.run(Thread.java:840)"
       ],
       "type": "baseError"
      }
     },
     "output_type": "display_data"
    }
   ],
   "source": [
    "# 3. Trace Plots\n",
    "print(\"Plotting trace plots...\")\n",
    "az.plot_trace(trace)\n",
    "plt.show()"
   ]
  },
  {
   "cell_type": "code",
   "execution_count": 0,
   "metadata": {
    "application/vnd.databricks.v1+cell": {
     "cellMetadata": {
      "byteLimit": 2048000,
      "rowLimit": 10000
     },
     "inputWidgets": {},
     "nuid": "d94e49c7-56f7-4cc6-b656-1670355c8553",
     "showTitle": false,
     "tableResultSettingsMap": {},
     "title": ""
    }
   },
   "outputs": [
    {
     "output_type": "display_data",
     "data": {
      "text/plain": [
       "com.databricks.backend.common.rpc.CommandSkippedException\n",
       "\tat com.databricks.spark.chauffeur.SequenceExecutionState.$anonfun$cancel$3(SequenceExecutionState.scala:134)\n",
       "\tat com.databricks.spark.chauffeur.SequenceExecutionState.$anonfun$cancel$3$adapted(SequenceExecutionState.scala:129)\n",
       "\tat scala.collection.immutable.Range.foreach(Range.scala:158)\n",
       "\tat com.databricks.spark.chauffeur.SequenceExecutionState.cancel(SequenceExecutionState.scala:129)\n",
       "\tat com.databricks.spark.chauffeur.ExecContextState.cancelRunningSequence(ExecContextState.scala:715)\n",
       "\tat com.databricks.spark.chauffeur.ExecContextState.$anonfun$cancel$1(ExecContextState.scala:435)\n",
       "\tat scala.Option.getOrElse(Option.scala:189)\n",
       "\tat com.databricks.spark.chauffeur.ExecContextState.cancel(ExecContextState.scala:435)\n",
       "\tat com.databricks.spark.chauffeur.ExecutionContextManagerV1.cancelExecution(ExecutionContextManagerV1.scala:466)\n",
       "\tat com.databricks.spark.chauffeur.ChauffeurState.$anonfun$process$1(ChauffeurState.scala:757)\n",
       "\tat com.databricks.logging.UsageLogging.$anonfun$recordOperation$1(UsageLogging.scala:508)\n",
       "\tat com.databricks.logging.UsageLogging.executeThunkAndCaptureResultTags$1(UsageLogging.scala:613)\n",
       "\tat com.databricks.logging.UsageLogging.$anonfun$recordOperationWithResultTags$4(UsageLogging.scala:636)\n",
       "\tat com.databricks.logging.AttributionContextTracing.$anonfun$withAttributionContext$1(AttributionContextTracing.scala:49)\n",
       "\tat com.databricks.logging.AttributionContext$.$anonfun$withValue$1(AttributionContext.scala:293)\n",
       "\tat scala.util.DynamicVariable.withValue(DynamicVariable.scala:62)\n",
       "\tat com.databricks.logging.AttributionContext$.withValue(AttributionContext.scala:289)\n",
       "\tat com.databricks.logging.AttributionContextTracing.withAttributionContext(AttributionContextTracing.scala:47)\n",
       "\tat com.databricks.logging.AttributionContextTracing.withAttributionContext$(AttributionContextTracing.scala:44)\n",
       "\tat com.databricks.spark.chauffeur.ChauffeurState.withAttributionContext(ChauffeurState.scala:83)\n",
       "\tat com.databricks.logging.AttributionContextTracing.withAttributionTags(AttributionContextTracing.scala:96)\n",
       "\tat com.databricks.logging.AttributionContextTracing.withAttributionTags$(AttributionContextTracing.scala:77)\n",
       "\tat com.databricks.spark.chauffeur.ChauffeurState.withAttributionTags(ChauffeurState.scala:83)\n",
       "\tat com.databricks.logging.UsageLogging.recordOperationWithResultTags(UsageLogging.scala:608)\n",
       "\tat com.databricks.logging.UsageLogging.recordOperationWithResultTags$(UsageLogging.scala:517)\n",
       "\tat com.databricks.spark.chauffeur.ChauffeurState.recordOperationWithResultTags(ChauffeurState.scala:83)\n",
       "\tat com.databricks.logging.UsageLogging.recordOperation(UsageLogging.scala:509)\n",
       "\tat com.databricks.logging.UsageLogging.recordOperation$(UsageLogging.scala:475)\n",
       "\tat com.databricks.spark.chauffeur.ChauffeurState.recordOperation(ChauffeurState.scala:83)\n",
       "\tat com.databricks.spark.chauffeur.ChauffeurState.process(ChauffeurState.scala:735)\n",
       "\tat com.databricks.spark.chauffeur.Chauffeur$$anon$1$$anonfun$receive$1.handleDriverRequest$1(Chauffeur.scala:903)\n",
       "\tat com.databricks.spark.chauffeur.Chauffeur$$anon$1$$anonfun$receive$1.$anonfun$applyOrElse$4(Chauffeur.scala:929)\n",
       "\tat com.databricks.logging.UsageLogging.executeThunkAndCaptureResultTags$1(UsageLogging.scala:613)\n",
       "\tat com.databricks.logging.UsageLogging.$anonfun$recordOperationWithResultTags$4(UsageLogging.scala:636)\n",
       "\tat com.databricks.logging.AttributionContextTracing.$anonfun$withAttributionContext$1(AttributionContextTracing.scala:49)\n",
       "\tat com.databricks.logging.AttributionContext$.$anonfun$withValue$1(AttributionContext.scala:293)\n",
       "\tat scala.util.DynamicVariable.withValue(DynamicVariable.scala:62)\n",
       "\tat com.databricks.logging.AttributionContext$.withValue(AttributionContext.scala:289)\n",
       "\tat com.databricks.logging.AttributionContextTracing.withAttributionContext(AttributionContextTracing.scala:47)\n",
       "\tat com.databricks.logging.AttributionContextTracing.withAttributionContext$(AttributionContextTracing.scala:44)\n",
       "\tat com.databricks.rpc.ServerBackend.withAttributionContext(ServerBackend.scala:22)\n",
       "\tat com.databricks.logging.AttributionContextTracing.withAttributionTags(AttributionContextTracing.scala:96)\n",
       "\tat com.databricks.logging.AttributionContextTracing.withAttributionTags$(AttributionContextTracing.scala:77)\n",
       "\tat com.databricks.rpc.ServerBackend.withAttributionTags(ServerBackend.scala:22)\n",
       "\tat com.databricks.logging.UsageLogging.recordOperationWithResultTags(UsageLogging.scala:608)\n",
       "\tat com.databricks.logging.UsageLogging.recordOperationWithResultTags$(UsageLogging.scala:517)\n",
       "\tat com.databricks.rpc.ServerBackend.recordOperationWithResultTags(ServerBackend.scala:22)\n",
       "\tat com.databricks.spark.chauffeur.Chauffeur$$anon$1$$anonfun$receive$1.handleDriverRequestWithUsageLogging$1(Chauffeur.scala:928)\n",
       "\tat com.databricks.spark.chauffeur.Chauffeur$$anon$1$$anonfun$receive$1.applyOrElse(Chauffeur.scala:983)\n",
       "\tat com.databricks.spark.chauffeur.Chauffeur$$anon$1$$anonfun$receive$1.applyOrElse(Chauffeur.scala:775)\n",
       "\tat com.databricks.rpc.ServerBackend.$anonfun$internalReceive0$2(ServerBackend.scala:174)\n",
       "\tat com.databricks.rpc.ServerBackend$$anonfun$commonReceive$1.applyOrElse(ServerBackend.scala:200)\n",
       "\tat com.databricks.rpc.ServerBackend$$anonfun$commonReceive$1.applyOrElse(ServerBackend.scala:200)\n",
       "\tat com.databricks.rpc.ServerBackend.internalReceive0(ServerBackend.scala:171)\n",
       "\tat com.databricks.rpc.ServerBackend.$anonfun$internalReceive$1(ServerBackend.scala:147)\n",
       "\tat com.databricks.logging.UsageLogging.$anonfun$recordOperation$1(UsageLogging.scala:508)\n",
       "\tat com.databricks.logging.UsageLogging.executeThunkAndCaptureResultTags$1(UsageLogging.scala:613)\n",
       "\tat com.databricks.logging.UsageLogging.$anonfun$recordOperationWithResultTags$4(UsageLogging.scala:636)\n",
       "\tat com.databricks.logging.AttributionContextTracing.$anonfun$withAttributionContext$1(AttributionContextTracing.scala:49)\n",
       "\tat com.databricks.logging.AttributionContext$.$anonfun$withValue$1(AttributionContext.scala:293)\n",
       "\tat scala.util.DynamicVariable.withValue(DynamicVariable.scala:62)\n",
       "\tat com.databricks.logging.AttributionContext$.withValue(AttributionContext.scala:289)\n",
       "\tat com.databricks.logging.AttributionContextTracing.withAttributionContext(AttributionContextTracing.scala:47)\n",
       "\tat com.databricks.logging.AttributionContextTracing.withAttributionContext$(AttributionContextTracing.scala:44)\n",
       "\tat com.databricks.rpc.ServerBackend.withAttributionContext(ServerBackend.scala:22)\n",
       "\tat com.databricks.logging.AttributionContextTracing.withAttributionTags(AttributionContextTracing.scala:96)\n",
       "\tat com.databricks.logging.AttributionContextTracing.withAttributionTags$(AttributionContextTracing.scala:77)\n",
       "\tat com.databricks.rpc.ServerBackend.withAttributionTags(ServerBackend.scala:22)\n",
       "\tat com.databricks.logging.UsageLogging.recordOperationWithResultTags(UsageLogging.scala:608)\n",
       "\tat com.databricks.logging.UsageLogging.recordOperationWithResultTags$(UsageLogging.scala:517)\n",
       "\tat com.databricks.rpc.ServerBackend.recordOperationWithResultTags(ServerBackend.scala:22)\n",
       "\tat com.databricks.logging.UsageLogging.recordOperation(UsageLogging.scala:509)\n",
       "\tat com.databricks.logging.UsageLogging.recordOperation$(UsageLogging.scala:475)\n",
       "\tat com.databricks.rpc.ServerBackend.recordOperation(ServerBackend.scala:22)\n",
       "\tat com.databricks.rpc.ServerBackend.internalReceive(ServerBackend.scala:146)\n",
       "\tat com.databricks.rpc.JettyServer$RequestManager.handleRPC(JettyServer.scala:1037)\n",
       "\tat com.databricks.rpc.JettyServer$RequestManager.handleRequestAndRespond(JettyServer.scala:957)\n",
       "\tat com.databricks.rpc.JettyServer$RequestManager.$anonfun$handleHttp$6(JettyServer.scala:552)\n",
       "\tat com.databricks.rpc.JettyServer$RequestManager.$anonfun$handleHttp$6$adapted(JettyServer.scala:522)\n",
       "\tat com.databricks.logging.activity.ActivityContextFactory$.$anonfun$withActivityInternal$12(ActivityContextFactory.scala:806)\n",
       "\tat com.databricks.logging.AttributionContextTracing.$anonfun$withAttributionContext$1(AttributionContextTracing.scala:49)\n",
       "\tat com.databricks.logging.AttributionContext$.$anonfun$withValue$1(AttributionContext.scala:293)\n",
       "\tat scala.util.DynamicVariable.withValue(DynamicVariable.scala:62)\n",
       "\tat com.databricks.logging.AttributionContext$.withValue(AttributionContext.scala:289)\n",
       "\tat com.databricks.logging.AttributionContextTracing.withAttributionContext(AttributionContextTracing.scala:47)\n",
       "\tat com.databricks.logging.AttributionContextTracing.withAttributionContext$(AttributionContextTracing.scala:44)\n",
       "\tat com.databricks.logging.activity.ActivityContextFactory$.withAttributionContext(ActivityContextFactory.scala:52)\n",
       "\tat com.databricks.logging.activity.ActivityContextFactory$.$anonfun$withActivityInternal$2(ActivityContextFactory.scala:806)\n",
       "\tat com.databricks.context.integrity.IntegrityCheckContext$ThreadLocalStorage$.withValue(IntegrityCheckContext.scala:73)\n",
       "\tat com.databricks.logging.activity.ActivityContextFactory$.withActivityInternal(ActivityContextFactory.scala:769)\n",
       "\tat com.databricks.logging.activity.ActivityContextFactory$.withActivityInternal(ActivityContextFactory.scala:751)\n",
       "\tat com.databricks.logging.activity.ActivityContextFactory$.$anonfun$withServiceRequestActivity$15(ActivityContextFactory.scala:283)\n",
       "\tat com.databricks.logging.AttributionContextTracing.$anonfun$withAttributionContext$1(AttributionContextTracing.scala:49)\n",
       "\tat com.databricks.logging.AttributionContext$.$anonfun$withValue$1(AttributionContext.scala:293)\n",
       "\tat scala.util.DynamicVariable.withValue(DynamicVariable.scala:62)\n",
       "\tat com.databricks.logging.AttributionContext$.withValue(AttributionContext.scala:289)\n",
       "\tat com.databricks.logging.AttributionContextTracing.withAttributionContext(AttributionContextTracing.scala:47)\n",
       "\tat com.databricks.logging.AttributionContextTracing.withAttributionContext$(AttributionContextTracing.scala:44)\n",
       "\tat com.databricks.logging.activity.ActivityContextFactory$.withAttributionContext(ActivityContextFactory.scala:52)\n",
       "\tat com.databricks.logging.activity.ActivityContextFactory$.withServiceRequestActivity(ActivityContextFactory.scala:283)\n",
       "\tat com.databricks.rpc.JettyServer$RequestManager.handleHttp(JettyServer.scala:522)\n",
       "\tat com.databricks.rpc.JettyServer$RequestManager.doPost(JettyServer.scala:415)\n",
       "\tat javax.servlet.http.HttpServlet.service(HttpServlet.java:665)\n",
       "\tat com.databricks.rpc.HttpServletWithPatch.service(HttpServletWithPatch.scala:33)\n",
       "\tat javax.servlet.http.HttpServlet.service(HttpServlet.java:750)\n",
       "\tat org.eclipse.jetty.servlet.ServletHolder.handle(ServletHolder.java:799)\n",
       "\tat org.eclipse.jetty.servlet.ServletHandler.doHandle(ServletHandler.java:554)\n",
       "\tat org.eclipse.jetty.server.handler.ScopedHandler.nextScope(ScopedHandler.java:190)\n",
       "\tat org.eclipse.jetty.servlet.ServletHandler.doScope(ServletHandler.java:505)\n",
       "\tat org.eclipse.jetty.server.handler.ScopedHandler.handle(ScopedHandler.java:141)\n",
       "\tat org.eclipse.jetty.server.handler.HandlerWrapper.handle(HandlerWrapper.java:127)\n",
       "\tat org.eclipse.jetty.server.Server.handle(Server.java:516)\n",
       "\tat org.eclipse.jetty.server.HttpChannel.lambda$handle$1(HttpChannel.java:487)\n",
       "\tat org.eclipse.jetty.server.HttpChannel.dispatch(HttpChannel.java:732)\n",
       "\tat org.eclipse.jetty.server.HttpChannel.handle(HttpChannel.java:479)\n",
       "\tat org.eclipse.jetty.server.HttpConnection.onFillable(HttpConnection.java:277)\n",
       "\tat org.eclipse.jetty.io.AbstractConnection$ReadCallback.succeeded(AbstractConnection.java:311)\n",
       "\tat org.eclipse.jetty.io.FillInterest.fillable(FillInterest.java:105)\n",
       "\tat org.eclipse.jetty.io.ssl.SslConnection$DecryptedEndPoint.onFillable(SslConnection.java:555)\n",
       "\tat org.eclipse.jetty.io.ssl.SslConnection.onFillable(SslConnection.java:410)\n",
       "\tat org.eclipse.jetty.io.ssl.SslConnection$2.succeeded(SslConnection.java:164)\n",
       "\tat org.eclipse.jetty.io.FillInterest.fillable(FillInterest.java:105)\n",
       "\tat org.eclipse.jetty.io.ChannelEndPoint$1.run(ChannelEndPoint.java:104)\n",
       "\tat org.eclipse.jetty.util.thread.strategy.EatWhatYouKill.runTask(EatWhatYouKill.java:338)\n",
       "\tat org.eclipse.jetty.util.thread.strategy.EatWhatYouKill.doProduce(EatWhatYouKill.java:315)\n",
       "\tat org.eclipse.jetty.util.thread.strategy.EatWhatYouKill.tryProduce(EatWhatYouKill.java:173)\n",
       "\tat org.eclipse.jetty.util.thread.strategy.EatWhatYouKill.run(EatWhatYouKill.java:131)\n",
       "\tat org.eclipse.jetty.util.thread.ReservedThreadExecutor$ReservedThread.run(ReservedThreadExecutor.java:409)\n",
       "\tat com.databricks.rpc.InstrumentedQueuedThreadPool$$anon$1.$anonfun$run$2(InstrumentedQueuedThreadPool.scala:110)\n",
       "\tat scala.runtime.java8.JFunction0$mcV$sp.apply(JFunction0$mcV$sp.java:23)\n",
       "\tat com.databricks.logging.AttributionContextTracing.$anonfun$withAttributionContext$1(AttributionContextTracing.scala:49)\n",
       "\tat com.databricks.logging.AttributionContext$.$anonfun$withValue$1(AttributionContext.scala:293)\n",
       "\tat scala.util.DynamicVariable.withValue(DynamicVariable.scala:62)\n",
       "\tat com.databricks.logging.AttributionContext$.withValue(AttributionContext.scala:289)\n",
       "\tat com.databricks.logging.AttributionContextTracing.withAttributionContext(AttributionContextTracing.scala:47)\n",
       "\tat com.databricks.logging.AttributionContextTracing.withAttributionContext$(AttributionContextTracing.scala:44)\n",
       "\tat com.databricks.rpc.InstrumentedQueuedThreadPool.withAttributionContext(InstrumentedQueuedThreadPool.scala:45)\n",
       "\tat com.databricks.rpc.InstrumentedQueuedThreadPool$$anon$1.$anonfun$run$1(InstrumentedQueuedThreadPool.scala:110)\n",
       "\tat scala.runtime.java8.JFunction0$mcV$sp.apply(JFunction0$mcV$sp.java:23)\n",
       "\tat com.databricks.instrumentation.QueuedThreadPoolInstrumenter.trackActiveThreads(QueuedThreadPoolInstrumenter.scala:132)\n",
       "\tat com.databricks.instrumentation.QueuedThreadPoolInstrumenter.trackActiveThreads$(QueuedThreadPoolInstrumenter.scala:129)\n",
       "\tat com.databricks.rpc.InstrumentedQueuedThreadPool.trackActiveThreads(InstrumentedQueuedThreadPool.scala:45)\n",
       "\tat com.databricks.rpc.InstrumentedQueuedThreadPool$$anon$1.run(InstrumentedQueuedThreadPool.scala:92)\n",
       "\tat org.eclipse.jetty.util.thread.QueuedThreadPool.runJob(QueuedThreadPool.java:883)\n",
       "\tat org.eclipse.jetty.util.thread.QueuedThreadPool$Runner.run(QueuedThreadPool.java:1034)\n",
       "\tat java.base/java.lang.Thread.run(Thread.java:840)"
      ]
     },
     "metadata": {
      "application/vnd.databricks.v1+output": {
       "addedWidgets": {},
       "arguments": {},
       "datasetInfos": [],
       "jupyterProps": null,
       "metadata": {
        "errorSummary": "Command skipped"
       },
       "removedWidgets": [],
       "sqlProps": null,
       "stackFrames": [
        "com.databricks.backend.common.rpc.CommandSkippedException",
        "\tat com.databricks.spark.chauffeur.SequenceExecutionState.$anonfun$cancel$3(SequenceExecutionState.scala:134)",
        "\tat com.databricks.spark.chauffeur.SequenceExecutionState.$anonfun$cancel$3$adapted(SequenceExecutionState.scala:129)",
        "\tat scala.collection.immutable.Range.foreach(Range.scala:158)",
        "\tat com.databricks.spark.chauffeur.SequenceExecutionState.cancel(SequenceExecutionState.scala:129)",
        "\tat com.databricks.spark.chauffeur.ExecContextState.cancelRunningSequence(ExecContextState.scala:715)",
        "\tat com.databricks.spark.chauffeur.ExecContextState.$anonfun$cancel$1(ExecContextState.scala:435)",
        "\tat scala.Option.getOrElse(Option.scala:189)",
        "\tat com.databricks.spark.chauffeur.ExecContextState.cancel(ExecContextState.scala:435)",
        "\tat com.databricks.spark.chauffeur.ExecutionContextManagerV1.cancelExecution(ExecutionContextManagerV1.scala:466)",
        "\tat com.databricks.spark.chauffeur.ChauffeurState.$anonfun$process$1(ChauffeurState.scala:757)",
        "\tat com.databricks.logging.UsageLogging.$anonfun$recordOperation$1(UsageLogging.scala:508)",
        "\tat com.databricks.logging.UsageLogging.executeThunkAndCaptureResultTags$1(UsageLogging.scala:613)",
        "\tat com.databricks.logging.UsageLogging.$anonfun$recordOperationWithResultTags$4(UsageLogging.scala:636)",
        "\tat com.databricks.logging.AttributionContextTracing.$anonfun$withAttributionContext$1(AttributionContextTracing.scala:49)",
        "\tat com.databricks.logging.AttributionContext$.$anonfun$withValue$1(AttributionContext.scala:293)",
        "\tat scala.util.DynamicVariable.withValue(DynamicVariable.scala:62)",
        "\tat com.databricks.logging.AttributionContext$.withValue(AttributionContext.scala:289)",
        "\tat com.databricks.logging.AttributionContextTracing.withAttributionContext(AttributionContextTracing.scala:47)",
        "\tat com.databricks.logging.AttributionContextTracing.withAttributionContext$(AttributionContextTracing.scala:44)",
        "\tat com.databricks.spark.chauffeur.ChauffeurState.withAttributionContext(ChauffeurState.scala:83)",
        "\tat com.databricks.logging.AttributionContextTracing.withAttributionTags(AttributionContextTracing.scala:96)",
        "\tat com.databricks.logging.AttributionContextTracing.withAttributionTags$(AttributionContextTracing.scala:77)",
        "\tat com.databricks.spark.chauffeur.ChauffeurState.withAttributionTags(ChauffeurState.scala:83)",
        "\tat com.databricks.logging.UsageLogging.recordOperationWithResultTags(UsageLogging.scala:608)",
        "\tat com.databricks.logging.UsageLogging.recordOperationWithResultTags$(UsageLogging.scala:517)",
        "\tat com.databricks.spark.chauffeur.ChauffeurState.recordOperationWithResultTags(ChauffeurState.scala:83)",
        "\tat com.databricks.logging.UsageLogging.recordOperation(UsageLogging.scala:509)",
        "\tat com.databricks.logging.UsageLogging.recordOperation$(UsageLogging.scala:475)",
        "\tat com.databricks.spark.chauffeur.ChauffeurState.recordOperation(ChauffeurState.scala:83)",
        "\tat com.databricks.spark.chauffeur.ChauffeurState.process(ChauffeurState.scala:735)",
        "\tat com.databricks.spark.chauffeur.Chauffeur$$anon$1$$anonfun$receive$1.handleDriverRequest$1(Chauffeur.scala:903)",
        "\tat com.databricks.spark.chauffeur.Chauffeur$$anon$1$$anonfun$receive$1.$anonfun$applyOrElse$4(Chauffeur.scala:929)",
        "\tat com.databricks.logging.UsageLogging.executeThunkAndCaptureResultTags$1(UsageLogging.scala:613)",
        "\tat com.databricks.logging.UsageLogging.$anonfun$recordOperationWithResultTags$4(UsageLogging.scala:636)",
        "\tat com.databricks.logging.AttributionContextTracing.$anonfun$withAttributionContext$1(AttributionContextTracing.scala:49)",
        "\tat com.databricks.logging.AttributionContext$.$anonfun$withValue$1(AttributionContext.scala:293)",
        "\tat scala.util.DynamicVariable.withValue(DynamicVariable.scala:62)",
        "\tat com.databricks.logging.AttributionContext$.withValue(AttributionContext.scala:289)",
        "\tat com.databricks.logging.AttributionContextTracing.withAttributionContext(AttributionContextTracing.scala:47)",
        "\tat com.databricks.logging.AttributionContextTracing.withAttributionContext$(AttributionContextTracing.scala:44)",
        "\tat com.databricks.rpc.ServerBackend.withAttributionContext(ServerBackend.scala:22)",
        "\tat com.databricks.logging.AttributionContextTracing.withAttributionTags(AttributionContextTracing.scala:96)",
        "\tat com.databricks.logging.AttributionContextTracing.withAttributionTags$(AttributionContextTracing.scala:77)",
        "\tat com.databricks.rpc.ServerBackend.withAttributionTags(ServerBackend.scala:22)",
        "\tat com.databricks.logging.UsageLogging.recordOperationWithResultTags(UsageLogging.scala:608)",
        "\tat com.databricks.logging.UsageLogging.recordOperationWithResultTags$(UsageLogging.scala:517)",
        "\tat com.databricks.rpc.ServerBackend.recordOperationWithResultTags(ServerBackend.scala:22)",
        "\tat com.databricks.spark.chauffeur.Chauffeur$$anon$1$$anonfun$receive$1.handleDriverRequestWithUsageLogging$1(Chauffeur.scala:928)",
        "\tat com.databricks.spark.chauffeur.Chauffeur$$anon$1$$anonfun$receive$1.applyOrElse(Chauffeur.scala:983)",
        "\tat com.databricks.spark.chauffeur.Chauffeur$$anon$1$$anonfun$receive$1.applyOrElse(Chauffeur.scala:775)",
        "\tat com.databricks.rpc.ServerBackend.$anonfun$internalReceive0$2(ServerBackend.scala:174)",
        "\tat com.databricks.rpc.ServerBackend$$anonfun$commonReceive$1.applyOrElse(ServerBackend.scala:200)",
        "\tat com.databricks.rpc.ServerBackend$$anonfun$commonReceive$1.applyOrElse(ServerBackend.scala:200)",
        "\tat com.databricks.rpc.ServerBackend.internalReceive0(ServerBackend.scala:171)",
        "\tat com.databricks.rpc.ServerBackend.$anonfun$internalReceive$1(ServerBackend.scala:147)",
        "\tat com.databricks.logging.UsageLogging.$anonfun$recordOperation$1(UsageLogging.scala:508)",
        "\tat com.databricks.logging.UsageLogging.executeThunkAndCaptureResultTags$1(UsageLogging.scala:613)",
        "\tat com.databricks.logging.UsageLogging.$anonfun$recordOperationWithResultTags$4(UsageLogging.scala:636)",
        "\tat com.databricks.logging.AttributionContextTracing.$anonfun$withAttributionContext$1(AttributionContextTracing.scala:49)",
        "\tat com.databricks.logging.AttributionContext$.$anonfun$withValue$1(AttributionContext.scala:293)",
        "\tat scala.util.DynamicVariable.withValue(DynamicVariable.scala:62)",
        "\tat com.databricks.logging.AttributionContext$.withValue(AttributionContext.scala:289)",
        "\tat com.databricks.logging.AttributionContextTracing.withAttributionContext(AttributionContextTracing.scala:47)",
        "\tat com.databricks.logging.AttributionContextTracing.withAttributionContext$(AttributionContextTracing.scala:44)",
        "\tat com.databricks.rpc.ServerBackend.withAttributionContext(ServerBackend.scala:22)",
        "\tat com.databricks.logging.AttributionContextTracing.withAttributionTags(AttributionContextTracing.scala:96)",
        "\tat com.databricks.logging.AttributionContextTracing.withAttributionTags$(AttributionContextTracing.scala:77)",
        "\tat com.databricks.rpc.ServerBackend.withAttributionTags(ServerBackend.scala:22)",
        "\tat com.databricks.logging.UsageLogging.recordOperationWithResultTags(UsageLogging.scala:608)",
        "\tat com.databricks.logging.UsageLogging.recordOperationWithResultTags$(UsageLogging.scala:517)",
        "\tat com.databricks.rpc.ServerBackend.recordOperationWithResultTags(ServerBackend.scala:22)",
        "\tat com.databricks.logging.UsageLogging.recordOperation(UsageLogging.scala:509)",
        "\tat com.databricks.logging.UsageLogging.recordOperation$(UsageLogging.scala:475)",
        "\tat com.databricks.rpc.ServerBackend.recordOperation(ServerBackend.scala:22)",
        "\tat com.databricks.rpc.ServerBackend.internalReceive(ServerBackend.scala:146)",
        "\tat com.databricks.rpc.JettyServer$RequestManager.handleRPC(JettyServer.scala:1037)",
        "\tat com.databricks.rpc.JettyServer$RequestManager.handleRequestAndRespond(JettyServer.scala:957)",
        "\tat com.databricks.rpc.JettyServer$RequestManager.$anonfun$handleHttp$6(JettyServer.scala:552)",
        "\tat com.databricks.rpc.JettyServer$RequestManager.$anonfun$handleHttp$6$adapted(JettyServer.scala:522)",
        "\tat com.databricks.logging.activity.ActivityContextFactory$.$anonfun$withActivityInternal$12(ActivityContextFactory.scala:806)",
        "\tat com.databricks.logging.AttributionContextTracing.$anonfun$withAttributionContext$1(AttributionContextTracing.scala:49)",
        "\tat com.databricks.logging.AttributionContext$.$anonfun$withValue$1(AttributionContext.scala:293)",
        "\tat scala.util.DynamicVariable.withValue(DynamicVariable.scala:62)",
        "\tat com.databricks.logging.AttributionContext$.withValue(AttributionContext.scala:289)",
        "\tat com.databricks.logging.AttributionContextTracing.withAttributionContext(AttributionContextTracing.scala:47)",
        "\tat com.databricks.logging.AttributionContextTracing.withAttributionContext$(AttributionContextTracing.scala:44)",
        "\tat com.databricks.logging.activity.ActivityContextFactory$.withAttributionContext(ActivityContextFactory.scala:52)",
        "\tat com.databricks.logging.activity.ActivityContextFactory$.$anonfun$withActivityInternal$2(ActivityContextFactory.scala:806)",
        "\tat com.databricks.context.integrity.IntegrityCheckContext$ThreadLocalStorage$.withValue(IntegrityCheckContext.scala:73)",
        "\tat com.databricks.logging.activity.ActivityContextFactory$.withActivityInternal(ActivityContextFactory.scala:769)",
        "\tat com.databricks.logging.activity.ActivityContextFactory$.withActivityInternal(ActivityContextFactory.scala:751)",
        "\tat com.databricks.logging.activity.ActivityContextFactory$.$anonfun$withServiceRequestActivity$15(ActivityContextFactory.scala:283)",
        "\tat com.databricks.logging.AttributionContextTracing.$anonfun$withAttributionContext$1(AttributionContextTracing.scala:49)",
        "\tat com.databricks.logging.AttributionContext$.$anonfun$withValue$1(AttributionContext.scala:293)",
        "\tat scala.util.DynamicVariable.withValue(DynamicVariable.scala:62)",
        "\tat com.databricks.logging.AttributionContext$.withValue(AttributionContext.scala:289)",
        "\tat com.databricks.logging.AttributionContextTracing.withAttributionContext(AttributionContextTracing.scala:47)",
        "\tat com.databricks.logging.AttributionContextTracing.withAttributionContext$(AttributionContextTracing.scala:44)",
        "\tat com.databricks.logging.activity.ActivityContextFactory$.withAttributionContext(ActivityContextFactory.scala:52)",
        "\tat com.databricks.logging.activity.ActivityContextFactory$.withServiceRequestActivity(ActivityContextFactory.scala:283)",
        "\tat com.databricks.rpc.JettyServer$RequestManager.handleHttp(JettyServer.scala:522)",
        "\tat com.databricks.rpc.JettyServer$RequestManager.doPost(JettyServer.scala:415)",
        "\tat javax.servlet.http.HttpServlet.service(HttpServlet.java:665)",
        "\tat com.databricks.rpc.HttpServletWithPatch.service(HttpServletWithPatch.scala:33)",
        "\tat javax.servlet.http.HttpServlet.service(HttpServlet.java:750)",
        "\tat org.eclipse.jetty.servlet.ServletHolder.handle(ServletHolder.java:799)",
        "\tat org.eclipse.jetty.servlet.ServletHandler.doHandle(ServletHandler.java:554)",
        "\tat org.eclipse.jetty.server.handler.ScopedHandler.nextScope(ScopedHandler.java:190)",
        "\tat org.eclipse.jetty.servlet.ServletHandler.doScope(ServletHandler.java:505)",
        "\tat org.eclipse.jetty.server.handler.ScopedHandler.handle(ScopedHandler.java:141)",
        "\tat org.eclipse.jetty.server.handler.HandlerWrapper.handle(HandlerWrapper.java:127)",
        "\tat org.eclipse.jetty.server.Server.handle(Server.java:516)",
        "\tat org.eclipse.jetty.server.HttpChannel.lambda$handle$1(HttpChannel.java:487)",
        "\tat org.eclipse.jetty.server.HttpChannel.dispatch(HttpChannel.java:732)",
        "\tat org.eclipse.jetty.server.HttpChannel.handle(HttpChannel.java:479)",
        "\tat org.eclipse.jetty.server.HttpConnection.onFillable(HttpConnection.java:277)",
        "\tat org.eclipse.jetty.io.AbstractConnection$ReadCallback.succeeded(AbstractConnection.java:311)",
        "\tat org.eclipse.jetty.io.FillInterest.fillable(FillInterest.java:105)",
        "\tat org.eclipse.jetty.io.ssl.SslConnection$DecryptedEndPoint.onFillable(SslConnection.java:555)",
        "\tat org.eclipse.jetty.io.ssl.SslConnection.onFillable(SslConnection.java:410)",
        "\tat org.eclipse.jetty.io.ssl.SslConnection$2.succeeded(SslConnection.java:164)",
        "\tat org.eclipse.jetty.io.FillInterest.fillable(FillInterest.java:105)",
        "\tat org.eclipse.jetty.io.ChannelEndPoint$1.run(ChannelEndPoint.java:104)",
        "\tat org.eclipse.jetty.util.thread.strategy.EatWhatYouKill.runTask(EatWhatYouKill.java:338)",
        "\tat org.eclipse.jetty.util.thread.strategy.EatWhatYouKill.doProduce(EatWhatYouKill.java:315)",
        "\tat org.eclipse.jetty.util.thread.strategy.EatWhatYouKill.tryProduce(EatWhatYouKill.java:173)",
        "\tat org.eclipse.jetty.util.thread.strategy.EatWhatYouKill.run(EatWhatYouKill.java:131)",
        "\tat org.eclipse.jetty.util.thread.ReservedThreadExecutor$ReservedThread.run(ReservedThreadExecutor.java:409)",
        "\tat com.databricks.rpc.InstrumentedQueuedThreadPool$$anon$1.$anonfun$run$2(InstrumentedQueuedThreadPool.scala:110)",
        "\tat scala.runtime.java8.JFunction0$mcV$sp.apply(JFunction0$mcV$sp.java:23)",
        "\tat com.databricks.logging.AttributionContextTracing.$anonfun$withAttributionContext$1(AttributionContextTracing.scala:49)",
        "\tat com.databricks.logging.AttributionContext$.$anonfun$withValue$1(AttributionContext.scala:293)",
        "\tat scala.util.DynamicVariable.withValue(DynamicVariable.scala:62)",
        "\tat com.databricks.logging.AttributionContext$.withValue(AttributionContext.scala:289)",
        "\tat com.databricks.logging.AttributionContextTracing.withAttributionContext(AttributionContextTracing.scala:47)",
        "\tat com.databricks.logging.AttributionContextTracing.withAttributionContext$(AttributionContextTracing.scala:44)",
        "\tat com.databricks.rpc.InstrumentedQueuedThreadPool.withAttributionContext(InstrumentedQueuedThreadPool.scala:45)",
        "\tat com.databricks.rpc.InstrumentedQueuedThreadPool$$anon$1.$anonfun$run$1(InstrumentedQueuedThreadPool.scala:110)",
        "\tat scala.runtime.java8.JFunction0$mcV$sp.apply(JFunction0$mcV$sp.java:23)",
        "\tat com.databricks.instrumentation.QueuedThreadPoolInstrumenter.trackActiveThreads(QueuedThreadPoolInstrumenter.scala:132)",
        "\tat com.databricks.instrumentation.QueuedThreadPoolInstrumenter.trackActiveThreads$(QueuedThreadPoolInstrumenter.scala:129)",
        "\tat com.databricks.rpc.InstrumentedQueuedThreadPool.trackActiveThreads(InstrumentedQueuedThreadPool.scala:45)",
        "\tat com.databricks.rpc.InstrumentedQueuedThreadPool$$anon$1.run(InstrumentedQueuedThreadPool.scala:92)",
        "\tat org.eclipse.jetty.util.thread.QueuedThreadPool.runJob(QueuedThreadPool.java:883)",
        "\tat org.eclipse.jetty.util.thread.QueuedThreadPool$Runner.run(QueuedThreadPool.java:1034)",
        "\tat java.base/java.lang.Thread.run(Thread.java:840)"
       ],
       "type": "baseError"
      }
     },
     "output_type": "display_data"
    }
   ],
   "source": [
    "# Extract and Label Beta Coefficients\n",
    "print(\"Beta Coefficients:\")\n",
    "beta_mean = trace.posterior[\"beta\"].mean(dim=(\"chain\", \"draw\"))\n",
    "beta_std = trace.posterior[\"beta\"].std(dim=(\"chain\", \"draw\"))\n",
    "\n",
    "# Map subchannel indices back to subchannel names\n",
    "subchannel_mapping = {v: k for k, v in subchannel_to_idx.items()}\n",
    "\n",
    "# Print labeled beta coefficients\n",
    "for sub_idx, (mean, std) in enumerate(zip(beta_mean.values, beta_std.values)):\n",
    "    subchannel_name = subchannel_mapping[sub_idx]\n",
    "    print(f\"Subchannel '{subchannel_name}': Mean = {mean:.3f}, Std = {std:.3f}\")\n",
    "\n",
    "# Save labeled beta coefficients to CSV\n",
    "labeled_beta = pd.DataFrame({\n",
    "    \"Subchannel\": [subchannel_mapping[i] for i in range(len(beta_mean))],\n",
    "    \"Beta_Mean\": beta_mean.values,\n",
    "    \"Beta_Std\": beta_std.values\n",
    "})\n",
    "\n",
    "display(labeled_beta)"
   ]
  }
 ],
 "metadata": {
  "application/vnd.databricks.v1+notebook": {
   "computePreferences": null,
   "dashboards": [],
   "environmentMetadata": {
    "base_environment": "",
    "environment_version": "2"
   },
   "inputWidgetPreferences": null,
   "language": "python",
   "notebookMetadata": {
    "pythonIndentUnit": 2
   },
   "notebookName": "Multilevel Example - Channels and Subchannels",
   "widgets": {}
  },
  "language_info": {
   "name": "python"
  }
 },
 "nbformat": 4,
 "nbformat_minor": 0
}