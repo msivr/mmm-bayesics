{
 "cells": [
  {
   "cell_type": "markdown",
   "metadata": {
    "id": "J_ccrCpFyQ0A"
   },
   "source": [
    "(mmm_budget_allocation_example)=\n",
    "# Budget Allocation with PyMC-Marketing\n",
    "\n",
    "The purpose of this notebook is to explore the recently included function in the PyMC-Marketing library that focuses on budget allocation. This function's underpinnings are based on the methodologies inspired by Bolt work in his article, [\"Budgeting with Bayesian Models\"](https://bolt.eu/en/blog/budgeting-with-bayesian-models-pymc-marketing/).\n",
    "\n",
    "## Prerequisite Knowledge\n",
    "The notebook assumes the reader has knowledge of the essential functionalities of PyMC-Marketing. If one is unfamiliar, the [\"MMM Example Notebook\"](https://www.pymc-marketing.io/en/stable/notebooks/mmm/mmm_example.html) serves as an excellent starting point, offering a comprehensive introduction to media mix models in this context.\n",
    "\n",
    "## Context\n",
    "The emphasis of this notebook is on enhancing marketing budgets. Contrarily to broader issues addressed in prior notebooks, our primary aim here is to unravel specialized knowledge on budget allocation tactics using the functionality.\n",
    "\n",
    "## Objectives\n",
    "To elucidate more efficient ways of resource allocation across diverse media channels.\n",
    "To deliver data-driven, actionable insights for budgeting decisions.\n",
    "\n",
    "## Introducing the budget allocator\n",
    "This notebook instigates an examination of the function within the PyMC-Marketing library, which addresses these challenges using Bayesian models. The function intends to provide:\n",
    "\n",
    "1. Quantitative measures of the effectiveness of different media channels.\n",
    "2. Probabilistic ROI estimates under a range of budget scenarios.\n",
    "\n",
    "## What to Anticipate\n",
    "Upon completing this notebook, readers should get a comprehensive understanding of the budget allocation function. They will then be equipped to incorporate this analytic tool into their marketing analytics routines for data-driven decision-making.\n",
    "\n",
    "## Installing PyMC-Marketing\n",
    "Before delving into the specifics of budget allocation, the initial step is to install the PyMC-Marketing library and ascertain its version. This step will confirm support for the budget allocation function. The following pip command can be run on your Jupyter Notebook:"
   ]
  },
  {
   "cell_type": "markdown",
   "metadata": {
    "id": "vWMGdRlmyjcI"
   },
   "source": [
    "## Basic Setup\n",
    "Like previous notebooks revolving around PyMC-Marketing, this relies on a specific library set. Here are the requisite imports necessary for executing the provided code snippets subsequently."
   ]
  },
  {
   "cell_type": "code",
   "execution_count": null,
   "metadata": {
    "ExecuteTime": {
     "end_time": "2025-01-15T14:30:44.969426Z",
     "start_time": "2025-01-15T14:30:37.851150Z"
    },
    "id": "28_D6j7jjQTy"
   },
   "outputs": [],
   "source": [
    "import warnings\n",
    "\n",
    "import arviz as az\n",
    "import matplotlib.pyplot as plt\n",
    "import numpy as np\n",
    "import pandas as pd\n",
    "\n",
    "from pymc_marketing.mmm import MMM\n",
    "\n",
    "warnings.filterwarnings(\"ignore\")\n",
    "\n",
    "az.style.use(\"arviz-darkgrid\")\n",
    "plt.rcParams[\"figure.figsize\"] = [12, 7]\n",
    "plt.rcParams[\"figure.dpi\"] = 100\n",
    "\n",
    "%load_ext autoreload\n",
    "%autoreload 2\n",
    "%config InlineBackend.figure_format = \"retina\""
   ]
  },
  {
   "cell_type": "markdown",
   "metadata": {
    "id": "9AlvbqZ6yqhs"
   },
   "source": [
    "These imports and configurations form the fundamental setup necessary for the entire span of this notebook.\n",
    "\n",
    "The expectation is that a model has already been trained using the functionalities provided in prior versions of the PyMC-Marketing library. Thus, the data generation and training processes will be replicated in a different notebook. Those unfamiliar with these procedures are advised to refer to the [\"MMM Example Notebook.\"](https://www.pymc-marketing.io/en/stable/notebooks/mmm/mmm_example.html)\n",
    "\n",
    "### Employing ModelBuilder: A Feature in PyMC-Marketing\n",
    "The ModelBuilder feature, introduced in version 0.2.0 of PyMC-Marketing, empowers users to easily save and load pre-trained models. The capability to load a pre-existing model is especially advantageous for accelerating analyses, mainly when dealing with expansive data sets or intricate models.\n",
    "\n",
    "### Saving Model\n",
    "Once the model has been trained, it is easy to save for later use. An example of the \".save\" method is demonstrated below to store the model at a designated [location](https://github.com/pymc-labs/pymc-marketing/tree/main/data).\n",
    "\n",
    "## Loading a Pre-Trained Model\n",
    "To utilize a saved model, load it into a new instance of the MMM class using the load method below."
   ]
  },
  {
   "cell_type": "code",
   "execution_count": null,
   "metadata": {
    "ExecuteTime": {
     "end_time": "2025-01-15T14:30:46.369670Z",
     "start_time": "2025-01-15T14:30:44.996905Z"
    },
    "id": "6eM1cTtMys1O"
   },
   "outputs": [],
   "source": [
    "mmm = MMM.load(\"model.nc\")"
   ]
  },
  {
   "cell_type": "markdown",
   "metadata": {},
   "source": [
    "For more details on the `save()` and `load()` methods, consult the [pymc-marketing documentation](https://www.pymc-marketing.io/en/stable/guide/benefits/model_deployment.html) on Model Deployment.\n",
    "\n",
    "Alternatively, load a model that has been saved to MLflow via `pymc_marketing.mlflow.log_inference_data` or has been autologged to MLflow via `pymc_marketing.mlflow.autolog(log_mmm=True)`, from the [PyMC-Marketing MLflow module](https://github.com/pymc-labs/pymc-marketing/blob/main/pymc_marketing/mlflow.py)."
   ]
  },
  {
   "cell_type": "code",
   "execution_count": null,
   "metadata": {},
   "outputs": [],
   "source": [
    "## If you have a hosted MLflow server, you will of course need to authenticate first.\n",
    "# RUN_ID = \"your_run_id\"\n",
    "# from pymc_marketing.mlflow import load_mmm\n",
    "# mmm = load_mmm(RUN_ID)\n",
    "\n",
    "# # Load the full model with the InferenceData\n",
    "# mmm = load_mmm(\n",
    "#     run_id=RUN_ID,         # The MLflow run ID from which to load the model\n",
    "#     full_model=True,       # Set to True to get the full MMM model with InferenceData\n",
    "#     keep_idata=True,       # Set to True if you want to keep the downloaded InferenceData saved locally\n",
    "# )"
   ]
  },
  {
   "cell_type": "markdown",
   "metadata": {
    "id": "X3NUoJ1bzBvK"
   },
   "source": [
    "## Problem Statement\n",
    "Before jumping into the data, let’s first define the business problem we are trying to solve.In a progressively competitive scenario, marketers are tasked with distributing a predetermined marketing budget across various channels for optimizing Return on Investment (ROI). Consider a forthcoming quarter wherein a marketing team must decide the division of its operations between two advertising channels, represented as x1 and x2. These could effectively symbolize any medium, such as TV, digital advertising, print, etc.\n",
    "\n",
    "The task lies in making decisions that invoke data, comply with factual evidence, and align with business logic. For instance, how can one incorporate prior information like budget restrictions, platform trends, constraints, or even distinctive features of each channel into the decision-making process?\n",
    "\n",
    "## Introducing Budget Allocation Function\n",
    "The updated budget allocation function in PyMC-Marketing aims to tackle this issue by offering a Bayesian framework for optimal allocation. This enables marketers to:\n",
    "\n",
    "* Integrate the outcomes of Media Mix Modeling (MMM), quantifying each channel's effectiveness in metrics like ROI, incremental sales, etc.\n",
    "* Merge this empirical data with prior business knowledge and logic for making holistic and robust decisions.\n",
    "\n",
    "By utilizing this function, marketers can guarantee that the budget spread not only obeys the mathematical rigor furnished by the MMM outcomes but also incorporates business-specific factors, thereby achieving a balanced and optimized budget plan.\n",
    "\n",
    "## Getting started\n",
    "Media Mix Modeling (MMM) acts as a dependable method to estimate the contribution of each channel (e.g., x1, x2) to a target variable like sales or any variable. The function `plot_direct_contribution_curves()` allows for visualization of this direct channel impact. However, it is crucial to remember that this only unveils the \"observable space\" for values of X (spend) and Y (contribution)."
   ]
  },
  {
   "cell_type": "code",
   "execution_count": null,
   "metadata": {
    "colab": {
     "base_uri": "https://localhost:8080/",
     "height": 828
    },
    "id": "_QF9nHcqyycl",
    "outputId": "af09b2a1-1c30-429e-ab1f-a4af0c163434"
   },
   "outputs": [],
   "source": [
    "response_curve_fig = mmm.plot_direct_contribution_curves();"
   ]
  },
  {
   "cell_type": "markdown",
   "metadata": {
    "id": "iG_KsGWPzsrp"
   },
   "source": [
    "The observable space only encompasses our data points and does not illustrate what transpires beyond those points. As a result, it is not assured that the maximum contribution point for each channel lies within this observable range.\n",
    "\n",
    "By using the `xlim_max` parameter, we can predict the shape of the model fitting curve for the amount spent that was not previously observed."
   ]
  },
  {
   "cell_type": "code",
   "execution_count": null,
   "metadata": {
    "colab": {
     "base_uri": "https://localhost:8080/",
     "height": 828
    },
    "id": "47RuJ_epzm2U",
    "outputId": "5df16f8a-ef66-447b-8e7d-a093ca7c1504"
   },
   "outputs": [],
   "source": [
    "mmm.plot_direct_contribution_curves(show_fit=True, xlim_max=1.5);"
   ]
  },
  {
   "cell_type": "markdown",
   "metadata": {},
   "source": [
    "The fit of the model comes from the saturation function selected at the time of training. You can verify this by directly accessing the model method and plotting the class name."
   ]
  },
  {
   "cell_type": "code",
   "execution_count": null,
   "metadata": {},
   "outputs": [],
   "source": [
    "print(f\"Model was train using the {mmm.saturation.__class__.__name__} function\")\n",
    "print(f\"and the {mmm.adstock.__class__.__name__} function\")"
   ]
  },
  {
   "cell_type": "markdown",
   "metadata": {
    "id": "--4LSceFihbn"
   },
   "source": [
    "Within PyMC-Marketing we have different saturation functions, you can observe all in the [transformer module](https://www.pymc-marketing.io/en/stable/api/generated/pymc_marketing.mmm.transformers.html).\n",
    "\n",
    "Let's understand a few saturation functions with a few examples!\n",
    "\n",
    "## Understanding Saturation Functions: Sigmoid and Michaelis-Menten\n",
    "What do we mean by saturation functions? We assume the effect of spend on sales is not linear and saturates at some point. Two prevalent functions deployed to comprehend and estimate the saturation effects in advertising channels are the sigmoid and the Michaelis-Menten functions.\n",
    "\n",
    "### Sigmoid Function\n",
    "The sigmoid function is formulated as:\n",
    "\n",
    "$$\n",
    "\\beta \\cdot \\frac{\\exp(-\\lambda x)}{1 + \\exp(-\\lambda x)}\n",
    "$$\n",
    "\n",
    "Key Elements:\n",
    "* β (beta): Denotes the Asymptotic Maximum or Ceiling Value. It is the point that the function approaches as the input x becomes immense.\n",
    "* λ (Lambda): Influences the steepness of the curve. A more substantial value of λ renders the curve steeper, while a lesser value makes it more even-paced.\n",
    "\n",
    "### Michaelis-Menten Function\n",
    "The Michaelis-Menten function is formulated as:\n",
    "\n",
    "$$\n",
    "\\frac{\\alpha \\times x}{\\lambda + x}\n",
    "$$\n",
    "\n",
    "Key Elements:\n",
    "* α (Alpha or Vmax): It represents the maximum contribution (y) a channel can make, also recognized as the plateau point.\n",
    "* λ (k): Denotes the elbow on the function in x, signifying the moment when the curve adjusts its direction.\n",
    "\n",
    "## Which Function to Use?\n",
    "The preference between the sigmoid and Michaelis-Menten functions ought to be steered by the data's goodness of fit. But it really comes down to your assumptions about where the peak might be and the speed at which it saturates the curve.\n",
    "\n",
    "> **Tip**: When you're choosing a saturation function, it's helpful to consider the data you already have. While saturation functions may have different parameterizations, they all have the same effect. If you already know about any relationship between spending and response, it's a good idea to pick a function with the same parameter values. This will help you understand and analyze its operation and outcomes better, which is essential within the Bayesian framework.\n",
    "\n",
    "Once these parameters are obtained, you can visualize it using the `arviz.summary` function (each parameter has the prefix `saturation` or `adstock` respectively) and, if desired, you can recreate the curves for each channel independently based on them. More crucially, these parameter values are indispensable when using the `budget_allocator` function, which leverages this information to optimize your marketing budget across distinct channels. This section is fundamental to budget optimization."
   ]
  },
  {
   "cell_type": "code",
   "execution_count": null,
   "metadata": {},
   "outputs": [],
   "source": [
    "az.summary(\n",
    "    data=mmm.fit_result,\n",
    "    var_names=[\n",
    "        \"saturation_beta\",\n",
    "        \"saturation_lam\",\n",
    "        \"adstock_alpha\",\n",
    "    ],\n",
    ")"
   ]
  },
  {
   "cell_type": "markdown",
   "metadata": {
    "id": "GEGsiGlf142o"
   },
   "source": [
    "## Example Use-Cases\n",
    "The `budget_allocator` function within PyMC-Marketing boasts a myriad of applications that can solve various business predicaments. Here, we present five critical use cases that exemplify its utility in real-world marketing scenarios.\n",
    "\n",
    "### What are we optimizing?\n",
    "Before jumping into the examples, we need to understand the basis of our optimizer.\n",
    "\n",
    "We aim to optimize the allocation of budgets across multiple channels to maximize the overall contribution to key performance indicators (KPIs), such as sales or conversions. Each channel has its own sigmoid or michaelis-menten curve, representing the relationship between the amount spent and the resultant performance.\n",
    "\n",
    "These curves vary in characteristics: some channels saturate quickly, meaning that additional spending yields diminishing returns, while others may offer more linear growth in contribution with increased spending.\n",
    "\n",
    "To solve this optimization problem, we employ the Sequential Least Squares Quadratic Programming ([SLSQP](https://docs.scipy.org/doc/scipy/reference/optimize.minimize-slsqp.html#optimize-minimize-slsqp)) algorithm, a gradient-based optimization technique. SLSQP is well-suited for this application as it allows for the imposition of both equality and inequality constraints, ensuring that the budget allocation adheres to business rules or limitations.\n",
    "\n",
    "The algorithm works by iteratively approximating the objective function and constraints using quadratic functions and solving the resulting sub-problems to find a local minimum. This enables us to effectively navigate the multidimensional space of budget allocations to find the most efficient distribution of resources.\n",
    "\n",
    "The optimizer aims to maximize the total contribution from all channels while adhering to the following constraints:\n",
    "\n",
    "1. Budget Limitations: The total spending across all channels should not exceed the overall marketing budget.\n",
    "2. Channel-specific Constraints: Some channels may have minimum or maximum spending limits.\n",
    "\n",
    "By leveraging the SLSQP algorithm, we can optimize the multi-channel budget allocation in a rigorous, mathematically sound manner, ensuring that we get the highest possible return on investment.\n",
    "\n",
    "### Maximizing Contribution\n",
    "Assume you're managing the marketing for a retail company with a substantial budget to allocate for advertising across multiple channels. Suppose you're already apportioning funds to channels x1 and x2. Still, you're contemplating ways to optimize the forthcoming quarter's outlay to maximize the overall contribution.\n",
    "\n",
    "Without, you might have considered scattering your money linearly without an MMM model - equal investments in each channel. However, you wish to explore better alternatives now that you possess an MMM model. Given that you lack prior knowledge, you impose the same restrictions on both channels. They must each expend a minimum of 1 million euros and no more than 5 million, equating to your total budget."
   ]
  },
  {
   "cell_type": "code",
   "execution_count": null,
   "metadata": {
    "id": "iAtdq9uU10xr"
   },
   "outputs": [],
   "source": [
    "from pymc_marketing.mmm.budget_optimizer import optimizer_xarray_builder\n",
    "\n",
    "time_unit_budget = 5  # Imagine is 5K or 5M\n",
    "campaign_period = 8  # Imagine 8 weeks for this case\n",
    "print(\n",
    "    f\"Total budget for the {campaign_period} Weeks: {time_unit_budget * campaign_period}M\"\n",
    ")\n",
    "# Define your channels\n",
    "channels = [\"x1\", \"x2\"]\n",
    "# The initial split per channel\n",
    "budget_per_channel = time_unit_budget / len(channels)\n",
    "# Initial budget per channel as dictionary.\n",
    "initial_budget = optimizer_xarray_builder(\n",
    "    np.array([budget_per_channel, budget_per_channel]),\n",
    "    channel=[\"x1\", \"x2\"],\n",
    ")  # Using this function we can create the iniall allocation strategy for each channel\n",
    "\n",
    "# bounds for each channel\n",
    "min_budget, max_budget = 1, 5\n",
    "budget_bounds = optimizer_xarray_builder(\n",
    "    np.array([[min_budget, max_budget], [min_budget, max_budget]]),\n",
    "    channel=[\"x1\", \"x2\"],\n",
    "    bound=[\"lower\", \"upper\"],\n",
    ")  # Using this function we can create a budget bounds for each channel as well"
   ]
  },
  {
   "cell_type": "markdown",
   "metadata": {
    "id": "nd5hRZu92MRi"
   },
   "source": [
    "We can use our function and see the results with this information saved."
   ]
  },
  {
   "cell_type": "code",
   "execution_count": null,
   "metadata": {
    "colab": {
     "base_uri": "https://localhost:8080/",
     "height": 143
    },
    "id": "g6BD5BhY2Dcm",
    "outputId": "f546dc05-ef6d-4af2-d210-28c271d928eb"
   },
   "outputs": [],
   "source": [
    "model_granularity = \"weekly\"\n",
    "allocation_strategy, optimization_result = mmm.optimize_budget(\n",
    "    budget=time_unit_budget,\n",
    "    num_periods=campaign_period,\n",
    "    budget_bounds=None,\n",
    ")\n",
    "\n",
    "response = mmm.sample_response_distribution(\n",
    "    # allocation_strategy can be a dict or an xarray.DataArray\n",
    "    # (e.g. optimizer_xarray_builder(value=[1, 2], channel=[\"x1\", \"x2\"]))\n",
    "    allocation_strategy=allocation_strategy,\n",
    "    time_granularity=model_granularity,\n",
    "    num_periods=campaign_period,\n",
    "    noise_level=0.01,\n",
    ")"
   ]
  },
  {
   "cell_type": "code",
   "execution_count": null,
   "metadata": {},
   "outputs": [],
   "source": [
    "print(\"\\n=== Budget Allocation Summary ===\\n\")\n",
    "for channel, budget in response.allocation.to_dataframe().iterrows():\n",
    "    print(f\"Channel {channel:>2}: {budget['allocation']:>8.2f}M\")\n",
    "print(\"\\n\" + \"-\" * 30)\n",
    "print(f\"Total Budget: {sum(response.allocation.to_numpy()):>8.2f}M\")\n",
    "print(\"-\" * 30)"
   ]
  },
  {
   "cell_type": "code",
   "execution_count": null,
   "metadata": {},
   "outputs": [],
   "source": [
    "fig, ax = mmm.plot_budget_allocation(samples=response, figsize=(12, 8))\n",
    "ax.set_title(\"Response vs spent per channel\", fontsize=18, fontweight=\"bold\");"
   ]
  },
  {
   "cell_type": "code",
   "execution_count": null,
   "metadata": {},
   "outputs": [],
   "source": [
    "fig = mmm.plot_allocated_contribution_by_channel(samples=response)\n",
    "fig.suptitle(\n",
    "    \"Estimated Contribution per channel over time\", fontsize=18, fontweight=\"bold\"\n",
    ");"
   ]
  },
  {
   "cell_type": "code",
   "execution_count": null,
   "metadata": {},
   "outputs": [],
   "source": [
    "fig, ax = plt.subplots(figsize=(12, 6))\n",
    "\n",
    "response[\"y\"].mean(dim=\"sample\").plot(ax=ax)\n",
    "ax.fill_between(\n",
    "    x=response.y.date.values,\n",
    "    y1=response.y.quantile(0.025, dim=\"sample\"),\n",
    "    y2=response.y.quantile(0.95, dim=\"sample\"),\n",
    "    alpha=0.1,\n",
    ")\n",
    "ax.set_title(\"Optimal total marketing contribution\", fontsize=18, fontweight=\"bold\");"
   ]
  },
  {
   "cell_type": "markdown",
   "metadata": {
    "id": "RbzCfU3x2RYs"
   },
   "source": [
    "These results are expected based on the estimates from the curve and our estimated average contribution from the posterior distribution.\n",
    "\n",
    "However, based on our main assumptions, how can we ensure this result is optimal? How can we compare this outcome to what we would initially have if we followed our first setup?"
   ]
  },
  {
   "cell_type": "code",
   "execution_count": null,
   "metadata": {},
   "outputs": [],
   "source": [
    "initial_budget.sel(channel=\"x1\").item()"
   ]
  },
  {
   "cell_type": "code",
   "execution_count": null,
   "metadata": {
    "id": "mnlhEUUw2LqS"
   },
   "outputs": [],
   "source": [
    "last_date = mmm.X[\"date_week\"].max()\n",
    "\n",
    "# New dates starting from last in dataset\n",
    "n_new = 8\n",
    "new_dates = pd.date_range(start=last_date, periods=1 + n_new, freq=\"W-MON\")[1:]\n",
    "\n",
    "initial_budget_scenario = pd.DataFrame(\n",
    "    {\n",
    "        \"date_week\": new_dates,\n",
    "    }\n",
    ")\n",
    "\n",
    "# Same channel spends as last day\n",
    "initial_budget_scenario[\"x1\"] = initial_budget.sel(channel=\"x1\").item()\n",
    "initial_budget_scenario[\"x2\"] = initial_budget.sel(channel=\"x2\").item()\n",
    "\n",
    "# Other features\n",
    "initial_budget_scenario[\"event_1\"] = 0\n",
    "initial_budget_scenario[\"event_2\"] = 0\n",
    "\n",
    "initial_budget_scenario[\"t\"] = 0\n",
    "\n",
    "response_initial_budget = mmm.sample_posterior_predictive(\n",
    "    initial_budget_scenario, extend_idata=False\n",
    ")\n",
    "\n",
    "response_initial_budget"
   ]
  },
  {
   "cell_type": "code",
   "execution_count": null,
   "metadata": {},
   "outputs": [],
   "source": [
    "y_response_original_scale_optimize = (\n",
    "    response[\"y\"] * mmm.get_target_transformer()[\"scaler\"].scale_\n",
    ")\n",
    "\n",
    "# Plotting optimized response\n",
    "y_response_original_scale_optimize.mean(dim=\"sample\").plot(\n",
    "    label=f\"Optimized Response | Daily spent {allocation_strategy.sum():.0f}M\"\n",
    ")\n",
    "plt.fill_between(\n",
    "    x=y_response_original_scale_optimize.date.values,\n",
    "    y1=y_response_original_scale_optimize.quantile(0.025, dim=\"sample\"),\n",
    "    y2=y_response_original_scale_optimize.quantile(0.95, dim=\"sample\"),\n",
    "    alpha=0.1,\n",
    ")\n",
    "\n",
    "# Plotting initial budget response\n",
    "response_initial_budget[\"y\"].mean(dim=\"sample\").plot(\n",
    "    label=\"Initial Budget Response | Daily spent 5.00M\"\n",
    ")\n",
    "plt.fill_between(\n",
    "    x=response_initial_budget.y.date.values,\n",
    "    y1=response_initial_budget.y.quantile(0.025, dim=\"sample\"),\n",
    "    y2=response_initial_budget.y.quantile(0.95, dim=\"sample\"),\n",
    "    alpha=0.1,\n",
    ")\n",
    "\n",
    "# Adding labels, legend, and title\n",
    "plt.xlabel(\"Date\")\n",
    "plt.ylabel(\"Response\")\n",
    "plt.legend()\n",
    "plt.title(\n",
    "    \"Comparison of Optimized and Initial Budget Responses\",\n",
    "    fontsize=18,\n",
    "    fontweight=\"bold\",\n",
    ");"
   ]
  },
  {
   "cell_type": "markdown",
   "metadata": {
    "id": "aqIaFFHy28ni"
   },
   "source": [
    "This information will allow you to compare the optimization results against what could have been your initial configuration and budget distribution. While our budget distribution changes, the contribution estimate remains almost the same for this budget. Could we be spending more than needed? Furthermore, how can we identify the optimal spent amount if this situation arises?\n",
    "\n",
    "One approach to explore this could be to create various scenarios and observe how our estimated contribution fluctuates according to each scenario."
   ]
  },
  {
   "cell_type": "markdown",
   "metadata": {
    "id": "dbsTmbLZ2-x8"
   },
   "source": [
    "### Creating Budget Scenarios\n",
    "Envision the subsequent situation: You're managing marketing operations for a rapidly growing retail company. The management team has allocated a considerable advertising budget and anticipates substantial results in the next quarter. However, given the uncertainty in economic trends, you are tasked with designing a budget allocation strategy capable of accommodating various scenarios.\n",
    "\n",
    "Before the advent of a robust MMM model, your approach might have been simplistic yet naive: distribute the funds equally across the two primary channels, x1 and x2. This would result in a linear, evenly split distribution of 2.5 million euros each, given a total budget of 5 million euros.\n",
    "\n",
    "Nevertheless, with the MMM model now at your disposal, you realize a more sophisticated approach is feasible. You're eager to investigate how this budget could be optimized across multiple scenarios:\n",
    "\n",
    "1. Status Quo Scenario: What if the market stays stable? What is the best allocation?\n",
    "2. Growth Scenario: What if the market suddenly becomes more favorable? How should the extra budget be allocated?\n",
    "3. Recession Scenario: What if there is a market downturn and the budget gets cut by 40%?\n",
    "\n",
    "Given that you are treading into uncertain waters, you set certain constraints. Each channel must have a minimum spending of 1 million euros, ensuring base-level visibility. The maximum cap is ±5 million euros (depending on your scenario), respecting the total budget."
   ]
  },
  {
   "cell_type": "code",
   "execution_count": null,
   "metadata": {
    "colab": {
     "base_uri": "https://localhost:8080/",
     "height": 740
    },
    "id": "74q2NZd03SMr",
    "outputId": "485ced2a-34c4-4005-fba2-af180e42d974"
   },
   "outputs": [],
   "source": [
    "scenarios = np.array([0.6, 0.8, 1.2, 1.8])\n",
    "\n",
    "fig, axes = plt.subplots(\n",
    "    nrows=2, ncols=2, figsize=(15, 10), sharex=True, sharey=True, layout=\"constrained\"\n",
    ")\n",
    "for i, scenario in enumerate(scenarios):\n",
    "    tmp_budget = time_unit_budget * scenario\n",
    "    print(f\"Optimization for budget: {tmp_budget:.2f}M\")\n",
    "    tmp_allocation_strategy, tmp_optimization_result = mmm.optimize_budget(\n",
    "        budget=tmp_budget,\n",
    "        num_periods=campaign_period,\n",
    "        budget_bounds=budget_bounds,\n",
    "    )\n",
    "\n",
    "    tmp_response = mmm.sample_response_distribution(\n",
    "        allocation_strategy=tmp_allocation_strategy,\n",
    "        time_granularity=model_granularity,\n",
    "        num_periods=campaign_period,\n",
    "        noise_level=0.01,\n",
    "    )\n",
    "\n",
    "    row = i // 2\n",
    "    col = i % 2\n",
    "    _, ax = mmm.plot_budget_allocation(samples=tmp_response, ax=axes[row, col])\n",
    "    ax.set_title(f\"Budget Allocation for Scenario {tmp_budget:.0f}M\")\n",
    "\n",
    "fig.suptitle(\n",
    "    \"Budget Allocation for Different scenarios\", fontsize=18, fontweight=\"bold\"\n",
    ");"
   ]
  },
  {
   "cell_type": "markdown",
   "metadata": {
    "id": "N7G3lVcI3idn"
   },
   "source": [
    "The graph indicates that boosting the budget beyond an spend level greater than 3 Million induces extremely marginal changes in the potential outcome. Therefore, one can use the budget detailed in scenario three as a cap for our budget.\n",
    "\n",
    "However, is this the best method to invest our resources? So far, we have considered general constraints for each channel. However, since our curve saturates and beyond a specific point, it does not significantly elevate its contribution. Wouldn't it be crucial to incorporate these limitations?\n",
    "\n",
    "### Adding Business or Channel Constraints\n",
    "There may be instances where, despite the recommendation to invest more in a particular channel than another, it may not be feasible.\n",
    "\n",
    "Consider this: Given your current budget, you have already maxed out the number of people you can reach within a specific platform. Therefore, further spending will only increase the frequency without adding new reach. In this scenario, does it make sense to raise the budget? This is a classic example of budget limitations based on platform restrictions.\n",
    "\n",
    "In such cases, a dictionary can be created with limits for each channel, and the optimization function can be reapplied."
   ]
  },
  {
   "cell_type": "code",
   "execution_count": null,
   "metadata": {
    "colab": {
     "base_uri": "https://localhost:8080/",
     "height": 143
    },
    "id": "lhqA7s903ZoT",
    "outputId": "08b9dd7c-fb47-4638-889e-7a9686d49234"
   },
   "outputs": [],
   "source": [
    "new_budget_bounds = optimizer_xarray_builder(\n",
    "    np.array([[0, 4], [0, 3]]),\n",
    "    channel=[\"x1\", \"x2\"],\n",
    "    bound=[\"lower\", \"upper\"],\n",
    ")\n",
    "\n",
    "constrained_allocation_strategy, constrained_optimization_result = mmm.optimize_budget(\n",
    "    budget=time_unit_budget,\n",
    "    num_periods=campaign_period,\n",
    "    budget_bounds=new_budget_bounds,\n",
    ")\n",
    "\n",
    "constrained_response = mmm.sample_response_distribution(\n",
    "    allocation_strategy=constrained_allocation_strategy,\n",
    "    time_granularity=model_granularity,\n",
    "    num_periods=campaign_period,\n",
    "    noise_level=0.01,\n",
    ")"
   ]
  },
  {
   "cell_type": "code",
   "execution_count": null,
   "metadata": {},
   "outputs": [],
   "source": [
    "fig, ax = mmm.plot_budget_allocation(samples=constrained_response, figsize=(12, 8))\n",
    "ax.set_title(\"Response vs spent per channel\", fontsize=18, fontweight=\"bold\");"
   ]
  },
  {
   "cell_type": "markdown",
   "metadata": {
    "id": "xiIprHPQ3wPd"
   },
   "source": [
    "Utilizing bounds is crucial, as all saturation curves in PyMC-Marketing are asymptotic. Therefore, without a constraint on your factors, the optimizer will consistently seek to use 100% of the funds because it will always observe an increase within `y` (target).\n",
    "\n",
    "If you have yet to notice, this is why, in the previous example, the optimizer always utilized the whole budget in all scenarios. However, should you provide these limits, the optimizer can verify whether it is necessary to use your entire budget.\n",
    "\n",
    "Let us examine the subsequent plot closely!"
   ]
  },
  {
   "cell_type": "code",
   "execution_count": null,
   "metadata": {
    "colab": {
     "base_uri": "https://localhost:8080/",
     "height": 828
    },
    "id": "wwMqqJqA3umN",
    "outputId": "3130dd81-19dc-4a94-b36c-b1a871247cd3"
   },
   "outputs": [],
   "source": [
    "sigmoid_response_curve_fig = mmm.plot_direct_contribution_curves(\n",
    "    show_fit=True, xlim_max=3\n",
    ");"
   ]
  },
  {
   "cell_type": "markdown",
   "metadata": {
    "id": "vhod0OqSUcqt"
   },
   "source": [
    "Although in principle we assign a limit of 1.5 spending for each channel, we can observe that at least for x1 after spending more than 1.2, we enter the plateau effect of the curve where we get almost zero return in `y` for each unit extra of `x`.\n",
    "\n",
    "Additionally, based on the information above, a **9M** budget or a **3M** budget did not represent a big change in contribution. So let's adjust the budget as well."
   ]
  },
  {
   "cell_type": "code",
   "execution_count": null,
   "metadata": {},
   "outputs": [],
   "source": [
    "constrained_bounds = optimizer_xarray_builder(\n",
    "    np.array([[0, 1.2], [0, 1.5]]),\n",
    "    channel=[\"x1\", \"x2\"],\n",
    "    bound=[\"lower\", \"upper\"],\n",
    ")\n",
    "\n",
    "limit_constrained_allocation_strategy, limit_constrained_optimization_result = (\n",
    "    mmm.optimize_budget(\n",
    "        budget=2,\n",
    "        num_periods=campaign_period,\n",
    "        budget_bounds=constrained_bounds,\n",
    "    )\n",
    ")\n",
    "\n",
    "limit_constrained_response = mmm.sample_response_distribution(\n",
    "    allocation_strategy=limit_constrained_allocation_strategy,\n",
    "    time_granularity=model_granularity,\n",
    "    num_periods=campaign_period,\n",
    "    noise_level=0.01,\n",
    ")"
   ]
  },
  {
   "cell_type": "code",
   "execution_count": null,
   "metadata": {},
   "outputs": [],
   "source": [
    "fig, ax = mmm.plot_budget_allocation(\n",
    "    samples=limit_constrained_response, figsize=(12, 8)\n",
    ")\n",
    "ax.set_title(\"Response vs spent per channel\", fontsize=18, fontweight=\"bold\");"
   ]
  },
  {
   "cell_type": "code",
   "execution_count": null,
   "metadata": {},
   "outputs": [],
   "source": [
    "y_response_original_scale_optimize = (\n",
    "    limit_constrained_response[\"y\"] * mmm.get_target_transformer()[\"scaler\"].scale_\n",
    ")\n",
    "\n",
    "# Plotting optimized response\n",
    "y_response_original_scale_optimize.mean(dim=\"sample\").plot(\n",
    "    label=f\"Optimized Response | Daily spent {limit_constrained_allocation_strategy.sum():.2f}M\"\n",
    ")\n",
    "plt.fill_between(\n",
    "    x=y_response_original_scale_optimize.date.values,\n",
    "    y1=y_response_original_scale_optimize.quantile(0.025, dim=\"sample\"),\n",
    "    y2=y_response_original_scale_optimize.quantile(0.95, dim=\"sample\"),\n",
    "    alpha=0.1,\n",
    ")\n",
    "\n",
    "# Plotting initial budget response\n",
    "response_initial_budget[\"y\"].mean(dim=\"sample\").plot(\n",
    "    label=f\"Initial Budget Response | Daily spent {5.00}M\"\n",
    ")\n",
    "plt.fill_between(\n",
    "    x=response_initial_budget.y.date.values,\n",
    "    y1=response_initial_budget.y.quantile(0.025, dim=\"sample\"),\n",
    "    y2=response_initial_budget.y.quantile(0.95, dim=\"sample\"),\n",
    "    alpha=0.1,\n",
    ")\n",
    "\n",
    "# Adding labels, legend, and title\n",
    "plt.xlabel(\"Date\")\n",
    "plt.ylabel(\"Response\")\n",
    "plt.legend()\n",
    "plt.title(\n",
    "    \"Comparison of Optimized and Initial Budget Responses\",\n",
    "    fontsize=18,\n",
    "    fontweight=\"bold\",\n",
    ");"
   ]
  },
  {
   "cell_type": "markdown",
   "metadata": {},
   "source": [
    "The new result is much clearer. By using less than half of the budget with an optimal distribution, we could achieve the same outcomes as our initial setup, which distributed the budget evenly across all channels. On the other hand, the optimal allocation distributes the budget in levels known by the model, reducing the uncertainty around the estimated impact. This is because the initial allocation was at unprecedented levels of spend in the model, resulting in greater uncertainty.\n",
    "\n",
    "By default, if you need more prior knowledge about the limits, we recommend using alpha (the plateau) as the limit for each channel."
   ]
  },
  {
   "cell_type": "markdown",
   "metadata": {},
   "source": [
    "Please note that the estimate provided assumes consistent spending each week. However, in the field of marketing, even with a fixed spending level, the actual spending can fluctuate based on factors such as the number of people bidding on your ad or viewing ads on a given day.\n",
    "\n",
    "To account for this unpredictable variation, we have included a parameter called `noise_level` that allows you to introduce white noise into the projection. This can provide a sense of what the outcome might look like if the recommended budget could potentially fluctuate by a certain extent. The default value for `noise_level` is 1%, but you can adjust it as needed. In the example below, we have used a value of 10%."
   ]
  },
  {
   "cell_type": "code",
   "execution_count": null,
   "metadata": {},
   "outputs": [],
   "source": [
    "(\n",
    "    limit_constrained_allocation_strategy_with_noise,\n",
    "    limit_constrained_optimization_result_with_noise,\n",
    ") = mmm.optimize_budget(\n",
    "    budget=2,\n",
    "    num_periods=campaign_period,\n",
    "    budget_bounds=constrained_bounds,\n",
    ")\n",
    "\n",
    "limit_constrained_response_with_noise = mmm.sample_response_distribution(\n",
    "    allocation_strategy=limit_constrained_allocation_strategy_with_noise,\n",
    "    time_granularity=model_granularity,\n",
    "    num_periods=campaign_period,\n",
    "    noise_level=0.1,\n",
    ")"
   ]
  },
  {
   "cell_type": "code",
   "execution_count": null,
   "metadata": {},
   "outputs": [],
   "source": [
    "fig, ax = mmm.plot_budget_allocation(\n",
    "    samples=limit_constrained_response_with_noise, figsize=(12, 8)\n",
    ")\n",
    "ax.set_title(\"Response vs spent per channel\", fontsize=18, fontweight=\"bold\");"
   ]
  },
  {
   "cell_type": "code",
   "execution_count": null,
   "metadata": {},
   "outputs": [],
   "source": [
    "y_response_original_scale_optimize = (\n",
    "    limit_constrained_response_with_noise[\"y\"]\n",
    "    * mmm.get_target_transformer()[\"scaler\"].scale_\n",
    ")\n",
    "\n",
    "# Plotting optimized response\n",
    "y_response_original_scale_optimize.mean(dim=\"sample\").plot(\n",
    "    label=f\"Optimized Response | Daily spent {limit_constrained_allocation_strategy_with_noise.sum():.2f}M\"\n",
    ")\n",
    "plt.fill_between(\n",
    "    x=y_response_original_scale_optimize.date.values,\n",
    "    y1=y_response_original_scale_optimize.quantile(0.025, dim=\"sample\"),\n",
    "    y2=y_response_original_scale_optimize.quantile(0.95, dim=\"sample\"),\n",
    "    alpha=0.1,\n",
    ")\n",
    "\n",
    "# Plotting initial budget response\n",
    "response_initial_budget[\"y\"].mean(dim=\"sample\").plot(\n",
    "    label=f\"Initial Budget Response | Daily spent {5.00}M\"\n",
    ")\n",
    "plt.fill_between(\n",
    "    x=response_initial_budget.y.date.values,\n",
    "    y1=response_initial_budget.y.quantile(0.025, dim=\"sample\"),\n",
    "    y2=response_initial_budget.y.quantile(0.95, dim=\"sample\"),\n",
    "    alpha=0.1,\n",
    ")\n",
    "\n",
    "# Adding labels, legend, and title\n",
    "plt.xlabel(\"Date\")\n",
    "plt.ylabel(\"Response\")\n",
    "plt.legend()\n",
    "plt.title(\n",
    "    \"Comparison of Optimized and Initial Budget Responses\",\n",
    "    fontsize=18,\n",
    "    fontweight=\"bold\",\n",
    ");"
   ]
  },
  {
   "cell_type": "markdown",
   "metadata": {},
   "source": [
    "## Benefits and Limitations\n",
    "In marketing analytics, curve-fitted Media Mix Models (MMMs) provide enriching insights by simplifying intricate systems, facilitating optimization, aiding scenario planning, and delivering quantifiable metrics for strategy evaluation. Each of these advantages presents compelling reasons to incorporate such models. The optimization consider the delay effect overtime, meaning the optimization is generated across num_periods.\n",
    "\n",
    "Nevertheless, it is pivotal to acknowledge that these models do possess their own set of limitations. The primary ones are the assumptions of time invariance and generalized behavior, signifying an incomplete comprehension of market dynamics. The no-impact variance assumptions are not specific to the curves, as the model does not account for these effects. Hence, curves should always be carefully considered.\n",
    "\n",
    "We can explore other methods to optimize our resource differently. What happens if we don't have an specific budget? What happens if we want to know how much money we need to spend to reach a certain sales?\n",
    "\n",
    "## Creating custom constraints (adjusting towards a target response)\n",
    "Another way to approach optimization is to adjust towards a target response. This can be useful if you want to ensure that the response is above a certain level. Instead of optimize a given budget, we can optimize find the right budget to reach a target response.\n",
    "\n",
    "The following example shows how to create a custom constraint to minimize the budget to reach a target response. In short words, we are asking to the optimizer, what't the minimum budget to reach a certain response?"
   ]
  },
  {
   "cell_type": "code",
   "execution_count": null,
   "metadata": {},
   "outputs": [],
   "source": [
    "import pytensor\n",
    "import pytensor.tensor as pt\n",
    "\n",
    "from pymc_marketing.mmm.budget_optimizer import BudgetOptimizer\n",
    "from pymc_marketing.mmm.constraints import Constraint\n",
    "from pymc_marketing.mmm.utility import _check_samples_dimensionality\n",
    "\n",
    "target_response = 5\n",
    "\n",
    "\n",
    "def mean_response_eq_constraint_fun(budgets_sym, total_budget_sym, optimizer):\n",
    "    \"\"\"Enforces mean_response(budgets_sym) = target_response, i.e. returns (mean_resp - target_response).\"\"\"\n",
    "    resp_dist = optimizer.extract_response_distribution(\"total_contributions\")\n",
    "    mean_resp = pt.mean(_check_samples_dimensionality(resp_dist))\n",
    "    return mean_resp - target_response\n",
    "\n",
    "\n",
    "def minimize_budget_utility(samples, budgets):\n",
    "    return -pt.sum(budgets)\n",
    "\n",
    "\n",
    "optimizer = BudgetOptimizer(\n",
    "    num_periods=campaign_period,\n",
    "    model=mmm,\n",
    "    response_variable=\"total_contributions\",\n",
    "    utility_function=minimize_budget_utility,\n",
    "    default_constraints=False,\n",
    "    custom_constraints=[\n",
    "        Constraint(\n",
    "            key=\"target_response_constraint\",\n",
    "            constraint_fun=mean_response_eq_constraint_fun,\n",
    "            constraint_type=\"eq\",\n",
    "        )\n",
    "    ],\n",
    ")\n",
    "\n",
    "allocation, res = optimizer.allocate_budget(\n",
    "    total_budget=10,\n",
    "    budget_bounds=None,\n",
    ")\n",
    "\n",
    "print(\"Optimal allocation:\", allocation)\n",
    "print(\"Solver result:\", res)"
   ]
  },
  {
   "cell_type": "markdown",
   "metadata": {},
   "source": [
    "Great the optimization, reveals that with a budget of 1.9M we can reach a response of 5M response. We can also check the response distribution to see how the response would look like. As in other occasions, we can plot and get the full posterior."
   ]
  },
  {
   "cell_type": "code",
   "execution_count": null,
   "metadata": {},
   "outputs": [],
   "source": [
    "resp_dist_sym = optimizer.extract_response_distribution(\"total_contributions\")\n",
    "resp_mean_sym = pt.mean(_check_samples_dimensionality(resp_dist_sym))\n",
    "test_fn = pytensor.function([optimizer._budgets_flat], resp_mean_sym)\n",
    "\n",
    "# Try different budgets\n",
    "test_val_1 = test_fn(res.x)\n",
    "print(f\"Mean response for {res.x} = {test_val_1}\")"
   ]
  },
  {
   "cell_type": "code",
   "execution_count": null,
   "metadata": {},
   "outputs": [],
   "source": [
    "target_constrained_response = mmm.sample_response_distribution(\n",
    "    allocation_strategy=allocation,\n",
    "    time_granularity=model_granularity,\n",
    "    num_periods=campaign_period,\n",
    "    noise_level=0.01,\n",
    ")\n",
    "\n",
    "fig, ax = mmm.plot_budget_allocation(\n",
    "    samples=limit_constrained_response, figsize=(12, 8)\n",
    ")\n",
    "ax.set_title(\"Response vs spent per channel\", fontsize=18, fontweight=\"bold\");"
   ]
  },
  {
   "cell_type": "markdown",
   "metadata": {
    "id": "h6yOpHXE4OLE"
   },
   "source": [
    "## Other methods to explore\n",
    "Even if the method is promising, use other optimization options which includes the full posterior could be a powerful and interesting solution as it's described on the following blog [\"Using bayesian decision making to optimize supply chains\"](https://twiecki.io/blog/2019/01/14/supply_chain/)\n",
    "\n",
    "The current methodology is similar to the ones used on other libraries as [Robyn from Meta](https://facebookexperimental.github.io/Robyn/docs/features/#budget-allocation) and Google [Lightweight from Google](https://github.com/google/lightweight_mmm). You can explore the solutions and compare if needed.\n",
    "\n",
    "## Conclusion\n",
    "MMM models and methodologies used here are designed to bridge the gap between theoretical rigor and actionable marketing insights. They represent a significant stride towards a more data-driven, analytical approach to marketing budget allocation, which could change how organizations invest in customer acquisition and retention.\n",
    "\n",
    "Although it is a promising tool, it is essential to highlight that this methodology and software release is still experimental. Like any emerging technology, it comes with inherent limitations and assumptions that users should be aware of. The models can offer actionable insights, but they should be cautiously used and in tandem with various forms of analysis. Context is crucial, and while models aim to encapsulate general trends, they might not account for all nuances.\n",
    "\n",
    "Consequently, your engagements, feedback, and thoughts are not merely welcomed but actively solicited to make this tool as practical and universally applicable as possible."
   ]
  },
  {
   "cell_type": "code",
   "execution_count": null,
   "metadata": {},
   "outputs": [],
   "source": [
    "%load_ext watermark\n",
    "%watermark -n -u -v -iv -w -p pytensor"
   ]
  }
 ],
 "metadata": {
  "colab": {
   "provenance": []
  },
  "kernelspec": {
   "display_name": "pymc-marketing-dev",
   "language": "python",
   "name": "python3"
  },
  "language_info": {
   "codemirror_mode": {
    "name": "ipython",
    "version": 3
   },
   "file_extension": ".py",
   "mimetype": "text/x-python",
   "name": "python",
   "nbconvert_exporter": "python",
   "pygments_lexer": "ipython3",
   "version": "3.10.17"
  }
 },
 "nbformat": 4,
 "nbformat_minor": 4
}
