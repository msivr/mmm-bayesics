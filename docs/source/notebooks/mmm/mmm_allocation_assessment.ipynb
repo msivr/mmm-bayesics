{
 "cells": [
  {
   "cell_type": "markdown",
   "metadata": {},
   "source": [
    "(mmm_allocation_assessment)=\n",
    "# Budget Allocation Risk Assessment with PyMC-Marketing\n",
    "\n",
    "This notebook is centered around evaluating the risks tied to different budget allocations across various marketing channels. You'll discover how to create an optimal budget allocation that aligns with your specific risk tolerance. This knowledge will empower you to make well-informed decisions regarding your budget distribution.\n",
    "\n",
    "## Prerequisite Knowledge\n",
    "The notebook assumes the reader has knowledge of the essential functionalities of PyMC-Marketing. If one is unfamiliar, the [\"MMM Example Notebook\"](https://www.pymc-marketing.io/en/stable/notebooks/mmm/mmm_example.html) serves as an excellent starting point, offering a comprehensive introduction to media mix models in this context.\n",
    "\n",
    "## Expected Outcomes  \n",
    "Upon completion of this notebook, readers will acquire a comprehensive understanding of how to evaluate the risks associated with various budget allocations and how to develop an optimal budget allocation based on specified risk tolerance criteria.\n",
    "\n",
    "## Preliminary Setup  \n",
    "Consistent with previous notebooks in the PyMC-Marketing series, this document relies on a specific set of libraries. Below are the necessary imports required for executing the code snippets presented hereafter."
   ]
  },
  {
   "cell_type": "code",
   "execution_count": null,
   "metadata": {},
   "outputs": [],
   "source": [
    "import warnings\n",
    "\n",
    "import arviz as az\n",
    "import matplotlib.pyplot as plt\n",
    "import numpy as np\n",
    "\n",
    "from pymc_marketing.mmm import MMM\n",
    "\n",
    "warnings.filterwarnings(\"ignore\")\n",
    "\n",
    "az.style.use(\"arviz-darkgrid\")\n",
    "plt.rcParams[\"figure.figsize\"] = [12, 7]\n",
    "plt.rcParams[\"figure.dpi\"] = 100\n",
    "\n",
    "%load_ext autoreload\n",
    "%autoreload 2\n",
    "%config InlineBackend.figure_format = \"retina\""
   ]
  },
  {
   "cell_type": "markdown",
   "metadata": {},
   "source": [
    "The expectation is that a model has already been trained using the functionalities provided in prior versions of the PyMC-Marketing library. Thus, the data generation and training processes will be replicated in a different notebook. Those unfamiliar with these procedures are advised to refer to the [\"MMM Example Notebook.\"](https://www.pymc-marketing.io/en/stable/notebooks/mmm/mmm_example.html)\n",
    "\n",
    "## Loading a Pre-Trained Model\n",
    "To utilize a saved model, load it into a new instance of the MMM class using the load method below."
   ]
  },
  {
   "cell_type": "code",
   "execution_count": null,
   "metadata": {},
   "outputs": [],
   "source": [
    "mmm = MMM.load(\"model.nc\")"
   ]
  },
  {
   "cell_type": "markdown",
   "metadata": {},
   "source": [
    "## Formulating the Budget Allocation Challenge  \n",
    "As in earlier notebooks, it is essential to delineate the budget allocation challenge. Specifically, we must define the duration of our budget allocation and the permissible expenditure per time unit. Our model utilizes weekly data; therefore, we will maintain the same temporal granularity.\n",
    "\n",
    "In this example, we aim to distribute a budget across two channels over the course of eight weeks, with a weekly budget of 3 Million. Consequently, the total budget available for allocation amounts to 24 Million."
   ]
  },
  {
   "cell_type": "code",
   "execution_count": null,
   "metadata": {},
   "outputs": [],
   "source": [
    "num_periods = (\n",
    "    8  # Number of time periods to allocate the budget (weeks for this example)\n",
    ")\n",
    "time_unit_budget = 3  # Imagine is 3K or 3M (per week in this case)\n",
    "\n",
    "# Define your channels\n",
    "channels = [\"x1\", \"x2\"]\n",
    "\n",
    "print(f\"Total budget to allocate: {num_periods * time_unit_budget}M\")"
   ]
  },
  {
   "cell_type": "markdown",
   "metadata": {},
   "source": [
    "Based on our intuition, we were thinking of distributing this million into 2.5 Million for Google ($x2$) and 0.5 Million for Facebook ($x1$). Using this allocation, we can compute the response distribution and plot it."
   ]
  },
  {
   "cell_type": "code",
   "execution_count": null,
   "metadata": {},
   "outputs": [],
   "source": [
    "initial_allocation = {\"x1\": 0.5, \"x2\": 2.5}\n",
    "initial_posterior_response = mmm.sample_response_distribution(\n",
    "    allocation_strategy=initial_allocation,\n",
    "    time_granularity=\"weekly\",\n",
    "    num_periods=num_periods,\n",
    "    noise_level=0.01,\n",
    ")\n",
    "\n",
    "fig, ax = mmm.plot_budget_allocation(\n",
    "    samples=initial_posterior_response, figsize=(12, 8)\n",
    ")\n",
    "ax.set_title(\"Response vs spent per channel\", fontsize=18, fontweight=\"bold\");"
   ]
  },
  {
   "cell_type": "code",
   "execution_count": null,
   "metadata": {},
   "outputs": [],
   "source": [
    "# Plot the response distribution by Arviz\n",
    "az.plot_posterior(\n",
    "    initial_posterior_response.channel_contributions.sum(dim=\"channel\")\n",
    "    .mean(dim=\"date\")\n",
    "    .values.flatten()\n",
    "    * mmm.target_transformer[\"scaler\"].scale_.item(),\n",
    "    hdi_prob=0.95,\n",
    ")\n",
    "plt.title(\"Response Distribution at 95% HDI (highest density interval)\");"
   ]
  },
  {
   "cell_type": "markdown",
   "metadata": {},
   "source": [
    "This is great, apparently we could get 4.4M units sold given our 3M budget which is mostly allocated to $X2$.\n",
    "\n",
    "Could we do better? The usual approach is to allocate the budget to maximize the response. We can use the `optimize_budget` method to do so, here we will compute the response given several budget combinations, and we'll prefer the one that maximizes the response. It's important to note that this example doesn't use any bounds, or constraints, so the optimizer will seek to use the entire budget."
   ]
  },
  {
   "cell_type": "code",
   "execution_count": null,
   "metadata": {},
   "outputs": [],
   "source": [
    "model_granularity = \"weekly\"\n",
    "allocation_strategy, optimization_result = mmm.optimize_budget(\n",
    "    budget=time_unit_budget,\n",
    "    num_periods=num_periods,\n",
    ")\n",
    "\n",
    "naive_posterior_response = mmm.sample_response_distribution(\n",
    "    allocation_strategy=allocation_strategy,\n",
    "    time_granularity=model_granularity,\n",
    "    num_periods=num_periods,\n",
    "    noise_level=0.01,\n",
    ")\n",
    "\n",
    "print(f\"Budget allocation: {naive_posterior_response.allocation.to_numpy()}\")\n",
    "print(\n",
    "    f\"Total Allocated Budget: {np.sum(naive_posterior_response.allocation.to_numpy())}M\"\n",
    ")\n",
    "\n",
    "fig, ax = mmm.plot_budget_allocation(samples=naive_posterior_response, figsize=(12, 8))\n",
    "ax.set_title(\"Response vs spent per channel\", fontsize=18, fontweight=\"bold\");"
   ]
  },
  {
   "cell_type": "markdown",
   "metadata": {},
   "source": [
    "Great! Looks like we could get 5M units sold given our 3M budget, meaning the optimizer found a better allocation which maximizes the response for the same budget. We could follow the same approach and plot the two distributions to compare them."
   ]
  },
  {
   "cell_type": "code",
   "execution_count": null,
   "metadata": {},
   "outputs": [],
   "source": [
    "# Plot the response distribution by Arviz\n",
    "fig, ax = plt.subplots()\n",
    "az.plot_posterior(\n",
    "    naive_posterior_response.channel_contributions.sum(dim=\"channel\")\n",
    "    .mean(dim=\"date\")\n",
    "    .values.flatten()\n",
    "    * mmm.target_transformer[\"scaler\"].scale_.item(),\n",
    "    hdi_prob=0.95,\n",
    "    color=\"blue\",\n",
    "    label=\"Optimized allocation\",\n",
    "    ax=ax,\n",
    ")\n",
    "az.plot_posterior(\n",
    "    initial_posterior_response.channel_contributions.sum(dim=\"channel\")\n",
    "    .mean(dim=\"date\")\n",
    "    .values.flatten()\n",
    "    * mmm.target_transformer[\"scaler\"].scale_.item(),\n",
    "    hdi_prob=0.95,\n",
    "    color=\"red\",\n",
    "    label=\"Guessed allocation\",\n",
    "    ax=ax,\n",
    ")\n",
    "plt.title(\"Response Distribution at 95% HDI (highest density interval)\")\n",
    "plt.legend()\n",
    "plt.show()"
   ]
  },
  {
   "cell_type": "markdown",
   "metadata": {},
   "source": [
    "This makes everything clear, the optimized allocation has a higher mean. But looks like the optimized allocation has a higher risk, as the distribution is wider, respect to the initial guessed allocation.\n",
    "\n",
    "Based on this, using the optimized allocation its very likely to get a respose of 5M units sold but also the budget could bring as low as 4.5M units sold or as big as 5.6M units sold. On the other hand, using the guessed allocation its very likely to get a respose of 4.4M units sold but also the budget could bring as low as 3.7M units sold or as big as 5.4M units sold. \n",
    "\n",
    "Here the answer looks clear, the optimization brings a higher mean, but with lower risk. But that would be always the case? \n",
    "\n",
    "During this notebook will give you the tools to answer this question. If you face a situation where the best bet is not the safer bet, which one would you prefer? Higher mean, but with more risk? Or lower mean, but with less risk? A safer bet or a riskier bet?\n",
    "\n",
    "This is where risk assessment comes into play, we can use different risk assessment criteria to help us decide which allocation is better based on our risk tolerance."
   ]
  },
  {
   "cell_type": "markdown",
   "metadata": {},
   "source": [
    "## Introduction to Risk Assessment\n",
    "\n",
    "The `budget_optimizer` module encompasses various risk assessment criteria that facilitate the evaluation of risks associated with different budget allocations.\n",
    "\n",
    "Utilization of the `ut` class allows for the computation of risks linked to various budget allocations. Should the need arise to implement a customized risk assessment criterion, one can develop an individual function and incorporate it into the `optimize_budget` method as necessary. Subsequently, guidance on creating a personalized risk assessment criterion will be provided. "
   ]
  },
  {
   "cell_type": "code",
   "execution_count": null,
   "metadata": {},
   "outputs": [],
   "source": [
    "from pymc_marketing.mmm import utility as ut"
   ]
  },
  {
   "cell_type": "markdown",
   "metadata": {},
   "source": [
    "## Optimizing Budget Allocation Using Mean Tightness Score (MTS)\n",
    "\n",
    "This section focuses on the optimization of marketing budget allocation while incorporating risk considerations. Specifically, we employ the Mean Tightness Score (MTS) as the utility function to ensure that our budget plan effectively minimizes potential losses within a defined HDI (highest density interval).\n",
    "\n",
    "### Overview of the Process\n",
    "\n",
    "We invoke `mmm.optimize_budget` to ascertain the optimal allocation of the marketing budget across various channels over specified time periods, mirroring the approach undertaken in the prior section.\n",
    "\n",
    "The parameters remain consistent with those from the preceding section, with the addition of the `utility_function` parameters. In this instance:\n",
    "- `utility_function`: This parameter is assigned to `mean_tightness_score`.\n",
    "\n",
    "The Mean Tightness Score represents a risk-adjusted metric that harmonizes the mean return with the tail variability within a distribution. This metric is computed as follows:\n",
    "\n",
    "$$\n",
    "Mean\\ Tightness\\ Score = \\mu - \\alpha \\cdot Tail\\ Distance\n",
    "$$\n",
    "\n",
    "In this formula, $\\mu$ signifies the mean of the sample returns, $Tail\\ Distance$ represents the tail distance metric, and $\\alpha$ denotes the risk tolerance parameter."
   ]
  },
  {
   "cell_type": "code",
   "execution_count": null,
   "metadata": {},
   "outputs": [],
   "source": [
    "ut.mean_tightness_score?"
   ]
  },
  {
   "cell_type": "code",
   "execution_count": null,
   "metadata": {},
   "outputs": [],
   "source": [
    "mts_budget_allocation, mts_optimizer_result = mmm.optimize_budget(\n",
    "    budget=time_unit_budget,\n",
    "    num_periods=num_periods,\n",
    "    utility_function=ut.mean_tightness_score(alpha=0.9),\n",
    ")\n",
    "\n",
    "mts_posterior_response = mmm.sample_response_distribution(\n",
    "    allocation_strategy=mts_budget_allocation,\n",
    "    time_granularity=model_granularity,\n",
    "    num_periods=num_periods,\n",
    "    noise_level=0.01,\n",
    ")\n",
    "\n",
    "print(f\"Budget allocation: {mts_posterior_response.allocation.to_numpy()}\")\n",
    "print(\n",
    "    f\"Total Allocated Budget: {np.sum(mts_posterior_response.allocation.to_numpy())}M\"\n",
    ")\n",
    "\n",
    "fig, ax = mmm.plot_budget_allocation(samples=mts_posterior_response, figsize=(12, 8))\n",
    "ax.set_title(\"Response vs spent per channel\", fontsize=18, fontweight=\"bold\");"
   ]
  },
  {
   "cell_type": "markdown",
   "metadata": {},
   "source": [
    "The majority of the budget is allocated to $X1$. This allocation has been determined to minimize potential risk. Essentially, this approach indicates that we are prepared to accept lower returns if those returns are characterized by a higher degree of certainty. This is evident in the response distribution plot, which should exhibit a tight distribution with narrow tails."
   ]
  },
  {
   "cell_type": "code",
   "execution_count": null,
   "metadata": {},
   "outputs": [],
   "source": [
    "fig, ax = plt.subplots()\n",
    "az.plot_dist(\n",
    "    naive_posterior_response.channel_contributions.sum(dim=\"channel\")\n",
    "    .mean(dim=\"date\")\n",
    "    .values.flatten()\n",
    "    * mmm.target_transformer[\"scaler\"].scale_.item(),\n",
    "    color=\"blue\",\n",
    "    label=\"Non-risk optimized allocation\",\n",
    "    ax=ax,\n",
    "    rug=True,\n",
    ")\n",
    "az.plot_dist(\n",
    "    mts_posterior_response.channel_contributions.sum(dim=\"channel\")\n",
    "    .mean(dim=\"date\")\n",
    "    .values.flatten()\n",
    "    * mmm.target_transformer[\"scaler\"].scale_.item(),\n",
    "    color=\"orange\",\n",
    "    label=\"MTS optimized allocation\",\n",
    "    ax=ax,\n",
    "    rug=True,\n",
    ")\n",
    "plt.axvline(\n",
    "    x=naive_posterior_response.channel_contributions.sum(dim=\"channel\")\n",
    "    .mean(dim=\"date\")\n",
    "    .values.flatten()\n",
    "    .mean()\n",
    "    * mmm.target_transformer[\"scaler\"].scale_.item(),\n",
    "    color=\"blue\",\n",
    "    linestyle=\"--\",\n",
    ")\n",
    "plt.axvline(\n",
    "    x=mts_posterior_response.channel_contributions.sum(dim=\"channel\")\n",
    "    .mean(dim=\"date\")\n",
    "    .values.flatten()\n",
    "    .mean()\n",
    "    * mmm.target_transformer[\"scaler\"].scale_.item(),\n",
    "    color=\"orange\",\n",
    "    linestyle=\"--\",\n",
    ")\n",
    "plt.title(\"Response Distribution at 95% HDI (highest density interval)\")\n",
    "plt.legend()\n",
    "plt.show()"
   ]
  },
  {
   "cell_type": "markdown",
   "metadata": {},
   "source": [
    "Looks like budgets didn't change much, but the risk is a bit lower compared to the non-risk optimized allocation, if we observe the distributions the density is narrower for the MTS optimized allocation, even when the MTS optimized allocation has almost the same mean.\n",
    "\n",
    "This strategy is logical, as $X1$ demonstrates a response with reduced uncertainty, whereas $X2$ is associated with greater uncertainty. Consequently, the optimizer allocates a larger portion of the budget to $X1$, as it represents a more secure investment option."
   ]
  },
  {
   "cell_type": "code",
   "execution_count": null,
   "metadata": {},
   "outputs": [],
   "source": [
    "mmm.plot_direct_contribution_curves(show_fit=True, xlim_max=1.5);"
   ]
  },
  {
   "cell_type": "markdown",
   "metadata": {},
   "source": [
    "We can exhibit this behavior on a more evident way; if we want to maximize a response that is less certain, we should get the opposite scenario. Let's set the mean tightness score with a lower alpha parameter, meaning, we have a higher risk tolerance."
   ]
  },
  {
   "cell_type": "code",
   "execution_count": null,
   "metadata": {},
   "outputs": [],
   "source": [
    "mts_budget_allocation_high_risk, mts_optimizer_result_high_risk = mmm.optimize_budget(\n",
    "    budget=time_unit_budget,\n",
    "    num_periods=num_periods,\n",
    "    utility_function=ut.mean_tightness_score(alpha=0.3),\n",
    ")\n",
    "\n",
    "mts_posterior_response_high_risk = mmm.sample_response_distribution(\n",
    "    allocation_strategy=mts_budget_allocation_high_risk,\n",
    "    time_granularity=model_granularity,\n",
    "    num_periods=num_periods,\n",
    "    noise_level=0.01,\n",
    ")\n",
    "\n",
    "print(f\"Budget allocation: {mts_posterior_response_high_risk.allocation.to_numpy()}\")\n",
    "print(\n",
    "    f\"Total Allocated Budget: {np.sum(mts_posterior_response_high_risk.allocation.to_numpy())}M\"\n",
    ")\n",
    "\n",
    "fig, ax = mmm.plot_budget_allocation(\n",
    "    samples=mts_posterior_response_high_risk, figsize=(12, 8)\n",
    ")\n",
    "ax.set_title(\"Response vs spent per channel\", fontsize=18, fontweight=\"bold\");"
   ]
  },
  {
   "cell_type": "markdown",
   "metadata": {},
   "source": [
    "We are spending more in $X2$, and less in $X1$ compared to the previous allocation. Let's see the response distribution plot, again to compare it with the previous one."
   ]
  },
  {
   "cell_type": "code",
   "execution_count": null,
   "metadata": {},
   "outputs": [],
   "source": [
    "fig, ax = plt.subplots()\n",
    "az.plot_dist(\n",
    "    mts_posterior_response.channel_contributions.sum(dim=\"channel\")\n",
    "    .mean(dim=\"date\")\n",
    "    .values.flatten()\n",
    "    * mmm.target_transformer[\"scaler\"].scale_.item(),\n",
    "    color=\"orange\",\n",
    "    label=\"MTS optimized allocation with low risk\",\n",
    "    ax=ax,\n",
    "    rug=True,\n",
    ")\n",
    "az.plot_dist(\n",
    "    mts_posterior_response_high_risk.channel_contributions.sum(dim=\"channel\")\n",
    "    .mean(dim=\"date\")\n",
    "    .values.flatten()\n",
    "    * mmm.target_transformer[\"scaler\"].scale_.item(),\n",
    "    color=\"red\",\n",
    "    label=\"MTS optimized allocation with high risk\",\n",
    "    ax=ax,\n",
    "    rug=True,\n",
    ")\n",
    "plt.axvline(\n",
    "    x=mts_posterior_response.channel_contributions.sum(dim=\"channel\")\n",
    "    .mean(dim=\"date\")\n",
    "    .values.flatten()\n",
    "    .mean()\n",
    "    * mmm.target_transformer[\"scaler\"].scale_.item(),\n",
    "    color=\"orange\",\n",
    "    linestyle=\"--\",\n",
    ")\n",
    "plt.axvline(\n",
    "    x=mts_posterior_response_high_risk.channel_contributions.sum(dim=\"channel\")\n",
    "    .mean(dim=\"date\")\n",
    "    .values.flatten()\n",
    "    .mean()\n",
    "    * mmm.target_transformer[\"scaler\"].scale_.item(),\n",
    "    color=\"red\",\n",
    "    linestyle=\"--\",\n",
    ")\n",
    "plt.title(\"Response Distribution at 95% HDI (highest density interval)\")\n",
    "plt.legend()\n",
    "plt.show()"
   ]
  },
  {
   "cell_type": "markdown",
   "metadata": {},
   "source": [
    "As expected, the distribution has bigger tails now, and the mean is higher as well. We got bigger returns, but with more risk. The extra risk is coming from the additional budget allocated to $X2$."
   ]
  },
  {
   "cell_type": "markdown",
   "metadata": {},
   "source": [
    "## Optimizing Budget Allocation through ROAS and Value at Risk (VaR)\n",
    "\n",
    "In order to enhance decision-making regarding budget allocation, we can integrate various risk assessment criteria to develop a more sophisticated utility function. In this context, we will utilize the Return on Advertising Spend (ROAS) associated with each allocation, alongside the Value at Risk (VaR) as our risk assessment criterion. This approach will facilitate the identification of the allocation that maximizes ROAS while concurrently minimizing potential risks.\n",
    "\n",
    "Value at Risk is a statistical method employed to quantify the risk of financial loss within a portfolio or investment. Within the realm of marketing, it assists in understanding the potential worst-case loss (ROAS) associated with a particular budget allocation, evaluated at a specified HDI (highest density interval). By minimizing VaR, we aim to select an allocation that ensures, even in adverse scenarios, the ROAS remains as elevated as feasibly possible."
   ]
  },
  {
   "cell_type": "code",
   "execution_count": null,
   "metadata": {},
   "outputs": [],
   "source": [
    "def value_at_roas(confidence_level=0.9):\n",
    "    \"\"\"Calculate the Value at Risk (VaR) based on the ROAS distribution.\"\"\"\n",
    "\n",
    "    def _value_at_roas(samples, budgets):\n",
    "        roas_samples = ut._calculate_roas_distribution_for_allocation(samples, budgets)\n",
    "        return ut.value_at_risk(confidence_level=confidence_level)(\n",
    "            samples=roas_samples, budgets=budgets\n",
    "        )\n",
    "\n",
    "    return _value_at_roas\n",
    "\n",
    "\n",
    "mts_roas_budget_allocation, mts_roas_optimizer_result = mmm.optimize_budget(\n",
    "    budget=time_unit_budget,\n",
    "    num_periods=num_periods,\n",
    "    utility_function=value_at_roas(confidence_level=0.9),\n",
    ")\n",
    "\n",
    "mts_roas_posterior_response = mmm.sample_response_distribution(\n",
    "    allocation_strategy=mts_roas_budget_allocation,\n",
    "    time_granularity=model_granularity,\n",
    "    num_periods=num_periods,\n",
    "    noise_level=0.01,\n",
    ")\n",
    "\n",
    "print(f\"Budget allocation: {mts_roas_posterior_response.allocation.to_numpy()}\")\n",
    "print(\n",
    "    f\"Total Allocated Budget: {np.sum(mts_roas_posterior_response.allocation.to_numpy())}M\"\n",
    ")\n",
    "\n",
    "fig, ax = mmm.plot_budget_allocation(\n",
    "    samples=mts_roas_posterior_response, figsize=(12, 8)\n",
    ")\n",
    "ax.set_title(\"Response vs spent per channel\", fontsize=18, fontweight=\"bold\");"
   ]
  },
  {
   "cell_type": "markdown",
   "metadata": {},
   "source": [
    "The optimizer is once again allocating the budget to $X1$. However, this decision is informed by the expectation that the current combination will yield a higher Return on Advertising Spend (ROAS), while also presenting a small lower risk profile compared to the previous allocation."
   ]
  },
  {
   "cell_type": "code",
   "execution_count": null,
   "metadata": {},
   "outputs": [],
   "source": [
    "fig, ax = plt.subplots()\n",
    "az.plot_dist(\n",
    "    mts_posterior_response.channel_contributions.sum(dim=\"channel\")\n",
    "    .mean(dim=\"date\")\n",
    "    .values.flatten()\n",
    "    * mmm.target_transformer[\"scaler\"].scale_.item(),\n",
    "    color=\"green\",\n",
    "    label=\"MTS optimized allocation with low risk\",\n",
    "    ax=ax,\n",
    "    rug=True,\n",
    ")\n",
    "az.plot_dist(\n",
    "    mts_roas_posterior_response.channel_contributions.sum(dim=\"channel\")\n",
    "    .mean(dim=\"date\")\n",
    "    .values.flatten()\n",
    "    * mmm.target_transformer[\"scaler\"].scale_.item(),\n",
    "    color=\"red\",\n",
    "    label=\"MTS ROAS optimized allocation\",\n",
    "    ax=ax,\n",
    "    rug=True,\n",
    ")\n",
    "plt.axvline(\n",
    "    x=mts_posterior_response.channel_contributions.sum(dim=\"channel\")\n",
    "    .mean(dim=\"date\")\n",
    "    .values.flatten()\n",
    "    .mean()\n",
    "    * mmm.target_transformer[\"scaler\"].scale_.item(),\n",
    "    color=\"green\",\n",
    "    linestyle=\"--\",\n",
    ")\n",
    "plt.axvline(\n",
    "    x=mts_roas_posterior_response.channel_contributions.sum(dim=\"channel\")\n",
    "    .mean(dim=\"date\")\n",
    "    .values.flatten()\n",
    "    .mean()\n",
    "    * mmm.target_transformer[\"scaler\"].scale_.item(),\n",
    "    color=\"red\",\n",
    "    linestyle=\"--\",\n",
    ")\n",
    "plt.legend()\n",
    "plt.show()"
   ]
  },
  {
   "cell_type": "markdown",
   "metadata": {},
   "source": [
    "## Custom Risk Assessment Criterion\n",
    "We have the capacity to establish a bespoke risk assessment criterion by formulating a function that inputs the samples and assets and outputs a scalar value to be optimized. In this context, our objective is to maximize the value at risk, with particular consideration given to the diversification ratio.\n",
    "\n",
    "We aim to favor allocation strategies that exhibit the highest mean tightness score, while simultaneously ensuring a high level of diversification across marketing channels. As we already possess a foundational understanding of value at risk, we will concentrate our efforts on portfolio entropy."
   ]
  },
  {
   "cell_type": "code",
   "execution_count": null,
   "metadata": {},
   "outputs": [],
   "source": [
    "(\n",
    "    ut.portfolio_entropy(samples=None, budgets=np.array([0.1, 9.9])).eval(),\n",
    "    ut.portfolio_entropy(samples=None, budgets=np.array([5, 5])).eval(),\n",
    ")"
   ]
  },
  {
   "cell_type": "markdown",
   "metadata": {},
   "source": [
    "We can see that the portfolio entropy is higher when the budget is allocated evenly, meaning that the diversification is higher.\n",
    "\n",
    "Now, we can create our own risk assessment criterion by combining the value at risk and the portfolio entropy. In this case, we'll compute the mean tightness score and will multiply the response by the entropy in the portafolio. This will moderate our score, and we'll prefer the allocation that has the highest score, but with a high diversification between the marketing channels."
   ]
  },
  {
   "cell_type": "code",
   "execution_count": null,
   "metadata": {},
   "outputs": [],
   "source": [
    "def mts_with_diversification(alpha, confidence_level):\n",
    "    def _mts_with_diversification(samples, budgets):\n",
    "        return ut.mean_tightness_score(alpha, confidence_level)(samples, budgets) * (\n",
    "            1 + ut.portfolio_entropy(samples=None, budgets=budgets)\n",
    "        )\n",
    "\n",
    "    return _mts_with_diversification"
   ]
  },
  {
   "cell_type": "code",
   "execution_count": null,
   "metadata": {},
   "outputs": [],
   "source": [
    "mts_diversification_budget_allocation, mts_diversification_optimizer_result = (\n",
    "    mmm.optimize_budget(\n",
    "        budget=time_unit_budget,\n",
    "        num_periods=num_periods,\n",
    "        utility_function=mts_with_diversification(alpha=0.9, confidence_level=0.7),\n",
    "    )\n",
    ")\n",
    "\n",
    "mts_diversification_posterior_response = mmm.sample_response_distribution(\n",
    "    allocation_strategy=mts_diversification_budget_allocation,\n",
    "    time_granularity=model_granularity,\n",
    "    num_periods=num_periods,\n",
    "    noise_level=0.01,\n",
    ")\n",
    "\n",
    "print(\n",
    "    f\"Budget allocation: {mts_diversification_posterior_response.allocation.to_numpy()}\"\n",
    ")\n",
    "print(\n",
    "    f\"Total Allocated Budget: {np.sum(mts_diversification_posterior_response.allocation.to_numpy())}M\"\n",
    ")\n",
    "\n",
    "fig, ax = mmm.plot_budget_allocation(\n",
    "    samples=mts_diversification_posterior_response, figsize=(12, 8)\n",
    ")\n",
    "ax.set_title(\"Response vs spent per channel\", fontsize=18, fontweight=\"bold\");"
   ]
  },
  {
   "cell_type": "markdown",
   "metadata": {},
   "source": [
    "We can see that the optimizer is allocating the budget more evenly between the two channels ($X1$ and $X2$), they are spending almost the same amount. This allocation is more balanced than the previous ones. Nevertheless, the total allocated budget is more balanced, the risk is higher, in response terms."
   ]
  },
  {
   "cell_type": "code",
   "execution_count": null,
   "metadata": {},
   "outputs": [],
   "source": [
    "fig, ax = plt.subplots()\n",
    "az.plot_dist(\n",
    "    mts_posterior_response.channel_contributions.sum(dim=\"channel\")\n",
    "    .mean(dim=\"date\")\n",
    "    .values.flatten()\n",
    "    * mmm.target_transformer[\"scaler\"].scale_.item(),\n",
    "    color=\"green\",\n",
    "    label=\"MTS optimized allocation with low risk\",\n",
    "    ax=ax,\n",
    "    rug=True,\n",
    ")\n",
    "az.plot_dist(\n",
    "    mts_diversification_posterior_response.channel_contributions.sum(dim=\"channel\")\n",
    "    .mean(dim=\"date\")\n",
    "    .values.flatten()\n",
    "    * mmm.target_transformer[\"scaler\"].scale_.item(),\n",
    "    color=\"red\",\n",
    "    label=\"MTS with diversification\",\n",
    "    ax=ax,\n",
    "    rug=True,\n",
    ")\n",
    "plt.title(\"Response Distribution\");"
   ]
  },
  {
   "cell_type": "code",
   "execution_count": null,
   "metadata": {},
   "outputs": [],
   "source": [
    "# Plot all the response distributions one next to each other in the same figure\n",
    "fig, ax = plt.subplots(figsize=(12, 7))\n",
    "# remove the descriptions in the plot of mean and interval\n",
    "az.plot_dist(\n",
    "    naive_posterior_response.channel_contributions.sum(dim=\"channel\")\n",
    "    .mean(dim=\"date\")\n",
    "    .values.flatten()\n",
    "    * mmm.target_transformer[\"scaler\"].scale_.item(),\n",
    "    ax=ax,\n",
    "    color=\"pink\",\n",
    "    label=\"Non-Risk optimized allocation\",\n",
    "    rug=True,\n",
    ")\n",
    "az.plot_dist(\n",
    "    mts_diversification_posterior_response.channel_contributions.sum(dim=\"channel\")\n",
    "    .mean(dim=\"date\")\n",
    "    .values.flatten()\n",
    "    * mmm.target_transformer[\"scaler\"].scale_.item(),\n",
    "    ax=ax,\n",
    "    color=\"red\",\n",
    "    label=\"MTS with diversification optimized allocation\",\n",
    "    rug=True,\n",
    ")\n",
    "az.plot_dist(\n",
    "    mts_posterior_response_high_risk.channel_contributions.sum(dim=\"channel\")\n",
    "    .mean(dim=\"date\")\n",
    "    .values.flatten()\n",
    "    * mmm.target_transformer[\"scaler\"].scale_.item(),\n",
    "    ax=ax,\n",
    "    color=\"blue\",\n",
    "    label=\"MTS with high risk optimized allocation\",\n",
    "    rug=True,\n",
    ")\n",
    "az.plot_dist(\n",
    "    mts_roas_posterior_response.channel_contributions.sum(dim=\"channel\")\n",
    "    .mean(dim=\"date\")\n",
    "    .values.flatten()\n",
    "    * mmm.target_transformer[\"scaler\"].scale_.item(),\n",
    "    ax=ax,\n",
    "    color=\"black\",\n",
    "    label=\"MTS ROAS optimized allocation\",\n",
    "    rug=True,\n",
    ")\n",
    "az.plot_dist(\n",
    "    mts_posterior_response.channel_contributions.sum(dim=\"channel\")\n",
    "    .mean(dim=\"date\")\n",
    "    .values.flatten()\n",
    "    * mmm.target_transformer[\"scaler\"].scale_.item(),\n",
    "    ax=ax,\n",
    "    color=\"green\",\n",
    "    label=\"MTS optimized allocation with low risk\",\n",
    "    rug=True,\n",
    ")\n",
    "ax.set_title(\"Response Distribution at 95% HDI (highest density interval)\");"
   ]
  },
  {
   "cell_type": "markdown",
   "metadata": {},
   "source": [
    "Great, here its clear how different strategies can lead to similar results, but with different risk profiles. Some distributions are more narrow, and some are more spread based on the risk tolerance.\n",
    "\n",
    "## Conclusion  \n",
    "In this notebook, we have examined the methodology for assessing the risk associated with various budget allocations, utilizing distinct strategies. We have also demonstrated how to generate an optimal budget allocation that aligns with a specified risk tolerance criterion. Three separate risk assessment metrics were employed: the Mean Tightness Score (MTS), Value at Risk (VaR), and a custom criterion that integrates both the mean tightness score and the diversification ratio.\n",
    "\n",
    "## Next Steps  \n",
    "It is essential to recognize that not all risk assessment criteria are compatible with the output without appropriate transformations. For instance, to compute the VaR, we analyzed the Return on Advertising Spend (ROAS) distribution; utilizing the response distribution directly would not adhere to the assumptions inherent in the VaR formula, potentially resulting in inconsistent or nonsensical outcomes.\n",
    "\n",
    "The next step is for you to develop your own risk assessment criterion and apply it to optimize your budget allocation."
   ]
  },
  {
   "cell_type": "code",
   "execution_count": null,
   "metadata": {},
   "outputs": [],
   "source": [
    "%load_ext watermark\n",
    "%watermark -n -u -v -iv -w -p pytensor"
   ]
  }
 ],
 "metadata": {
  "kernelspec": {
   "display_name": "pymc-marketing-dev",
   "language": "python",
   "name": "python3"
  },
  "language_info": {
   "codemirror_mode": {
    "name": "ipython",
    "version": 3
   },
   "file_extension": ".py",
   "mimetype": "text/x-python",
   "name": "python",
   "nbconvert_exporter": "python",
   "pygments_lexer": "ipython3",
   "version": "3.10.16"
  }
 },
 "nbformat": 4,
 "nbformat_minor": 4
}
